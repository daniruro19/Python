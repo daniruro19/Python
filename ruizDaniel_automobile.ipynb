{
  "nbformat": 4,
  "nbformat_minor": 0,
  "metadata": {
    "colab": {
      "provenance": [],
      "include_colab_link": true
    },
    "kernelspec": {
      "name": "python3",
      "display_name": "Python 3"
    },
    "language_info": {
      "name": "python"
    }
  },
  "cells": [
    {
      "cell_type": "markdown",
      "metadata": {
        "id": "view-in-github",
        "colab_type": "text"
      },
      "source": [
        "<a href=\"https://colab.research.google.com/github/daniruro19/Python/blob/main/ruizDaniel_automobile.ipynb\" target=\"_parent\"><img src=\"https://colab.research.google.com/assets/colab-badge.svg\" alt=\"Open In Colab\"/></a>"
      ]
    },
    {
      "cell_type": "markdown",
      "source": [
        "# Importación de datos"
      ],
      "metadata": {
        "id": "fawZtFO9Bhlg"
      }
    },
    {
      "cell_type": "markdown",
      "source": [
        "## Descargar dataset"
      ],
      "metadata": {
        "id": "QegUqCW5BZZc"
      }
    },
    {
      "cell_type": "markdown",
      "source": [
        "Fuente: https://archive.ics.uci.edu/ml/datasets/automobile\n",
        "\n",
        "Datos: https://archive.ics.uci.edu/ml/machine-learning-databases/autos/imports-85.data\n",
        "\n",
        "Atributos: https://archive.ics.uci.edu/ml/machine-learning-databases/autos/imports-85.names"
      ],
      "metadata": {
        "id": "7EgpExVAHYAV"
      }
    },
    {
      "cell_type": "code",
      "execution_count": 142,
      "metadata": {
        "id": "HOOViqU2BUv4"
      },
      "outputs": [],
      "source": [
        "!wget -qP datasets/ https://archive.ics.uci.edu/ml/machine-learning-databases/autos/imports-85.data\n",
        "\n",
        "!wget -qP datasets/ https://archive.ics.uci.edu/ml/machine-learning-databases/autos/imports-85.names"
      ]
    },
    {
      "cell_type": "markdown",
      "source": [
        "## Asignar dataset"
      ],
      "metadata": {
        "id": "FGyyOEe9B2Lg"
      }
    },
    {
      "cell_type": "markdown",
      "source": [
        "El dataset contiene información sobre 205 automóviles y sus precios, aunque\n",
        "no incluye los nombres de las columnas; esta información se encuentra en un archivo adicional. Concretamente, el dataset contiene:\n",
        "\n",
        "i) información de un automóvil en términos de diversas características, \n",
        "\n",
        "ii) su nivel de riesgo en relación con el seguro, y\n",
        "\n",
        "iii) el pago medio relativo de los siniestros ocurridos por año de seguro. \n",
        "\n",
        "Finalmente, cada fila del dataset contiene información sobre el precio por el que se vendió dicho vehículo. Esta sera la variable objetivo."
      ],
      "metadata": {
        "id": "wDh7bVJXlcQD"
      }
    },
    {
      "cell_type": "code",
      "source": [
        "import pandas as pd\n",
        "import numpy as np"
      ],
      "metadata": {
        "id": "Jkj7cEJUB8t6"
      },
      "execution_count": 143,
      "outputs": []
    },
    {
      "cell_type": "code",
      "source": [
        "feature_names = ['symboling','normalized-losses','make','fuel','aspiration','num-doors','body-style','drive-wheels','engine-location','wheel-base','length','width','height','curb-weight','engine-type','num-of-cylinders','engine-size','fuel-system','bore','stroke','compression-ratio','horsepower','peak-rpm','city-mpg','highway-mpg','price']\n",
        "\n",
        "# los valores desconocidos en el dataset están marcados con una interrogación\n",
        "df = pd.read_csv('datasets/imports-85.data', names = feature_names, na_values = '?')"
      ],
      "metadata": {
        "id": "sHUs_7HjB_8p"
      },
      "execution_count": 144,
      "outputs": []
    },
    {
      "cell_type": "code",
      "source": [
        "print(len(df))"
      ],
      "metadata": {
        "colab": {
          "base_uri": "https://localhost:8080/"
        },
        "id": "k-1PNfazkw9i",
        "outputId": "61325fc2-586c-4532-b0f7-8db3103a6615"
      },
      "execution_count": 145,
      "outputs": [
        {
          "output_type": "stream",
          "name": "stdout",
          "text": [
            "205\n"
          ]
        }
      ]
    },
    {
      "cell_type": "code",
      "source": [
        "df.head(2)"
      ],
      "metadata": {
        "id": "v5_GkRRcCIyT",
        "colab": {
          "base_uri": "https://localhost:8080/",
          "height": 141
        },
        "outputId": "357b2ff2-29b7-4931-d01a-722e09a19624"
      },
      "execution_count": 146,
      "outputs": [
        {
          "output_type": "execute_result",
          "data": {
            "text/plain": [
              "   symboling  normalized-losses         make fuel aspiration num-doors  \\\n",
              "0          3                NaN  alfa-romero  gas        std       two   \n",
              "1          3                NaN  alfa-romero  gas        std       two   \n",
              "\n",
              "    body-style drive-wheels engine-location  wheel-base  ...  engine-size  \\\n",
              "0  convertible          rwd           front        88.6  ...          130   \n",
              "1  convertible          rwd           front        88.6  ...          130   \n",
              "\n",
              "   fuel-system  bore  stroke compression-ratio horsepower  peak-rpm city-mpg  \\\n",
              "0         mpfi  3.47    2.68               9.0      111.0    5000.0       21   \n",
              "1         mpfi  3.47    2.68               9.0      111.0    5000.0       21   \n",
              "\n",
              "   highway-mpg    price  \n",
              "0           27  13495.0  \n",
              "1           27  16500.0  \n",
              "\n",
              "[2 rows x 26 columns]"
            ],
            "text/html": [
              "\n",
              "  <div id=\"df-8cb5e9a6-0b42-41cb-aeb0-d317e3413123\">\n",
              "    <div class=\"colab-df-container\">\n",
              "      <div>\n",
              "<style scoped>\n",
              "    .dataframe tbody tr th:only-of-type {\n",
              "        vertical-align: middle;\n",
              "    }\n",
              "\n",
              "    .dataframe tbody tr th {\n",
              "        vertical-align: top;\n",
              "    }\n",
              "\n",
              "    .dataframe thead th {\n",
              "        text-align: right;\n",
              "    }\n",
              "</style>\n",
              "<table border=\"1\" class=\"dataframe\">\n",
              "  <thead>\n",
              "    <tr style=\"text-align: right;\">\n",
              "      <th></th>\n",
              "      <th>symboling</th>\n",
              "      <th>normalized-losses</th>\n",
              "      <th>make</th>\n",
              "      <th>fuel</th>\n",
              "      <th>aspiration</th>\n",
              "      <th>num-doors</th>\n",
              "      <th>body-style</th>\n",
              "      <th>drive-wheels</th>\n",
              "      <th>engine-location</th>\n",
              "      <th>wheel-base</th>\n",
              "      <th>...</th>\n",
              "      <th>engine-size</th>\n",
              "      <th>fuel-system</th>\n",
              "      <th>bore</th>\n",
              "      <th>stroke</th>\n",
              "      <th>compression-ratio</th>\n",
              "      <th>horsepower</th>\n",
              "      <th>peak-rpm</th>\n",
              "      <th>city-mpg</th>\n",
              "      <th>highway-mpg</th>\n",
              "      <th>price</th>\n",
              "    </tr>\n",
              "  </thead>\n",
              "  <tbody>\n",
              "    <tr>\n",
              "      <th>0</th>\n",
              "      <td>3</td>\n",
              "      <td>NaN</td>\n",
              "      <td>alfa-romero</td>\n",
              "      <td>gas</td>\n",
              "      <td>std</td>\n",
              "      <td>two</td>\n",
              "      <td>convertible</td>\n",
              "      <td>rwd</td>\n",
              "      <td>front</td>\n",
              "      <td>88.6</td>\n",
              "      <td>...</td>\n",
              "      <td>130</td>\n",
              "      <td>mpfi</td>\n",
              "      <td>3.47</td>\n",
              "      <td>2.68</td>\n",
              "      <td>9.0</td>\n",
              "      <td>111.0</td>\n",
              "      <td>5000.0</td>\n",
              "      <td>21</td>\n",
              "      <td>27</td>\n",
              "      <td>13495.0</td>\n",
              "    </tr>\n",
              "    <tr>\n",
              "      <th>1</th>\n",
              "      <td>3</td>\n",
              "      <td>NaN</td>\n",
              "      <td>alfa-romero</td>\n",
              "      <td>gas</td>\n",
              "      <td>std</td>\n",
              "      <td>two</td>\n",
              "      <td>convertible</td>\n",
              "      <td>rwd</td>\n",
              "      <td>front</td>\n",
              "      <td>88.6</td>\n",
              "      <td>...</td>\n",
              "      <td>130</td>\n",
              "      <td>mpfi</td>\n",
              "      <td>3.47</td>\n",
              "      <td>2.68</td>\n",
              "      <td>9.0</td>\n",
              "      <td>111.0</td>\n",
              "      <td>5000.0</td>\n",
              "      <td>21</td>\n",
              "      <td>27</td>\n",
              "      <td>16500.0</td>\n",
              "    </tr>\n",
              "  </tbody>\n",
              "</table>\n",
              "<p>2 rows × 26 columns</p>\n",
              "</div>\n",
              "      <button class=\"colab-df-convert\" onclick=\"convertToInteractive('df-8cb5e9a6-0b42-41cb-aeb0-d317e3413123')\"\n",
              "              title=\"Convert this dataframe to an interactive table.\"\n",
              "              style=\"display:none;\">\n",
              "        \n",
              "  <svg xmlns=\"http://www.w3.org/2000/svg\" height=\"24px\"viewBox=\"0 0 24 24\"\n",
              "       width=\"24px\">\n",
              "    <path d=\"M0 0h24v24H0V0z\" fill=\"none\"/>\n",
              "    <path d=\"M18.56 5.44l.94 2.06.94-2.06 2.06-.94-2.06-.94-.94-2.06-.94 2.06-2.06.94zm-11 1L8.5 8.5l.94-2.06 2.06-.94-2.06-.94L8.5 2.5l-.94 2.06-2.06.94zm10 10l.94 2.06.94-2.06 2.06-.94-2.06-.94-.94-2.06-.94 2.06-2.06.94z\"/><path d=\"M17.41 7.96l-1.37-1.37c-.4-.4-.92-.59-1.43-.59-.52 0-1.04.2-1.43.59L10.3 9.45l-7.72 7.72c-.78.78-.78 2.05 0 2.83L4 21.41c.39.39.9.59 1.41.59.51 0 1.02-.2 1.41-.59l7.78-7.78 2.81-2.81c.8-.78.8-2.07 0-2.86zM5.41 20L4 18.59l7.72-7.72 1.47 1.35L5.41 20z\"/>\n",
              "  </svg>\n",
              "      </button>\n",
              "      \n",
              "  <style>\n",
              "    .colab-df-container {\n",
              "      display:flex;\n",
              "      flex-wrap:wrap;\n",
              "      gap: 12px;\n",
              "    }\n",
              "\n",
              "    .colab-df-convert {\n",
              "      background-color: #E8F0FE;\n",
              "      border: none;\n",
              "      border-radius: 50%;\n",
              "      cursor: pointer;\n",
              "      display: none;\n",
              "      fill: #1967D2;\n",
              "      height: 32px;\n",
              "      padding: 0 0 0 0;\n",
              "      width: 32px;\n",
              "    }\n",
              "\n",
              "    .colab-df-convert:hover {\n",
              "      background-color: #E2EBFA;\n",
              "      box-shadow: 0px 1px 2px rgba(60, 64, 67, 0.3), 0px 1px 3px 1px rgba(60, 64, 67, 0.15);\n",
              "      fill: #174EA6;\n",
              "    }\n",
              "\n",
              "    [theme=dark] .colab-df-convert {\n",
              "      background-color: #3B4455;\n",
              "      fill: #D2E3FC;\n",
              "    }\n",
              "\n",
              "    [theme=dark] .colab-df-convert:hover {\n",
              "      background-color: #434B5C;\n",
              "      box-shadow: 0px 1px 3px 1px rgba(0, 0, 0, 0.15);\n",
              "      filter: drop-shadow(0px 1px 2px rgba(0, 0, 0, 0.3));\n",
              "      fill: #FFFFFF;\n",
              "    }\n",
              "  </style>\n",
              "\n",
              "      <script>\n",
              "        const buttonEl =\n",
              "          document.querySelector('#df-8cb5e9a6-0b42-41cb-aeb0-d317e3413123 button.colab-df-convert');\n",
              "        buttonEl.style.display =\n",
              "          google.colab.kernel.accessAllowed ? 'block' : 'none';\n",
              "\n",
              "        async function convertToInteractive(key) {\n",
              "          const element = document.querySelector('#df-8cb5e9a6-0b42-41cb-aeb0-d317e3413123');\n",
              "          const dataTable =\n",
              "            await google.colab.kernel.invokeFunction('convertToInteractive',\n",
              "                                                     [key], {});\n",
              "          if (!dataTable) return;\n",
              "\n",
              "          const docLinkHtml = 'Like what you see? Visit the ' +\n",
              "            '<a target=\"_blank\" href=https://colab.research.google.com/notebooks/data_table.ipynb>data table notebook</a>'\n",
              "            + ' to learn more about interactive tables.';\n",
              "          element.innerHTML = '';\n",
              "          dataTable['output_type'] = 'display_data';\n",
              "          await google.colab.output.renderOutput(dataTable, element);\n",
              "          const docLink = document.createElement('div');\n",
              "          docLink.innerHTML = docLinkHtml;\n",
              "          element.appendChild(docLink);\n",
              "        }\n",
              "      </script>\n",
              "    </div>\n",
              "  </div>\n",
              "  "
            ]
          },
          "metadata": {},
          "execution_count": 146
        }
      ]
    },
    {
      "cell_type": "code",
      "source": [
        "df.dtypes"
      ],
      "metadata": {
        "id": "2y3KxSY3kv-z",
        "colab": {
          "base_uri": "https://localhost:8080/"
        },
        "outputId": "e5cbf31a-3615-43b1-a607-0541c69b3c23"
      },
      "execution_count": 147,
      "outputs": [
        {
          "output_type": "execute_result",
          "data": {
            "text/plain": [
              "symboling              int64\n",
              "normalized-losses    float64\n",
              "make                  object\n",
              "fuel                  object\n",
              "aspiration            object\n",
              "num-doors             object\n",
              "body-style            object\n",
              "drive-wheels          object\n",
              "engine-location       object\n",
              "wheel-base           float64\n",
              "length               float64\n",
              "width                float64\n",
              "height               float64\n",
              "curb-weight            int64\n",
              "engine-type           object\n",
              "num-of-cylinders      object\n",
              "engine-size            int64\n",
              "fuel-system           object\n",
              "bore                 float64\n",
              "stroke               float64\n",
              "compression-ratio    float64\n",
              "horsepower           float64\n",
              "peak-rpm             float64\n",
              "city-mpg               int64\n",
              "highway-mpg            int64\n",
              "price                float64\n",
              "dtype: object"
            ]
          },
          "metadata": {},
          "execution_count": 147
        }
      ]
    },
    {
      "cell_type": "markdown",
      "source": [
        "# Preparación de los datos"
      ],
      "metadata": {
        "id": "rgEzhBg1CNtF"
      }
    },
    {
      "cell_type": "markdown",
      "source": [
        "Una vez importado el dataset, empezaremos identificando y corrigiendo\n",
        "aquellos valores que falten en las filas. Para ello, primero identificaremos qué propiedades son las que presentan dichos valores utilizando el método isnull() del dataframe para filtrar por aquellas columnas que tengan al menos una celda sin valor."
      ],
      "metadata": {
        "id": "4qUkO9Hom4_B"
      }
    },
    {
      "cell_type": "code",
      "source": [
        "def print_cols_with_missing_values(df):\n",
        "  cols_with_missing = df.isnull().sum()\n",
        "  print(cols_with_missing[cols_with_missing > 0])\n",
        "\n",
        "print_cols_with_missing_values(df)"
      ],
      "metadata": {
        "id": "UFvar4-nCSpR",
        "colab": {
          "base_uri": "https://localhost:8080/"
        },
        "outputId": "e828d442-799e-4215-c171-62fe21fb8c6a"
      },
      "execution_count": 148,
      "outputs": [
        {
          "output_type": "stream",
          "name": "stdout",
          "text": [
            "normalized-losses    41\n",
            "num-doors             2\n",
            "bore                  4\n",
            "stroke                4\n",
            "horsepower            2\n",
            "peak-rpm              2\n",
            "price                 4\n",
            "dtype: int64\n"
          ]
        }
      ]
    },
    {
      "cell_type": "code",
      "source": [
        "# a los atributos normalized-losses, bore, stroke, horsepower y peak-rpm\n",
        "# se les deben sustituir los valores nan por la media de la columna\n",
        "df['normalized-losses'].fillna(df['normalized-losses'].mean(), inplace=True)\n",
        "df['bore'].fillna(df['bore'].mean(), inplace=True)\n",
        "df['stroke'].fillna(df['stroke'].mean(), inplace=True)\n",
        "df['horsepower'].fillna(df['horsepower'].mean(), inplace=True)\n",
        "df['peak-rpm'].fillna(df['peak-rpm'].mean(), inplace=True)"
      ],
      "metadata": {
        "id": "_XwDGpuoCiHD"
      },
      "execution_count": 149,
      "outputs": []
    },
    {
      "cell_type": "code",
      "source": [
        "# al atributo num_doors se le debe sustituir los valores nan por la mode de la\n",
        "# columna\n",
        "df['num-doors'].fillna(df['num-doors'].mode()[0], inplace=True)"
      ],
      "metadata": {
        "id": "OFT03syKCm1S"
      },
      "execution_count": 150,
      "outputs": []
    },
    {
      "cell_type": "code",
      "source": [
        "# el atributo price también incluye algunos valores nulos, en este caso, y dado\n",
        "# que se trata de la variable objetivo, no hay mucho que se pueda hacer,\n",
        "# por lo que simplemente se eliminan las filas sin precio\n",
        "df.dropna(subset=['price'], inplace=True)"
      ],
      "metadata": {
        "id": "_ealBIKyCtJS"
      },
      "execution_count": 151,
      "outputs": []
    },
    {
      "cell_type": "code",
      "source": [
        "# después de borrar filas es conveniente resetear el índice del dataframe\n",
        "df.reset_index(drop = True, inplace = True)"
      ],
      "metadata": {
        "id": "D4ulwta_oh8e"
      },
      "execution_count": 152,
      "outputs": []
    },
    {
      "cell_type": "code",
      "source": [
        "print_cols_with_missing_values(df)"
      ],
      "metadata": {
        "colab": {
          "base_uri": "https://localhost:8080/"
        },
        "id": "-Ey5CCLonqKC",
        "outputId": "851a081b-ba27-4d90-eb2e-980a55dd60a4"
      },
      "execution_count": 153,
      "outputs": [
        {
          "output_type": "stream",
          "name": "stdout",
          "text": [
            "Series([], dtype: int64)\n"
          ]
        }
      ]
    },
    {
      "cell_type": "markdown",
      "source": [
        "# Normalización de los datos"
      ],
      "metadata": {
        "id": "IwacvTHBC5Mp"
      }
    },
    {
      "cell_type": "code",
      "source": [
        "# hay que agrupar las propiedades categóricas y numéricas en dos variables\n",
        "# distintas que nos permitan trabajar de manera más cómoda con los datos\n",
        "\n",
        "numeric_feature_names = df.drop('price', axis=1).select_dtypes(include=['float64', 'int64']).columns.tolist()\n",
        "\n",
        "categorical_feature_names = df.select_dtypes(include=['object', 'category']).columns.tolist()\n",
        "\n",
        "all_feature_names = numeric_feature_names + categorical_feature_names\n",
        "\n",
        "target = 'price'\n",
        "\n",
        "print(f'Propiedades numéricas: {numeric_feature_names} ({len(numeric_feature_names)})')\n",
        "print(f'Propiedades categóricas: {categorical_feature_names} ({len(categorical_feature_names)})')\n",
        "print(f'Propiedad objetivo: {target}')"
      ],
      "metadata": {
        "id": "8388iEvGC_bZ",
        "colab": {
          "base_uri": "https://localhost:8080/"
        },
        "outputId": "d0155407-6264-4416-a26c-5cf4284a269a"
      },
      "execution_count": 154,
      "outputs": [
        {
          "output_type": "stream",
          "name": "stdout",
          "text": [
            "Propiedades numéricas: ['symboling', 'normalized-losses', 'wheel-base', 'length', 'width', 'height', 'curb-weight', 'engine-size', 'bore', 'stroke', 'compression-ratio', 'horsepower', 'peak-rpm', 'city-mpg', 'highway-mpg'] (15)\n",
            "Propiedades categóricas: ['make', 'fuel', 'aspiration', 'num-doors', 'body-style', 'drive-wheels', 'engine-location', 'engine-type', 'num-of-cylinders', 'fuel-system'] (10)\n",
            "Propiedad objetivo: price\n"
          ]
        }
      ]
    },
    {
      "cell_type": "code",
      "source": [
        "# se comienza el análisis examinando los histogramas de las\n",
        "# propiedades numéricas para tener una visión general de las distribuciones\n",
        "import matplotlib.pyplot as plt\n",
        "\n",
        "plt.figure(figsize=(15, 10))\n",
        "for i, column in enumerate(numeric_feature_names):\n",
        "    plt.subplot(4, 4, i+1)\n",
        "    plt.hist(df[column], bins=20)\n",
        "    plt.title(column)\n",
        "plt.tight_layout()\n",
        "plt.show()"
      ],
      "metadata": {
        "colab": {
          "base_uri": "https://localhost:8080/",
          "height": 565
        },
        "id": "38kQM3szwM-o",
        "outputId": "b21a98dc-f803-4b93-fda0-66fb124132ee"
      },
      "execution_count": 245,
      "outputs": [
        {
          "output_type": "display_data",
          "data": {
            "text/plain": [
              "<Figure size 1080x720 with 12 Axes>"
            ],
            "image/png": "[encoded data removed]"
          },
          "metadata": {
            "needs_background": "light"
          }
        }
      ]
    },
    {
      "cell_type": "markdown",
      "source": [
        "De estos histogramas podemos identificar varias desviaciones positivas (p. ej.,\n",
        "normalized-losses o engine-size) ocasionadas por algunos valores atípicos. Para\n",
        "mejorar las distribuciones, se procede a aplicar algunas transformaciones a\n",
        "aquellas propiedades que presentan valores atípicos extremos.\n",
        "\n",
        "En primer lugar, se tendrá qué identificar cuáles son esos valores atípicos extremos. Para ello, podemos utilizar los diagramas de cajas (boxplots) para visualizarlos y confirmar que existen. Para dibujarlos, podemos hacerlo fácilmente utilizando la biblioteca seaborn."
      ],
      "metadata": {
        "id": "AiRe0Tqcq7ON"
      }
    },
    {
      "cell_type": "code",
      "source": [
        "import seaborn as sns\n",
        "\n",
        "# mediante esta función de pueden visualizar los 'outliers'\n",
        "def draw_hist_boxplot(df, feature_name):\n",
        "  # se dibuja el diagrama de cajas\n",
        "  sns.boxplot(x = feature_name, data = df)\n",
        "  # se dibujan sobre el diagrama todos los puntos de datos que tiene la propiedad\n",
        "  sns.stripplot(x = feature_name, data = df, color = \"#474646\")\n",
        "\n",
        "# mediante esta función se reemplazan todos los outliers\n",
        "# cualquier valor por encima o por debajo de los\n",
        "# límites superior o inferior es sustituido por la mediana\n",
        "def replace_outliers_with_median(df, feature_name):\n",
        "  Q1 = df[feature_name].quantile(0.25)\n",
        "  median = df[feature_name].quantile(0.5)\n",
        "  Q3 = df[feature_name].quantile(0.75)\n",
        "  IQR = Q3 - Q1\n",
        "  lower_whisker = Q1 - 1.5 * IQR\n",
        "  upper_whisker = Q3 + 1.5 * IQR\n",
        "  df[feature_name] = np.where((df[feature_name] < lower_whisker) | \n",
        "                              (df[feature_name] > upper_whisker), \n",
        "                                median, \n",
        "                                df[feature_name])"
      ],
      "metadata": {
        "id": "1OwKGILCDPOj"
      },
      "execution_count": 156,
      "outputs": []
    },
    {
      "cell_type": "code",
      "source": [
        "# se dibuja el diagrama y los puntos, se observa que no hay outliers\n",
        "draw_hist_boxplot(df, 'bore')"
      ],
      "metadata": {
        "id": "pN8pFh-ODXj4",
        "colab": {
          "base_uri": "https://localhost:8080/",
          "height": 279
        },
        "outputId": "a812faeb-45d8-4cbb-d424-909e61913923"
      },
      "execution_count": 157,
      "outputs": [
        {
          "output_type": "display_data",
          "data": {
            "text/plain": [
              "<Figure size 432x288 with 1 Axes>"
            ],
            "image/png": "[encoded data removed]"
          },
          "metadata": {
            "needs_background": "light"
          }
        }
      ]
    },
    {
      "cell_type": "code",
      "source": [
        "# se dibuja\n",
        "draw_hist_boxplot(df, 'normalized-losses')"
      ],
      "metadata": {
        "id": "radI2fMlDao8",
        "colab": {
          "base_uri": "https://localhost:8080/",
          "height": 279
        },
        "outputId": "7f48e063-da74-4e7c-8bfc-101473c7e890"
      },
      "execution_count": 195,
      "outputs": [
        {
          "output_type": "display_data",
          "data": {
            "text/plain": [
              "<Figure size 432x288 with 1 Axes>"
            ],
            "image/png": "[encoded data removed]"
          },
          "metadata": {
            "needs_background": "light"
          }
        }
      ]
    },
    {
      "cell_type": "code",
      "source": [
        "# se reemplazan los outliers y se vuelve a dibujar\n",
        "replace_outliers_with_median(df, 'normalized-losses')\n",
        "draw_hist_boxplot(df, 'normalized-losses')"
      ],
      "metadata": {
        "id": "No8ANGXZDdmS",
        "colab": {
          "base_uri": "https://localhost:8080/",
          "height": 279
        },
        "outputId": "98467a94-8872-48dd-ab00-c44bf494038e"
      },
      "execution_count": 196,
      "outputs": [
        {
          "output_type": "display_data",
          "data": {
            "text/plain": [
              "<Figure size 432x288 with 1 Axes>"
            ],
            "image/png": "[encoded data removed]"
          },
          "metadata": {
            "needs_background": "light"
          }
        }
      ]
    },
    {
      "cell_type": "code",
      "source": [
        "# se puede ejecutar el método skew() sobre la serie de un dataframe para\n",
        "# cuantificar la desviación de la distribución y su signo\n",
        "# si lo ejecutamos antes y después de corregir los valores atípicos,\n",
        "# podremos ver cómo el valor de desviación se va reduciendo ligeramente\n",
        "print(df['normalized-losses'].skew())"
      ],
      "metadata": {
        "id": "0vKZ6zH4ueG4",
        "colab": {
          "base_uri": "https://localhost:8080/"
        },
        "outputId": "0ed5aac0-5f03-4df6-b290-488556bd6e66"
      },
      "execution_count": 160,
      "outputs": [
        {
          "output_type": "stream",
          "name": "stdout",
          "text": [
            "0.2551782989144891\n"
          ]
        }
      ]
    },
    {
      "cell_type": "code",
      "source": [
        "# dibujar atributo stroke\n",
        "draw_hist_boxplot(df, 'stroke')"
      ],
      "metadata": {
        "id": "2n9nLlTnDgT1",
        "colab": {
          "base_uri": "https://localhost:8080/",
          "height": 279
        },
        "outputId": "17ebc66b-073b-4ac2-f3ee-1b81168d5b1e"
      },
      "execution_count": 161,
      "outputs": [
        {
          "output_type": "display_data",
          "data": {
            "text/plain": [
              "<Figure size 432x288 with 1 Axes>"
            ],
            "image/png": "[encoded data removed]"
          },
          "metadata": {
            "needs_background": "light"
          }
        }
      ]
    },
    {
      "cell_type": "code",
      "source": [
        "# reemplazar outliers de stroke y volver a dibujar\n",
        "replace_outliers_with_median(df, 'stroke')"
      ],
      "metadata": {
        "id": "HmNWkmnMDjw_"
      },
      "execution_count": 193,
      "outputs": []
    },
    {
      "cell_type": "code",
      "source": [
        "draw_hist_boxplot(df, 'stroke')"
      ],
      "metadata": {
        "colab": {
          "base_uri": "https://localhost:8080/",
          "height": 279
        },
        "id": "pOB8XVAfgEGr",
        "outputId": "a8b025d3-dc6b-4cc7-8c0f-1d66588cf0ce"
      },
      "execution_count": 194,
      "outputs": [
        {
          "output_type": "display_data",
          "data": {
            "text/plain": [
              "<Figure size 432x288 with 1 Axes>"
            ],
            "image/png": "[encoded data removed]"
          },
          "metadata": {
            "needs_background": "light"
          }
        }
      ]
    },
    {
      "cell_type": "code",
      "source": [
        "# repetir para los todos los atributos numéricos:\n",
        "# compression-ratio, engine-size, peak-rpm, horsepower, etc.\n",
        "replace_outliers_with_median(df, 'price')\n",
        "draw_hist_boxplot(df, 'price')"
      ],
      "metadata": {
        "id": "yuM6XgpDDnrc",
        "colab": {
          "base_uri": "https://localhost:8080/",
          "height": 279
        },
        "outputId": "dc43660d-edf5-4065-d86e-63594c2c29b6"
      },
      "execution_count": 188,
      "outputs": [
        {
          "output_type": "display_data",
          "data": {
            "text/plain": [
              "<Figure size 432x288 with 1 Axes>"
            ],
            "image/png": "[encoded data removed]"
          },
          "metadata": {
            "needs_background": "light"
          }
        }
      ]
    },
    {
      "cell_type": "code",
      "source": [
        "# atributo city-mpg\n",
        "draw_hist_boxplot(df, 'city-mpg')"
      ],
      "metadata": {
        "id": "RIY5sQgAEB6-",
        "colab": {
          "base_uri": "https://localhost:8080/",
          "height": 279
        },
        "outputId": "be63c062-ff3d-4e99-d8e4-ffcb02156aad"
      },
      "execution_count": 165,
      "outputs": [
        {
          "output_type": "display_data",
          "data": {
            "text/plain": [
              "<Figure size 432x288 with 1 Axes>"
            ],
            "image/png": "[encoded data removed]"
          },
          "metadata": {
            "needs_background": "light"
          }
        }
      ]
    },
    {
      "cell_type": "code",
      "source": [
        "# en la propiedad city-mpg podremos ver cómo sólo hay algunos pocos valores atípicos\n",
        "# como son pocos, simplemente los eliminaremos del conjunto de datos\n",
        "q99 = df[\"city-mpg\"].quantile(0.99)\n",
        "df.drop(df.loc[df['city-mpg'] > q99].index, inplace = True)\n",
        "draw_hist_boxplot(df, 'city-mpg')"
      ],
      "metadata": {
        "id": "pkvgMbi7EEuv",
        "colab": {
          "base_uri": "https://localhost:8080/",
          "height": 279
        },
        "outputId": "589b15b6-f60c-42f5-b5c3-438fe2f8a696"
      },
      "execution_count": 166,
      "outputs": [
        {
          "output_type": "display_data",
          "data": {
            "text/plain": [
              "<Figure size 432x288 with 1 Axes>"
            ],
            "image/png": "[encoded data removed]"
          },
          "metadata": {
            "needs_background": "light"
          }
        }
      ]
    },
    {
      "cell_type": "code",
      "source": [
        "# se comienza el análisis examinando los histogramas de las\n",
        "# propiedades numéricas para tener una visión general de las distribuciones\n",
        "import matplotlib.pyplot as plt\n",
        "\n",
        "plt.figure(figsize=(15, 10))\n",
        "for i, column in enumerate(numeric_feature_names):\n",
        "    plt.subplot(4, 4, i+1)\n",
        "    plt.hist(df[column], bins=20)\n",
        "    plt.title(column)\n",
        "plt.tight_layout()\n",
        "plt.show()"
      ],
      "metadata": {
        "id": "2TWOSR3NEHrw",
        "colab": {
          "base_uri": "https://localhost:8080/",
          "height": 565
        },
        "outputId": "89c655b1-d441-4e8e-8829-9b71f1f3c2e7"
      },
      "execution_count": 246,
      "outputs": [
        {
          "output_type": "display_data",
          "data": {
            "text/plain": [
              "<Figure size 1080x720 with 12 Axes>"
            ],
            "image/png": "[encoded data removed]"
          },
          "metadata": {
            "needs_background": "light"
          }
        }
      ]
    },
    {
      "cell_type": "markdown",
      "source": [
        "En las gráficas puede observarse como las desviaciones se han reducido ligeramente y ya no existen valores atípicos extremos. Para los valores atípicos que nos queden, podemos aplicar la técnica de normalizado mediante escalado. Para ello, podemos utilizar la clase StandardScaler del módulo sklearn.preprocessing y visualizar de nuevo los histogramas para revisar las nuevas distribuciones"
      ],
      "metadata": {
        "id": "Xh7rrgrQwZRS"
      }
    },
    {
      "cell_type": "code",
      "source": [
        "from sklearn.preprocessing import StandardScaler\n",
        "\n",
        "scaler = StandardScaler()\n",
        "df[numeric_feature_names] = scaler.fit_transform(df[numeric_feature_names])\n",
        "\n",
        "df[numeric_feature_names].hist(ax = plt.figure(figsize = (15, 15)).gca())"
      ],
      "metadata": {
        "id": "Yqf3Oc8PELcb",
        "colab": {
          "base_uri": "https://localhost:8080/",
          "height": 1000
        },
        "outputId": "31f85988-25b1-433f-c8dd-50194b68e57e"
      },
      "execution_count": 168,
      "outputs": [
        {
          "output_type": "stream",
          "name": "stderr",
          "text": [
            "<ipython-input-168-d1a2407358da>:6: UserWarning: To output multiple subplots, the figure containing the passed axes is being cleared\n",
            "  df[numeric_feature_names].hist(ax = plt.figure(figsize = (15, 15)).gca())\n"
          ]
        },
        {
          "output_type": "execute_result",
          "data": {
            "text/plain": [
              "array([[<AxesSubplot:title={'center':'symboling'}>,\n",
              "        <AxesSubplot:title={'center':'normalized-losses'}>,\n",
              "        <AxesSubplot:title={'center':'wheel-base'}>,\n",
              "        <AxesSubplot:title={'center':'length'}>],\n",
              "       [<AxesSubplot:title={'center':'width'}>,\n",
              "        <AxesSubplot:title={'center':'height'}>,\n",
              "        <AxesSubplot:title={'center':'curb-weight'}>,\n",
              "        <AxesSubplot:title={'center':'engine-size'}>],\n",
              "       [<AxesSubplot:title={'center':'bore'}>,\n",
              "        <AxesSubplot:title={'center':'stroke'}>,\n",
              "        <AxesSubplot:title={'center':'compression-ratio'}>,\n",
              "        <AxesSubplot:title={'center':'horsepower'}>],\n",
              "       [<AxesSubplot:title={'center':'peak-rpm'}>,\n",
              "        <AxesSubplot:title={'center':'city-mpg'}>,\n",
              "        <AxesSubplot:title={'center':'highway-mpg'}>, <AxesSubplot:>]],\n",
              "      dtype=object)"
            ]
          },
          "metadata": {},
          "execution_count": 168
        },
        {
          "output_type": "display_data",
          "data": {
            "text/plain": [
              "<Figure size 1080x1080 with 16 Axes>"
            ],
            "image/png": "[encoded data removed]"
          },
          "metadata": {
            "needs_background": "light"
          }
        }
      ]
    },
    {
      "cell_type": "markdown",
      "source": [
        "# Importancia de las propiedades y división del conjunto de datos"
      ],
      "metadata": {
        "id": "7oFsEtNCEy4v"
      }
    },
    {
      "cell_type": "markdown",
      "source": [
        "Vamos a analizar ahora el impacto de las propiedades sobre la variable objetivo. Para ello, vamos a empezar por las propiedades numéricas. Podemos realizar este análisis inicial mediante un mapa de calor que muestre las correlaciones que existen entre todas las variables, utilizando el método heatmap() del módulo seaborn e indicando que utilice la correlación de Pearson para ello."
      ],
      "metadata": {
        "id": "eYGcNMKHw2Ys"
      }
    },
    {
      "cell_type": "code",
      "source": [
        "import seaborn as sns\n",
        "\n",
        "plt.figure(figsize=(15, 10))\n",
        "sns.heatmap(df.corr(), cmap = 'BrBG', annot = True)"
      ],
      "metadata": {
        "id": "UQ5SDWXxE8JH",
        "colab": {
          "base_uri": "https://localhost:8080/",
          "height": 693
        },
        "outputId": "9e9c523f-741c-42b3-a268-4c8869cf460d"
      },
      "execution_count": 169,
      "outputs": [
        {
          "output_type": "execute_result",
          "data": {
            "text/plain": [
              "<AxesSubplot:>"
            ]
          },
          "metadata": {},
          "execution_count": 169
        },
        {
          "output_type": "display_data",
          "data": {
            "text/plain": [
              "<Figure size 1080x720 with 2 Axes>"
            ],
            "image/png": "[encoded data removed]"
          },
          "metadata": {
            "needs_background": "light"
          }
        }
      ]
    },
    {
      "cell_type": "code",
      "source": [
        "# podemos utilizar el análisis para eliminar algunas propiedades que no\n",
        "# tengan ninguna correlación con la variable objetivo: symboling\n",
        "df= df.drop(\"peak-rpm\",axis=1)\n",
        "df= df.drop(\"city-mpg\",axis=1)\n",
        "df= df.drop(\"highway-mpg\",axis=1)"
      ],
      "metadata": {
        "id": "JDsmzQo6FBo-"
      },
      "execution_count": 170,
      "outputs": []
    },
    {
      "cell_type": "markdown",
      "source": [
        "Sobre las variables categóricas, se pueden visualizar sus diagramas de cajas\n",
        "para analizar sus distribuciones en relación al precio."
      ],
      "metadata": {
        "id": "UmT-_MaW0g2t"
      }
    },
    {
      "cell_type": "code",
      "source": [
        "plt.figure(figsize = (10, 5))\n",
        "sns.boxplot(x = 'body-style', y = 'price', data = df)"
      ],
      "metadata": {
        "id": "ZuWTSdewFJFE",
        "colab": {
          "base_uri": "https://localhost:8080/",
          "height": 352
        },
        "outputId": "3ca861ad-c1d7-463b-aff3-4a1c769cbbb3"
      },
      "execution_count": 197,
      "outputs": [
        {
          "output_type": "execute_result",
          "data": {
            "text/plain": [
              "<AxesSubplot:xlabel='body-style', ylabel='price'>"
            ]
          },
          "metadata": {},
          "execution_count": 197
        },
        {
          "output_type": "display_data",
          "data": {
            "text/plain": [
              "<Figure size 720x360 with 1 Axes>"
            ],
            "image/png": "[encoded data removed]"
          },
          "metadata": {
            "needs_background": "light"
          }
        }
      ]
    },
    {
      "cell_type": "markdown",
      "source": [
        "Una vez se hayan analizado las distintas propiedades, fijaremos las propiedades con las que entrenaremos el modelo y procederemos a la división del conjunto de datos en los conjuntos de entrenamiento, validación y pruebas."
      ],
      "metadata": {
        "id": "157HPaTH1Rvm"
      }
    },
    {
      "cell_type": "code",
      "source": [
        "numeric_feature_names = df.drop('price', axis=1).select_dtypes(include=['float64', 'int64']).columns.tolist()\n",
        "\n",
        "categorical_feature_names = df.select_dtypes(include=['object', 'category']).columns.tolist()\n",
        "\n",
        "print(f'Propiedades numéricas: {numeric_feature_names} ({len(numeric_feature_names)})')\n",
        "print(f'Propiedades categóricas: {categorical_feature_names} ({len(categorical_feature_names)})')\n",
        "\n",
        "all_feature_names = numeric_feature_names + categorical_feature_names"
      ],
      "metadata": {
        "id": "Chxd-HwEFe8d",
        "colab": {
          "base_uri": "https://localhost:8080/"
        },
        "outputId": "14e5cc81-c32f-4e0f-d112-d3f2cc2ba3e8"
      },
      "execution_count": 172,
      "outputs": [
        {
          "output_type": "stream",
          "name": "stdout",
          "text": [
            "Propiedades numéricas: ['symboling', 'normalized-losses', 'wheel-base', 'length', 'width', 'height', 'curb-weight', 'engine-size', 'bore', 'stroke', 'compression-ratio', 'horsepower'] (12)\n",
            "Propiedades categóricas: ['make', 'fuel', 'aspiration', 'num-doors', 'body-style', 'drive-wheels', 'engine-location', 'engine-type', 'num-of-cylinders', 'fuel-system'] (10)\n"
          ]
        }
      ]
    },
    {
      "cell_type": "code",
      "source": [
        "df[numeric_feature_names].head(2)"
      ],
      "metadata": {
        "id": "HQHHR9WhFhEk",
        "colab": {
          "base_uri": "https://localhost:8080/",
          "height": 112
        },
        "outputId": "5407ab57-f580-4409-d1f2-d01cb9da23aa"
      },
      "execution_count": 173,
      "outputs": [
        {
          "output_type": "execute_result",
          "data": {
            "text/plain": [
              "   symboling  normalized-losses  wheel-base    length     width  height  \\\n",
              "0   1.733193           0.130509   -1.726065 -0.478688 -0.885243  -2.039   \n",
              "1   1.733193           0.130509   -1.726065 -0.478688 -0.885243  -2.039   \n",
              "\n",
              "   curb-weight  engine-size      bore    stroke  compression-ratio  horsepower  \n",
              "0    -0.033891     0.063374  0.509006 -3.073377          -0.291554    0.190995  \n",
              "1    -0.033891     0.063374  0.509006 -3.073377          -0.291554    0.190995  "
            ],
            "text/html": [
              "\n",
              "  <div id=\"df-1db1e632-0917-41bd-867c-c9ba7853c238\">\n",
              "    <div class=\"colab-df-container\">\n",
              "      <div>\n",
              "<style scoped>\n",
              "    .dataframe tbody tr th:only-of-type {\n",
              "        vertical-align: middle;\n",
              "    }\n",
              "\n",
              "    .dataframe tbody tr th {\n",
              "        vertical-align: top;\n",
              "    }\n",
              "\n",
              "    .dataframe thead th {\n",
              "        text-align: right;\n",
              "    }\n",
              "</style>\n",
              "<table border=\"1\" class=\"dataframe\">\n",
              "  <thead>\n",
              "    <tr style=\"text-align: right;\">\n",
              "      <th></th>\n",
              "      <th>symboling</th>\n",
              "      <th>normalized-losses</th>\n",
              "      <th>wheel-base</th>\n",
              "      <th>length</th>\n",
              "      <th>width</th>\n",
              "      <th>height</th>\n",
              "      <th>curb-weight</th>\n",
              "      <th>engine-size</th>\n",
              "      <th>bore</th>\n",
              "      <th>stroke</th>\n",
              "      <th>compression-ratio</th>\n",
              "      <th>horsepower</th>\n",
              "    </tr>\n",
              "  </thead>\n",
              "  <tbody>\n",
              "    <tr>\n",
              "      <th>0</th>\n",
              "      <td>1.733193</td>\n",
              "      <td>0.130509</td>\n",
              "      <td>-1.726065</td>\n",
              "      <td>-0.478688</td>\n",
              "      <td>-0.885243</td>\n",
              "      <td>-2.039</td>\n",
              "      <td>-0.033891</td>\n",
              "      <td>0.063374</td>\n",
              "      <td>0.509006</td>\n",
              "      <td>-3.073377</td>\n",
              "      <td>-0.291554</td>\n",
              "      <td>0.190995</td>\n",
              "    </tr>\n",
              "    <tr>\n",
              "      <th>1</th>\n",
              "      <td>1.733193</td>\n",
              "      <td>0.130509</td>\n",
              "      <td>-1.726065</td>\n",
              "      <td>-0.478688</td>\n",
              "      <td>-0.885243</td>\n",
              "      <td>-2.039</td>\n",
              "      <td>-0.033891</td>\n",
              "      <td>0.063374</td>\n",
              "      <td>0.509006</td>\n",
              "      <td>-3.073377</td>\n",
              "      <td>-0.291554</td>\n",
              "      <td>0.190995</td>\n",
              "    </tr>\n",
              "  </tbody>\n",
              "</table>\n",
              "</div>\n",
              "      <button class=\"colab-df-convert\" onclick=\"convertToInteractive('df-1db1e632-0917-41bd-867c-c9ba7853c238')\"\n",
              "              title=\"Convert this dataframe to an interactive table.\"\n",
              "              style=\"display:none;\">\n",
              "        \n",
              "  <svg xmlns=\"http://www.w3.org/2000/svg\" height=\"24px\"viewBox=\"0 0 24 24\"\n",
              "       width=\"24px\">\n",
              "    <path d=\"M0 0h24v24H0V0z\" fill=\"none\"/>\n",
              "    <path d=\"M18.56 5.44l.94 2.06.94-2.06 2.06-.94-2.06-.94-.94-2.06-.94 2.06-2.06.94zm-11 1L8.5 8.5l.94-2.06 2.06-.94-2.06-.94L8.5 2.5l-.94 2.06-2.06.94zm10 10l.94 2.06.94-2.06 2.06-.94-2.06-.94-.94-2.06-.94 2.06-2.06.94z\"/><path d=\"M17.41 7.96l-1.37-1.37c-.4-.4-.92-.59-1.43-.59-.52 0-1.04.2-1.43.59L10.3 9.45l-7.72 7.72c-.78.78-.78 2.05 0 2.83L4 21.41c.39.39.9.59 1.41.59.51 0 1.02-.2 1.41-.59l7.78-7.78 2.81-2.81c.8-.78.8-2.07 0-2.86zM5.41 20L4 18.59l7.72-7.72 1.47 1.35L5.41 20z\"/>\n",
              "  </svg>\n",
              "      </button>\n",
              "      \n",
              "  <style>\n",
              "    .colab-df-container {\n",
              "      display:flex;\n",
              "      flex-wrap:wrap;\n",
              "      gap: 12px;\n",
              "    }\n",
              "\n",
              "    .colab-df-convert {\n",
              "      background-color: #E8F0FE;\n",
              "      border: none;\n",
              "      border-radius: 50%;\n",
              "      cursor: pointer;\n",
              "      display: none;\n",
              "      fill: #1967D2;\n",
              "      height: 32px;\n",
              "      padding: 0 0 0 0;\n",
              "      width: 32px;\n",
              "    }\n",
              "\n",
              "    .colab-df-convert:hover {\n",
              "      background-color: #E2EBFA;\n",
              "      box-shadow: 0px 1px 2px rgba(60, 64, 67, 0.3), 0px 1px 3px 1px rgba(60, 64, 67, 0.15);\n",
              "      fill: #174EA6;\n",
              "    }\n",
              "\n",
              "    [theme=dark] .colab-df-convert {\n",
              "      background-color: #3B4455;\n",
              "      fill: #D2E3FC;\n",
              "    }\n",
              "\n",
              "    [theme=dark] .colab-df-convert:hover {\n",
              "      background-color: #434B5C;\n",
              "      box-shadow: 0px 1px 3px 1px rgba(0, 0, 0, 0.15);\n",
              "      filter: drop-shadow(0px 1px 2px rgba(0, 0, 0, 0.3));\n",
              "      fill: #FFFFFF;\n",
              "    }\n",
              "  </style>\n",
              "\n",
              "      <script>\n",
              "        const buttonEl =\n",
              "          document.querySelector('#df-1db1e632-0917-41bd-867c-c9ba7853c238 button.colab-df-convert');\n",
              "        buttonEl.style.display =\n",
              "          google.colab.kernel.accessAllowed ? 'block' : 'none';\n",
              "\n",
              "        async function convertToInteractive(key) {\n",
              "          const element = document.querySelector('#df-1db1e632-0917-41bd-867c-c9ba7853c238');\n",
              "          const dataTable =\n",
              "            await google.colab.kernel.invokeFunction('convertToInteractive',\n",
              "                                                     [key], {});\n",
              "          if (!dataTable) return;\n",
              "\n",
              "          const docLinkHtml = 'Like what you see? Visit the ' +\n",
              "            '<a target=\"_blank\" href=https://colab.research.google.com/notebooks/data_table.ipynb>data table notebook</a>'\n",
              "            + ' to learn more about interactive tables.';\n",
              "          element.innerHTML = '';\n",
              "          dataTable['output_type'] = 'display_data';\n",
              "          await google.colab.output.renderOutput(dataTable, element);\n",
              "          const docLink = document.createElement('div');\n",
              "          docLink.innerHTML = docLinkHtml;\n",
              "          element.appendChild(docLink);\n",
              "        }\n",
              "      </script>\n",
              "    </div>\n",
              "  </div>\n",
              "  "
            ]
          },
          "metadata": {},
          "execution_count": 173
        }
      ]
    },
    {
      "cell_type": "code",
      "source": [
        "df[categorical_feature_names].head(2)"
      ],
      "metadata": {
        "id": "IBtNdyRCFlhw",
        "colab": {
          "base_uri": "https://localhost:8080/",
          "height": 112
        },
        "outputId": "209bb3c0-c03f-446a-ecd6-a90382af341d"
      },
      "execution_count": 174,
      "outputs": [
        {
          "output_type": "execute_result",
          "data": {
            "text/plain": [
              "          make fuel aspiration num-doors   body-style drive-wheels  \\\n",
              "0  alfa-romero  gas        std       two  convertible          rwd   \n",
              "1  alfa-romero  gas        std       two  convertible          rwd   \n",
              "\n",
              "  engine-location engine-type num-of-cylinders fuel-system  \n",
              "0           front        dohc             four        mpfi  \n",
              "1           front        dohc             four        mpfi  "
            ],
            "text/html": [
              "\n",
              "  <div id=\"df-7165dbf5-bce0-43d7-8c09-abfcd65b2a1c\">\n",
              "    <div class=\"colab-df-container\">\n",
              "      <div>\n",
              "<style scoped>\n",
              "    .dataframe tbody tr th:only-of-type {\n",
              "        vertical-align: middle;\n",
              "    }\n",
              "\n",
              "    .dataframe tbody tr th {\n",
              "        vertical-align: top;\n",
              "    }\n",
              "\n",
              "    .dataframe thead th {\n",
              "        text-align: right;\n",
              "    }\n",
              "</style>\n",
              "<table border=\"1\" class=\"dataframe\">\n",
              "  <thead>\n",
              "    <tr style=\"text-align: right;\">\n",
              "      <th></th>\n",
              "      <th>make</th>\n",
              "      <th>fuel</th>\n",
              "      <th>aspiration</th>\n",
              "      <th>num-doors</th>\n",
              "      <th>body-style</th>\n",
              "      <th>drive-wheels</th>\n",
              "      <th>engine-location</th>\n",
              "      <th>engine-type</th>\n",
              "      <th>num-of-cylinders</th>\n",
              "      <th>fuel-system</th>\n",
              "    </tr>\n",
              "  </thead>\n",
              "  <tbody>\n",
              "    <tr>\n",
              "      <th>0</th>\n",
              "      <td>alfa-romero</td>\n",
              "      <td>gas</td>\n",
              "      <td>std</td>\n",
              "      <td>two</td>\n",
              "      <td>convertible</td>\n",
              "      <td>rwd</td>\n",
              "      <td>front</td>\n",
              "      <td>dohc</td>\n",
              "      <td>four</td>\n",
              "      <td>mpfi</td>\n",
              "    </tr>\n",
              "    <tr>\n",
              "      <th>1</th>\n",
              "      <td>alfa-romero</td>\n",
              "      <td>gas</td>\n",
              "      <td>std</td>\n",
              "      <td>two</td>\n",
              "      <td>convertible</td>\n",
              "      <td>rwd</td>\n",
              "      <td>front</td>\n",
              "      <td>dohc</td>\n",
              "      <td>four</td>\n",
              "      <td>mpfi</td>\n",
              "    </tr>\n",
              "  </tbody>\n",
              "</table>\n",
              "</div>\n",
              "      <button class=\"colab-df-convert\" onclick=\"convertToInteractive('df-7165dbf5-bce0-43d7-8c09-abfcd65b2a1c')\"\n",
              "              title=\"Convert this dataframe to an interactive table.\"\n",
              "              style=\"display:none;\">\n",
              "        \n",
              "  <svg xmlns=\"http://www.w3.org/2000/svg\" height=\"24px\"viewBox=\"0 0 24 24\"\n",
              "       width=\"24px\">\n",
              "    <path d=\"M0 0h24v24H0V0z\" fill=\"none\"/>\n",
              "    <path d=\"M18.56 5.44l.94 2.06.94-2.06 2.06-.94-2.06-.94-.94-2.06-.94 2.06-2.06.94zm-11 1L8.5 8.5l.94-2.06 2.06-.94-2.06-.94L8.5 2.5l-.94 2.06-2.06.94zm10 10l.94 2.06.94-2.06 2.06-.94-2.06-.94-.94-2.06-.94 2.06-2.06.94z\"/><path d=\"M17.41 7.96l-1.37-1.37c-.4-.4-.92-.59-1.43-.59-.52 0-1.04.2-1.43.59L10.3 9.45l-7.72 7.72c-.78.78-.78 2.05 0 2.83L4 21.41c.39.39.9.59 1.41.59.51 0 1.02-.2 1.41-.59l7.78-7.78 2.81-2.81c.8-.78.8-2.07 0-2.86zM5.41 20L4 18.59l7.72-7.72 1.47 1.35L5.41 20z\"/>\n",
              "  </svg>\n",
              "      </button>\n",
              "      \n",
              "  <style>\n",
              "    .colab-df-container {\n",
              "      display:flex;\n",
              "      flex-wrap:wrap;\n",
              "      gap: 12px;\n",
              "    }\n",
              "\n",
              "    .colab-df-convert {\n",
              "      background-color: #E8F0FE;\n",
              "      border: none;\n",
              "      border-radius: 50%;\n",
              "      cursor: pointer;\n",
              "      display: none;\n",
              "      fill: #1967D2;\n",
              "      height: 32px;\n",
              "      padding: 0 0 0 0;\n",
              "      width: 32px;\n",
              "    }\n",
              "\n",
              "    .colab-df-convert:hover {\n",
              "      background-color: #E2EBFA;\n",
              "      box-shadow: 0px 1px 2px rgba(60, 64, 67, 0.3), 0px 1px 3px 1px rgba(60, 64, 67, 0.15);\n",
              "      fill: #174EA6;\n",
              "    }\n",
              "\n",
              "    [theme=dark] .colab-df-convert {\n",
              "      background-color: #3B4455;\n",
              "      fill: #D2E3FC;\n",
              "    }\n",
              "\n",
              "    [theme=dark] .colab-df-convert:hover {\n",
              "      background-color: #434B5C;\n",
              "      box-shadow: 0px 1px 3px 1px rgba(0, 0, 0, 0.15);\n",
              "      filter: drop-shadow(0px 1px 2px rgba(0, 0, 0, 0.3));\n",
              "      fill: #FFFFFF;\n",
              "    }\n",
              "  </style>\n",
              "\n",
              "      <script>\n",
              "        const buttonEl =\n",
              "          document.querySelector('#df-7165dbf5-bce0-43d7-8c09-abfcd65b2a1c button.colab-df-convert');\n",
              "        buttonEl.style.display =\n",
              "          google.colab.kernel.accessAllowed ? 'block' : 'none';\n",
              "\n",
              "        async function convertToInteractive(key) {\n",
              "          const element = document.querySelector('#df-7165dbf5-bce0-43d7-8c09-abfcd65b2a1c');\n",
              "          const dataTable =\n",
              "            await google.colab.kernel.invokeFunction('convertToInteractive',\n",
              "                                                     [key], {});\n",
              "          if (!dataTable) return;\n",
              "\n",
              "          const docLinkHtml = 'Like what you see? Visit the ' +\n",
              "            '<a target=\"_blank\" href=https://colab.research.google.com/notebooks/data_table.ipynb>data table notebook</a>'\n",
              "            + ' to learn more about interactive tables.';\n",
              "          element.innerHTML = '';\n",
              "          dataTable['output_type'] = 'display_data';\n",
              "          await google.colab.output.renderOutput(dataTable, element);\n",
              "          const docLink = document.createElement('div');\n",
              "          docLink.innerHTML = docLinkHtml;\n",
              "          element.appendChild(docLink);\n",
              "        }\n",
              "      </script>\n",
              "    </div>\n",
              "  </div>\n",
              "  "
            ]
          },
          "metadata": {},
          "execution_count": 174
        }
      ]
    },
    {
      "cell_type": "code",
      "source": [
        "from sklearn.model_selection import train_test_split\n",
        "\n",
        "X_train_full, X_test = train_test_split(df[all_feature_names + [target]], test_size = 0.2, random_state = 1)\n",
        "X_train, X_val = train_test_split(X_train_full, test_size = 0.33, random_state = 1)\n",
        "\n",
        "y_train = X_train[target].values\n",
        "y_val = X_val[target].values\n",
        "y_test = X_test[target].values\n",
        "\n",
        "X_train.drop([target], axis = 1, inplace = True)\n",
        "X_val.drop([target], axis = 1, inplace = True)\n",
        "X_test.drop([target], axis = 1, inplace = True)\n",
        "\n",
        "X_train.head(2)"
      ],
      "metadata": {
        "id": "OcLbta_9FpUv",
        "colab": {
          "base_uri": "https://localhost:8080/",
          "height": 141
        },
        "outputId": "4d63df4f-a322-4dde-d8d0-b9496c94bb19"
      },
      "execution_count": 175,
      "outputs": [
        {
          "output_type": "execute_result",
          "data": {
            "text/plain": [
              "     symboling  normalized-losses  wheel-base    length     width    height  \\\n",
              "142  -0.661984          -1.109797   -0.319841 -0.085091 -0.255396 -0.320887   \n",
              "35   -0.661984          -1.523232   -0.403545 -1.458495 -0.982143  1.847208   \n",
              "\n",
              "     curb-weight  engine-size      bore    stroke  ...    make  fuel  \\\n",
              "142    -0.540307    -0.469165  1.074231 -0.034836  ...  subaru   gas   \n",
              "35     -1.062426    -0.856467 -1.563487  0.562910  ...   honda   gas   \n",
              "\n",
              "    aspiration num-doors body-style drive-wheels engine-location engine-type  \\\n",
              "142        std      four      wagon          fwd           front        ohcf   \n",
              "35         std      four      wagon          fwd           front         ohc   \n",
              "\n",
              "    num-of-cylinders fuel-system  \n",
              "142             four        2bbl  \n",
              "35              four        1bbl  \n",
              "\n",
              "[2 rows x 22 columns]"
            ],
            "text/html": [
              "\n",
              "  <div id=\"df-a327e26c-395d-44ad-960f-28e710afacd7\">\n",
              "    <div class=\"colab-df-container\">\n",
              "      <div>\n",
              "<style scoped>\n",
              "    .dataframe tbody tr th:only-of-type {\n",
              "        vertical-align: middle;\n",
              "    }\n",
              "\n",
              "    .dataframe tbody tr th {\n",
              "        vertical-align: top;\n",
              "    }\n",
              "\n",
              "    .dataframe thead th {\n",
              "        text-align: right;\n",
              "    }\n",
              "</style>\n",
              "<table border=\"1\" class=\"dataframe\">\n",
              "  <thead>\n",
              "    <tr style=\"text-align: right;\">\n",
              "      <th></th>\n",
              "      <th>symboling</th>\n",
              "      <th>normalized-losses</th>\n",
              "      <th>wheel-base</th>\n",
              "      <th>length</th>\n",
              "      <th>width</th>\n",
              "      <th>height</th>\n",
              "      <th>curb-weight</th>\n",
              "      <th>engine-size</th>\n",
              "      <th>bore</th>\n",
              "      <th>stroke</th>\n",
              "      <th>...</th>\n",
              "      <th>make</th>\n",
              "      <th>fuel</th>\n",
              "      <th>aspiration</th>\n",
              "      <th>num-doors</th>\n",
              "      <th>body-style</th>\n",
              "      <th>drive-wheels</th>\n",
              "      <th>engine-location</th>\n",
              "      <th>engine-type</th>\n",
              "      <th>num-of-cylinders</th>\n",
              "      <th>fuel-system</th>\n",
              "    </tr>\n",
              "  </thead>\n",
              "  <tbody>\n",
              "    <tr>\n",
              "      <th>142</th>\n",
              "      <td>-0.661984</td>\n",
              "      <td>-1.109797</td>\n",
              "      <td>-0.319841</td>\n",
              "      <td>-0.085091</td>\n",
              "      <td>-0.255396</td>\n",
              "      <td>-0.320887</td>\n",
              "      <td>-0.540307</td>\n",
              "      <td>-0.469165</td>\n",
              "      <td>1.074231</td>\n",
              "      <td>-0.034836</td>\n",
              "      <td>...</td>\n",
              "      <td>subaru</td>\n",
              "      <td>gas</td>\n",
              "      <td>std</td>\n",
              "      <td>four</td>\n",
              "      <td>wagon</td>\n",
              "      <td>fwd</td>\n",
              "      <td>front</td>\n",
              "      <td>ohcf</td>\n",
              "      <td>four</td>\n",
              "      <td>2bbl</td>\n",
              "    </tr>\n",
              "    <tr>\n",
              "      <th>35</th>\n",
              "      <td>-0.661984</td>\n",
              "      <td>-1.523232</td>\n",
              "      <td>-0.403545</td>\n",
              "      <td>-1.458495</td>\n",
              "      <td>-0.982143</td>\n",
              "      <td>1.847208</td>\n",
              "      <td>-1.062426</td>\n",
              "      <td>-0.856467</td>\n",
              "      <td>-1.563487</td>\n",
              "      <td>0.562910</td>\n",
              "      <td>...</td>\n",
              "      <td>honda</td>\n",
              "      <td>gas</td>\n",
              "      <td>std</td>\n",
              "      <td>four</td>\n",
              "      <td>wagon</td>\n",
              "      <td>fwd</td>\n",
              "      <td>front</td>\n",
              "      <td>ohc</td>\n",
              "      <td>four</td>\n",
              "      <td>1bbl</td>\n",
              "    </tr>\n",
              "  </tbody>\n",
              "</table>\n",
              "<p>2 rows × 22 columns</p>\n",
              "</div>\n",
              "      <button class=\"colab-df-convert\" onclick=\"convertToInteractive('df-a327e26c-395d-44ad-960f-28e710afacd7')\"\n",
              "              title=\"Convert this dataframe to an interactive table.\"\n",
              "              style=\"display:none;\">\n",
              "        \n",
              "  <svg xmlns=\"http://www.w3.org/2000/svg\" height=\"24px\"viewBox=\"0 0 24 24\"\n",
              "       width=\"24px\">\n",
              "    <path d=\"M0 0h24v24H0V0z\" fill=\"none\"/>\n",
              "    <path d=\"M18.56 5.44l.94 2.06.94-2.06 2.06-.94-2.06-.94-.94-2.06-.94 2.06-2.06.94zm-11 1L8.5 8.5l.94-2.06 2.06-.94-2.06-.94L8.5 2.5l-.94 2.06-2.06.94zm10 10l.94 2.06.94-2.06 2.06-.94-2.06-.94-.94-2.06-.94 2.06-2.06.94z\"/><path d=\"M17.41 7.96l-1.37-1.37c-.4-.4-.92-.59-1.43-.59-.52 0-1.04.2-1.43.59L10.3 9.45l-7.72 7.72c-.78.78-.78 2.05 0 2.83L4 21.41c.39.39.9.59 1.41.59.51 0 1.02-.2 1.41-.59l7.78-7.78 2.81-2.81c.8-.78.8-2.07 0-2.86zM5.41 20L4 18.59l7.72-7.72 1.47 1.35L5.41 20z\"/>\n",
              "  </svg>\n",
              "      </button>\n",
              "      \n",
              "  <style>\n",
              "    .colab-df-container {\n",
              "      display:flex;\n",
              "      flex-wrap:wrap;\n",
              "      gap: 12px;\n",
              "    }\n",
              "\n",
              "    .colab-df-convert {\n",
              "      background-color: #E8F0FE;\n",
              "      border: none;\n",
              "      border-radius: 50%;\n",
              "      cursor: pointer;\n",
              "      display: none;\n",
              "      fill: #1967D2;\n",
              "      height: 32px;\n",
              "      padding: 0 0 0 0;\n",
              "      width: 32px;\n",
              "    }\n",
              "\n",
              "    .colab-df-convert:hover {\n",
              "      background-color: #E2EBFA;\n",
              "      box-shadow: 0px 1px 2px rgba(60, 64, 67, 0.3), 0px 1px 3px 1px rgba(60, 64, 67, 0.15);\n",
              "      fill: #174EA6;\n",
              "    }\n",
              "\n",
              "    [theme=dark] .colab-df-convert {\n",
              "      background-color: #3B4455;\n",
              "      fill: #D2E3FC;\n",
              "    }\n",
              "\n",
              "    [theme=dark] .colab-df-convert:hover {\n",
              "      background-color: #434B5C;\n",
              "      box-shadow: 0px 1px 3px 1px rgba(0, 0, 0, 0.15);\n",
              "      filter: drop-shadow(0px 1px 2px rgba(0, 0, 0, 0.3));\n",
              "      fill: #FFFFFF;\n",
              "    }\n",
              "  </style>\n",
              "\n",
              "      <script>\n",
              "        const buttonEl =\n",
              "          document.querySelector('#df-a327e26c-395d-44ad-960f-28e710afacd7 button.colab-df-convert');\n",
              "        buttonEl.style.display =\n",
              "          google.colab.kernel.accessAllowed ? 'block' : 'none';\n",
              "\n",
              "        async function convertToInteractive(key) {\n",
              "          const element = document.querySelector('#df-a327e26c-395d-44ad-960f-28e710afacd7');\n",
              "          const dataTable =\n",
              "            await google.colab.kernel.invokeFunction('convertToInteractive',\n",
              "                                                     [key], {});\n",
              "          if (!dataTable) return;\n",
              "\n",
              "          const docLinkHtml = 'Like what you see? Visit the ' +\n",
              "            '<a target=\"_blank\" href=https://colab.research.google.com/notebooks/data_table.ipynb>data table notebook</a>'\n",
              "            + ' to learn more about interactive tables.';\n",
              "          element.innerHTML = '';\n",
              "          dataTable['output_type'] = 'display_data';\n",
              "          await google.colab.output.renderOutput(dataTable, element);\n",
              "          const docLink = document.createElement('div');\n",
              "          docLink.innerHTML = docLinkHtml;\n",
              "          element.appendChild(docLink);\n",
              "        }\n",
              "      </script>\n",
              "    </div>\n",
              "  </div>\n",
              "  "
            ]
          },
          "metadata": {},
          "execution_count": 175
        }
      ]
    },
    {
      "cell_type": "markdown",
      "source": [
        "# Ingeniería de propiedades"
      ],
      "metadata": {
        "id": "R4P_-MF1FvPX"
      }
    },
    {
      "cell_type": "markdown",
      "source": [
        "Una vez realizada la división del conjunto de datos, procederemos a codificar el conjunto de propiedades en un vector de propiedades. Utilizaremos la clase DictVectorizer para realizar la codificación one-hot de las variables categóricas."
      ],
      "metadata": {
        "id": "I2hNtfuA1_6A"
      }
    },
    {
      "cell_type": "code",
      "source": [
        "train_dict = X_train[all_feature_names].to_dict(orient = 'records')\n",
        "dict(sorted(train_dict[0].items()))"
      ],
      "metadata": {
        "id": "BpWjtdjrFzg4",
        "colab": {
          "base_uri": "https://localhost:8080/"
        },
        "outputId": "e8d86ce9-d4b2-40c4-ecb0-9514776aab72"
      },
      "execution_count": 176,
      "outputs": [
        {
          "output_type": "execute_result",
          "data": {
            "text/plain": [
              "{'aspiration': 'std',\n",
              " 'body-style': 'wagon',\n",
              " 'bore': 1.0742307028323315,\n",
              " 'compression-ratio': -0.2915536006198609,\n",
              " 'curb-weight': -0.5403074140306409,\n",
              " 'drive-wheels': 'fwd',\n",
              " 'engine-location': 'front',\n",
              " 'engine-size': -0.4691652619797438,\n",
              " 'engine-type': 'ohcf',\n",
              " 'fuel': 'gas',\n",
              " 'fuel-system': '2bbl',\n",
              " 'height': -0.3208870972487771,\n",
              " 'horsepower': -0.5904605012130855,\n",
              " 'length': -0.08509077518155339,\n",
              " 'make': 'subaru',\n",
              " 'normalized-losses': -1.109796953676926,\n",
              " 'num-doors': 'four',\n",
              " 'num-of-cylinders': 'four',\n",
              " 'stroke': -0.03483575396661588,\n",
              " 'symboling': -0.6619836269705652,\n",
              " 'wheel-base': -0.3198410045400321,\n",
              " 'width': -0.25539604207180566}"
            ]
          },
          "metadata": {},
          "execution_count": 176
        }
      ]
    },
    {
      "cell_type": "code",
      "source": [
        "from sklearn.feature_extraction import DictVectorizer\n",
        "\n",
        "dv = DictVectorizer(sparse = False)\n",
        "dv.fit(train_dict)\n",
        "\n",
        "X_train = dv.transform(train_dict)\n",
        "X_train[0]"
      ],
      "metadata": {
        "id": "22iE6ADOF3Nt",
        "colab": {
          "base_uri": "https://localhost:8080/"
        },
        "outputId": "0f3393d9-a8bf-4ae2-a6d6-3b186868dd0a"
      },
      "execution_count": 177,
      "outputs": [
        {
          "output_type": "execute_result",
          "data": {
            "text/plain": [
              "array([ 1.        ,  0.        ,  0.        ,  0.        ,  0.        ,\n",
              "        0.        ,  1.        ,  1.0742307 , -0.2915536 , -0.54030741,\n",
              "        0.        ,  1.        ,  0.        ,  1.        ,  0.        ,\n",
              "       -0.46916526,  0.        ,  0.        ,  0.        ,  1.        ,\n",
              "        0.        ,  0.        ,  0.        ,  1.        ,  0.        ,\n",
              "        0.        ,  0.        ,  0.        ,  0.        ,  1.        ,\n",
              "       -0.3208871 , -0.5904605 , -0.08509078,  0.        ,  0.        ,\n",
              "        0.        ,  0.        ,  0.        ,  0.        ,  0.        ,\n",
              "        0.        ,  0.        ,  0.        ,  0.        ,  0.        ,\n",
              "        0.        ,  0.        ,  0.        ,  0.        ,  0.        ,\n",
              "        1.        ,  0.        ,  0.        ,  0.        , -1.10979695,\n",
              "        1.        ,  0.        ,  0.        ,  0.        ,  1.        ,\n",
              "        0.        ,  0.        , -0.03483575, -0.66198363, -0.319841  ,\n",
              "       -0.25539604])"
            ]
          },
          "metadata": {},
          "execution_count": 177
        }
      ]
    },
    {
      "cell_type": "code",
      "source": [
        "dv.get_feature_names_out()"
      ],
      "metadata": {
        "id": "qChsjVfPF_AL",
        "colab": {
          "base_uri": "https://localhost:8080/"
        },
        "outputId": "e2c520a0-3da2-482a-cf6d-001212fbac3f"
      },
      "execution_count": 178,
      "outputs": [
        {
          "output_type": "execute_result",
          "data": {
            "text/plain": [
              "array(['aspiration=std', 'aspiration=turbo', 'body-style=convertible',\n",
              "       'body-style=hardtop', 'body-style=hatchback', 'body-style=sedan',\n",
              "       'body-style=wagon', 'bore', 'compression-ratio', 'curb-weight',\n",
              "       'drive-wheels=4wd', 'drive-wheels=fwd', 'drive-wheels=rwd',\n",
              "       'engine-location=front', 'engine-location=rear', 'engine-size',\n",
              "       'engine-type=dohc', 'engine-type=l', 'engine-type=ohc',\n",
              "       'engine-type=ohcf', 'engine-type=ohcv', 'engine-type=rotor',\n",
              "       'fuel-system=1bbl', 'fuel-system=2bbl', 'fuel-system=4bbl',\n",
              "       'fuel-system=idi', 'fuel-system=mpfi', 'fuel-system=spdi',\n",
              "       'fuel=diesel', 'fuel=gas', 'height', 'horsepower', 'length',\n",
              "       'make=alfa-romero', 'make=audi', 'make=bmw', 'make=chevrolet',\n",
              "       'make=dodge', 'make=honda', 'make=jaguar', 'make=mazda',\n",
              "       'make=mercedes-benz', 'make=mercury', 'make=mitsubishi',\n",
              "       'make=nissan', 'make=peugot', 'make=plymouth', 'make=porsche',\n",
              "       'make=renault', 'make=saab', 'make=subaru', 'make=toyota',\n",
              "       'make=volkswagen', 'make=volvo', 'normalized-losses',\n",
              "       'num-doors=four', 'num-doors=two', 'num-of-cylinders=eight',\n",
              "       'num-of-cylinders=five', 'num-of-cylinders=four',\n",
              "       'num-of-cylinders=six', 'num-of-cylinders=two', 'stroke',\n",
              "       'symboling', 'wheel-base', 'width'], dtype=object)"
            ]
          },
          "metadata": {},
          "execution_count": 178
        }
      ]
    },
    {
      "cell_type": "markdown",
      "source": [
        "# Entrenamiento del modelo"
      ],
      "metadata": {
        "id": "kZ9G877cGFSP"
      }
    },
    {
      "cell_type": "code",
      "source": [
        "from sklearn.linear_model import LinearRegression\n",
        "\n",
        "model = LinearRegression()\n",
        "model.fit(X_train, y_train)"
      ],
      "metadata": {
        "id": "L5TkraEgGIpP",
        "colab": {
          "base_uri": "https://localhost:8080/",
          "height": 75
        },
        "outputId": "2e312dcf-4fff-4539-cf3f-6d2f2f703d2f"
      },
      "execution_count": 179,
      "outputs": [
        {
          "output_type": "execute_result",
          "data": {
            "text/plain": [
              "LinearRegression()"
            ],
            "text/html": [
              "<style>#sk-container-id-1 {color: black;background-color: white;}#sk-container-id-1 pre{padding: 0;}#sk-container-id-1 div.sk-toggleable {background-color: white;}#sk-container-id-1 label.sk-toggleable__label {cursor: pointer;display: block;width: 100%;margin-bottom: 0;padding: 0.3em;box-sizing: border-box;text-align: center;}#sk-container-id-1 label.sk-toggleable__label-arrow:before {content: \"▸\";float: left;margin-right: 0.25em;color: #696969;}#sk-container-id-1 label.sk-toggleable__label-arrow:hover:before {color: black;}#sk-container-id-1 div.sk-estimator:hover label.sk-toggleable__label-arrow:before {color: black;}#sk-container-id-1 div.sk-toggleable__content {max-height: 0;max-width: 0;overflow: hidden;text-align: left;background-color: #f0f8ff;}#sk-container-id-1 div.sk-toggleable__content pre {margin: 0.2em;color: black;border-radius: 0.25em;background-color: #f0f8ff;}#sk-container-id-1 input.sk-toggleable__control:checked~div.sk-toggleable__content {max-height: 200px;max-width: 100%;overflow: auto;}#sk-container-id-1 input.sk-toggleable__control:checked~label.sk-toggleable__label-arrow:before {content: \"▾\";}#sk-container-id-1 div.sk-estimator input.sk-toggleable__control:checked~label.sk-toggleable__label {background-color: #d4ebff;}#sk-container-id-1 div.sk-label input.sk-toggleable__control:checked~label.sk-toggleable__label {background-color: #d4ebff;}#sk-container-id-1 input.sk-hidden--visually {border: 0;clip: rect(1px 1px 1px 1px);clip: rect(1px, 1px, 1px, 1px);height: 1px;margin: -1px;overflow: hidden;padding: 0;position: absolute;width: 1px;}#sk-container-id-1 div.sk-estimator {font-family: monospace;background-color: #f0f8ff;border: 1px dotted black;border-radius: 0.25em;box-sizing: border-box;margin-bottom: 0.5em;}#sk-container-id-1 div.sk-estimator:hover {background-color: #d4ebff;}#sk-container-id-1 div.sk-parallel-item::after {content: \"\";width: 100%;border-bottom: 1px solid gray;flex-grow: 1;}#sk-container-id-1 div.sk-label:hover label.sk-toggleable__label {background-color: #d4ebff;}#sk-container-id-1 div.sk-serial::before {content: \"\";position: absolute;border-left: 1px solid gray;box-sizing: border-box;top: 0;bottom: 0;left: 50%;z-index: 0;}#sk-container-id-1 div.sk-serial {display: flex;flex-direction: column;align-items: center;background-color: white;padding-right: 0.2em;padding-left: 0.2em;position: relative;}#sk-container-id-1 div.sk-item {position: relative;z-index: 1;}#sk-container-id-1 div.sk-parallel {display: flex;align-items: stretch;justify-content: center;background-color: white;position: relative;}#sk-container-id-1 div.sk-item::before, #sk-container-id-1 div.sk-parallel-item::before {content: \"\";position: absolute;border-left: 1px solid gray;box-sizing: border-box;top: 0;bottom: 0;left: 50%;z-index: -1;}#sk-container-id-1 div.sk-parallel-item {display: flex;flex-direction: column;z-index: 1;position: relative;background-color: white;}#sk-container-id-1 div.sk-parallel-item:first-child::after {align-self: flex-end;width: 50%;}#sk-container-id-1 div.sk-parallel-item:last-child::after {align-self: flex-start;width: 50%;}#sk-container-id-1 div.sk-parallel-item:only-child::after {width: 0;}#sk-container-id-1 div.sk-dashed-wrapped {border: 1px dashed gray;margin: 0 0.4em 0.5em 0.4em;box-sizing: border-box;padding-bottom: 0.4em;background-color: white;}#sk-container-id-1 div.sk-label label {font-family: monospace;font-weight: bold;display: inline-block;line-height: 1.2em;}#sk-container-id-1 div.sk-label-container {text-align: center;}#sk-container-id-1 div.sk-container {/* jupyter's `normalize.less` sets `[hidden] { display: none; }` but bootstrap.min.css set `[hidden] { display: none !important; }` so we also need the `!important` here to be able to override the default hidden behavior on the sphinx rendered scikit-learn.org. See: https://github.com/scikit-learn/scikit-learn/issues/21755 */display: inline-block !important;position: relative;}#sk-container-id-1 div.sk-text-repr-fallback {display: none;}</style><div id=\"sk-container-id-1\" class=\"sk-top-container\"><div class=\"sk-text-repr-fallback\"><pre>LinearRegression()</pre><b>In a Jupyter environment, please rerun this cell to show the HTML representation or trust the notebook. <br />On GitHub, the HTML representation is unable to render, please try loading this page with nbviewer.org.</b></div><div class=\"sk-container\" hidden><div class=\"sk-item\"><div class=\"sk-estimator sk-toggleable\"><input class=\"sk-toggleable__control sk-hidden--visually\" id=\"sk-estimator-id-1\" type=\"checkbox\" checked><label for=\"sk-estimator-id-1\" class=\"sk-toggleable__label sk-toggleable__label-arrow\">LinearRegression</label><div class=\"sk-toggleable__content\"><pre>LinearRegression()</pre></div></div></div></div></div>"
            ]
          },
          "metadata": {},
          "execution_count": 179
        }
      ]
    },
    {
      "cell_type": "code",
      "source": [
        "# precisión del modelo con los datos de entrenamiento\n",
        "model.score(X_train, y_train)"
      ],
      "metadata": {
        "id": "wCy-QPFVGNBh",
        "colab": {
          "base_uri": "https://localhost:8080/"
        },
        "outputId": "ac433a66-8aaa-48d4-b2b1-e6504d13743d"
      },
      "execution_count": 180,
      "outputs": [
        {
          "output_type": "execute_result",
          "data": {
            "text/plain": [
              "0.8879995828430517"
            ]
          },
          "metadata": {},
          "execution_count": 180
        }
      ]
    },
    {
      "cell_type": "code",
      "source": [
        "# precisión con los datos de validación\n",
        "X_val = dv.transform(X_val[all_feature_names].to_dict(orient = 'records'))\n",
        "model.score(X_val, y_val)"
      ],
      "metadata": {
        "id": "bnOuhYPNGSQQ",
        "colab": {
          "base_uri": "https://localhost:8080/"
        },
        "outputId": "4037e111-42dc-414c-828a-2c4588d2d448"
      },
      "execution_count": 181,
      "outputs": [
        {
          "output_type": "execute_result",
          "data": {
            "text/plain": [
              "0.5054279577678179"
            ]
          },
          "metadata": {},
          "execution_count": 181
        }
      ]
    },
    {
      "cell_type": "code",
      "source": [
        "# precisón con los datos de prueba\n",
        "X_test = dv.transform(X_test[all_feature_names].to_dict(orient = 'records'))\n",
        "y_pred = model.predict(X_test)\n",
        "model.score(X_test, y_test)"
      ],
      "metadata": {
        "id": "H_jyJN3tGV_h",
        "colab": {
          "base_uri": "https://localhost:8080/"
        },
        "outputId": "d21d33ea-04d2-4d68-a1f3-f52619a91e9c"
      },
      "execution_count": 182,
      "outputs": [
        {
          "output_type": "execute_result",
          "data": {
            "text/plain": [
              "0.16849988315863595"
            ]
          },
          "metadata": {},
          "execution_count": 182
        }
      ]
    },
    {
      "cell_type": "code",
      "source": [
        "# representando las predicciones para los datos de prueba de los\n",
        "# 15 primeros coches\n",
        "\n",
        "import matplotlib.pyplot as plt\n",
        "import numpy as np\n",
        "\n",
        "ind = np.arange(15)\n",
        "width = 0.35\n",
        "\n",
        "plt.figure(figsize = (9, 4))\n",
        "plt.bar(ind, y_test[:15], width, label = 'Precio de venta real')\n",
        "plt.bar(ind+width, y_pred[:15], width, label = 'Precio de venta predicho')\n",
        "\n",
        "plt.xticks(ind+width / 2, np.arange(1, 16))\n",
        "plt.legend(loc = 'best')\n",
        "\n",
        "plt.xlabel('Coches')\n",
        "plt.ylabel('Precio de venta')\n",
        "plt.title('Precio de venta - Real vs. Predicho')\n",
        "\n",
        "plt.show()"
      ],
      "metadata": {
        "colab": {
          "base_uri": "https://localhost:8080/",
          "height": 295
        },
        "id": "Lpl0vm-MGZ9F",
        "outputId": "6eee6e20-0568-44ca-c1be-f8f804560b4b"
      },
      "execution_count": 183,
      "outputs": [
        {
          "output_type": "display_data",
          "data": {
            "text/plain": [
              "<Figure size 648x288 with 1 Axes>"
            ],
            "image/png": "[encoded data removed]"
          },
          "metadata": {
            "needs_background": "light"
          }
        }
      ]
    },
    {
      "cell_type": "markdown",
      "source": [
        "# Modelo basado en una red neuronal"
      ],
      "metadata": {
        "id": "w_ALdnsK3PJ1"
      }
    },
    {
      "cell_type": "code",
      "source": [
        "# implementa una red neuronal para realizar las mismas predicciones"
      ],
      "metadata": {
        "id": "fmSXlHTm2_dQ"
      },
      "execution_count": null,
      "outputs": []
    },
    {
      "cell_type": "code",
      "source": [
        "import pandas as pd\n",
        "from tensorflow.keras.models import Sequential\n",
        "from tensorflow.keras.layers import Dense"
      ],
      "metadata": {
        "id": "SJG0gWlvs564"
      },
      "execution_count": 232,
      "outputs": []
    },
    {
      "cell_type": "code",
      "source": [
        "print(len(df))\n",
        "df.head().T"
      ],
      "metadata": {
        "colab": {
          "base_uri": "https://localhost:8080/",
          "height": 789
        },
        "id": "lKjC8Oqts7c6",
        "outputId": "c74a7f3f-b45b-4845-99bb-398d7b4ca2ba"
      },
      "execution_count": 233,
      "outputs": [
        {
          "output_type": "stream",
          "name": "stdout",
          "text": [
            "199\n"
          ]
        },
        {
          "output_type": "execute_result",
          "data": {
            "text/plain": [
              "                             0            1            2         3         4\n",
              "symboling             1.733193     1.733193     0.136409  0.934801  0.934801\n",
              "normalized-losses     0.130509     0.130509     0.130509   1.70908   1.70908\n",
              "make               alfa-romero  alfa-romero  alfa-romero      audi      audi\n",
              "fuel                       gas          gas          gas       gas       gas\n",
              "aspiration                 std          std          std       std       std\n",
              "num-doors                  two          two          two      four      four\n",
              "body-style         convertible  convertible    hatchback     sedan     sedan\n",
              "drive-wheels               rwd          rwd          rwd       fwd       4wd\n",
              "engine-location          front        front        front     front     front\n",
              "wheel-base           -1.726065    -1.726065     -0.73836    0.1489  0.081937\n",
              "length               -0.478688    -0.478688    -0.277702  0.174516  0.174516\n",
              "width                -0.885243    -0.885243    -0.206946  0.132202  0.229102\n",
              "height                  -2.039       -2.039    -0.566332   0.21091   0.21091\n",
              "curb-weight          -0.033891    -0.033891     0.505893 -0.448053  0.507856\n",
              "engine-type               dohc         dohc         ohcv       ohc       ohc\n",
              "num-of-cylinders          four         four          six      four      five\n",
              "engine-size           0.063374     0.063374     0.595914 -0.444959  0.208613\n",
              "fuel-system               mpfi         mpfi         mpfi      mpfi      mpfi\n",
              "bore                  0.509006     0.509006    -2.467847 -0.546081 -0.546081\n",
              "stroke               -0.034836    -0.034836     0.861783  0.513098  0.513098\n",
              "compression-ratio    -0.291554    -0.291554    -0.291554 -0.042459 -0.540648\n",
              "horsepower            0.190995     0.190995     1.349706 -0.051525  0.298782\n",
              "price                  13495.0      16500.0      16500.0   13950.0   17450.0"
            ],
            "text/html": [
              "\n",
              "  <div id=\"df-6fffdd57-61ce-4c2c-8b05-bf6d6a299c68\">\n",
              "    <div class=\"colab-df-container\">\n",
              "      <div>\n",
              "<style scoped>\n",
              "    .dataframe tbody tr th:only-of-type {\n",
              "        vertical-align: middle;\n",
              "    }\n",
              "\n",
              "    .dataframe tbody tr th {\n",
              "        vertical-align: top;\n",
              "    }\n",
              "\n",
              "    .dataframe thead th {\n",
              "        text-align: right;\n",
              "    }\n",
              "</style>\n",
              "<table border=\"1\" class=\"dataframe\">\n",
              "  <thead>\n",
              "    <tr style=\"text-align: right;\">\n",
              "      <th></th>\n",
              "      <th>0</th>\n",
              "      <th>1</th>\n",
              "      <th>2</th>\n",
              "      <th>3</th>\n",
              "      <th>4</th>\n",
              "    </tr>\n",
              "  </thead>\n",
              "  <tbody>\n",
              "    <tr>\n",
              "      <th>symboling</th>\n",
              "      <td>1.733193</td>\n",
              "      <td>1.733193</td>\n",
              "      <td>0.136409</td>\n",
              "      <td>0.934801</td>\n",
              "      <td>0.934801</td>\n",
              "    </tr>\n",
              "    <tr>\n",
              "      <th>normalized-losses</th>\n",
              "      <td>0.130509</td>\n",
              "      <td>0.130509</td>\n",
              "      <td>0.130509</td>\n",
              "      <td>1.70908</td>\n",
              "      <td>1.70908</td>\n",
              "    </tr>\n",
              "    <tr>\n",
              "      <th>make</th>\n",
              "      <td>alfa-romero</td>\n",
              "      <td>alfa-romero</td>\n",
              "      <td>alfa-romero</td>\n",
              "      <td>audi</td>\n",
              "      <td>audi</td>\n",
              "    </tr>\n",
              "    <tr>\n",
              "      <th>fuel</th>\n",
              "      <td>gas</td>\n",
              "      <td>gas</td>\n",
              "      <td>gas</td>\n",
              "      <td>gas</td>\n",
              "      <td>gas</td>\n",
              "    </tr>\n",
              "    <tr>\n",
              "      <th>aspiration</th>\n",
              "      <td>std</td>\n",
              "      <td>std</td>\n",
              "      <td>std</td>\n",
              "      <td>std</td>\n",
              "      <td>std</td>\n",
              "    </tr>\n",
              "    <tr>\n",
              "      <th>num-doors</th>\n",
              "      <td>two</td>\n",
              "      <td>two</td>\n",
              "      <td>two</td>\n",
              "      <td>four</td>\n",
              "      <td>four</td>\n",
              "    </tr>\n",
              "    <tr>\n",
              "      <th>body-style</th>\n",
              "      <td>convertible</td>\n",
              "      <td>convertible</td>\n",
              "      <td>hatchback</td>\n",
              "      <td>sedan</td>\n",
              "      <td>sedan</td>\n",
              "    </tr>\n",
              "    <tr>\n",
              "      <th>drive-wheels</th>\n",
              "      <td>rwd</td>\n",
              "      <td>rwd</td>\n",
              "      <td>rwd</td>\n",
              "      <td>fwd</td>\n",
              "      <td>4wd</td>\n",
              "    </tr>\n",
              "    <tr>\n",
              "      <th>engine-location</th>\n",
              "      <td>front</td>\n",
              "      <td>front</td>\n",
              "      <td>front</td>\n",
              "      <td>front</td>\n",
              "      <td>front</td>\n",
              "    </tr>\n",
              "    <tr>\n",
              "      <th>wheel-base</th>\n",
              "      <td>-1.726065</td>\n",
              "      <td>-1.726065</td>\n",
              "      <td>-0.73836</td>\n",
              "      <td>0.1489</td>\n",
              "      <td>0.081937</td>\n",
              "    </tr>\n",
              "    <tr>\n",
              "      <th>length</th>\n",
              "      <td>-0.478688</td>\n",
              "      <td>-0.478688</td>\n",
              "      <td>-0.277702</td>\n",
              "      <td>0.174516</td>\n",
              "      <td>0.174516</td>\n",
              "    </tr>\n",
              "    <tr>\n",
              "      <th>width</th>\n",
              "      <td>-0.885243</td>\n",
              "      <td>-0.885243</td>\n",
              "      <td>-0.206946</td>\n",
              "      <td>0.132202</td>\n",
              "      <td>0.229102</td>\n",
              "    </tr>\n",
              "    <tr>\n",
              "      <th>height</th>\n",
              "      <td>-2.039</td>\n",
              "      <td>-2.039</td>\n",
              "      <td>-0.566332</td>\n",
              "      <td>0.21091</td>\n",
              "      <td>0.21091</td>\n",
              "    </tr>\n",
              "    <tr>\n",
              "      <th>curb-weight</th>\n",
              "      <td>-0.033891</td>\n",
              "      <td>-0.033891</td>\n",
              "      <td>0.505893</td>\n",
              "      <td>-0.448053</td>\n",
              "      <td>0.507856</td>\n",
              "    </tr>\n",
              "    <tr>\n",
              "      <th>engine-type</th>\n",
              "      <td>dohc</td>\n",
              "      <td>dohc</td>\n",
              "      <td>ohcv</td>\n",
              "      <td>ohc</td>\n",
              "      <td>ohc</td>\n",
              "    </tr>\n",
              "    <tr>\n",
              "      <th>num-of-cylinders</th>\n",
              "      <td>four</td>\n",
              "      <td>four</td>\n",
              "      <td>six</td>\n",
              "      <td>four</td>\n",
              "      <td>five</td>\n",
              "    </tr>\n",
              "    <tr>\n",
              "      <th>engine-size</th>\n",
              "      <td>0.063374</td>\n",
              "      <td>0.063374</td>\n",
              "      <td>0.595914</td>\n",
              "      <td>-0.444959</td>\n",
              "      <td>0.208613</td>\n",
              "    </tr>\n",
              "    <tr>\n",
              "      <th>fuel-system</th>\n",
              "      <td>mpfi</td>\n",
              "      <td>mpfi</td>\n",
              "      <td>mpfi</td>\n",
              "      <td>mpfi</td>\n",
              "      <td>mpfi</td>\n",
              "    </tr>\n",
              "    <tr>\n",
              "      <th>bore</th>\n",
              "      <td>0.509006</td>\n",
              "      <td>0.509006</td>\n",
              "      <td>-2.467847</td>\n",
              "      <td>-0.546081</td>\n",
              "      <td>-0.546081</td>\n",
              "    </tr>\n",
              "    <tr>\n",
              "      <th>stroke</th>\n",
              "      <td>-0.034836</td>\n",
              "      <td>-0.034836</td>\n",
              "      <td>0.861783</td>\n",
              "      <td>0.513098</td>\n",
              "      <td>0.513098</td>\n",
              "    </tr>\n",
              "    <tr>\n",
              "      <th>compression-ratio</th>\n",
              "      <td>-0.291554</td>\n",
              "      <td>-0.291554</td>\n",
              "      <td>-0.291554</td>\n",
              "      <td>-0.042459</td>\n",
              "      <td>-0.540648</td>\n",
              "    </tr>\n",
              "    <tr>\n",
              "      <th>horsepower</th>\n",
              "      <td>0.190995</td>\n",
              "      <td>0.190995</td>\n",
              "      <td>1.349706</td>\n",
              "      <td>-0.051525</td>\n",
              "      <td>0.298782</td>\n",
              "    </tr>\n",
              "    <tr>\n",
              "      <th>price</th>\n",
              "      <td>13495.0</td>\n",
              "      <td>16500.0</td>\n",
              "      <td>16500.0</td>\n",
              "      <td>13950.0</td>\n",
              "      <td>17450.0</td>\n",
              "    </tr>\n",
              "  </tbody>\n",
              "</table>\n",
              "</div>\n",
              "      <button class=\"colab-df-convert\" onclick=\"convertToInteractive('df-6fffdd57-61ce-4c2c-8b05-bf6d6a299c68')\"\n",
              "              title=\"Convert this dataframe to an interactive table.\"\n",
              "              style=\"display:none;\">\n",
              "        \n",
              "  <svg xmlns=\"http://www.w3.org/2000/svg\" height=\"24px\"viewBox=\"0 0 24 24\"\n",
              "       width=\"24px\">\n",
              "    <path d=\"M0 0h24v24H0V0z\" fill=\"none\"/>\n",
              "    <path d=\"M18.56 5.44l.94 2.06.94-2.06 2.06-.94-2.06-.94-.94-2.06-.94 2.06-2.06.94zm-11 1L8.5 8.5l.94-2.06 2.06-.94-2.06-.94L8.5 2.5l-.94 2.06-2.06.94zm10 10l.94 2.06.94-2.06 2.06-.94-2.06-.94-.94-2.06-.94 2.06-2.06.94z\"/><path d=\"M17.41 7.96l-1.37-1.37c-.4-.4-.92-.59-1.43-.59-.52 0-1.04.2-1.43.59L10.3 9.45l-7.72 7.72c-.78.78-.78 2.05 0 2.83L4 21.41c.39.39.9.59 1.41.59.51 0 1.02-.2 1.41-.59l7.78-7.78 2.81-2.81c.8-.78.8-2.07 0-2.86zM5.41 20L4 18.59l7.72-7.72 1.47 1.35L5.41 20z\"/>\n",
              "  </svg>\n",
              "      </button>\n",
              "      \n",
              "  <style>\n",
              "    .colab-df-container {\n",
              "      display:flex;\n",
              "      flex-wrap:wrap;\n",
              "      gap: 12px;\n",
              "    }\n",
              "\n",
              "    .colab-df-convert {\n",
              "      background-color: #E8F0FE;\n",
              "      border: none;\n",
              "      border-radius: 50%;\n",
              "      cursor: pointer;\n",
              "      display: none;\n",
              "      fill: #1967D2;\n",
              "      height: 32px;\n",
              "      padding: 0 0 0 0;\n",
              "      width: 32px;\n",
              "    }\n",
              "\n",
              "    .colab-df-convert:hover {\n",
              "      background-color: #E2EBFA;\n",
              "      box-shadow: 0px 1px 2px rgba(60, 64, 67, 0.3), 0px 1px 3px 1px rgba(60, 64, 67, 0.15);\n",
              "      fill: #174EA6;\n",
              "    }\n",
              "\n",
              "    [theme=dark] .colab-df-convert {\n",
              "      background-color: #3B4455;\n",
              "      fill: #D2E3FC;\n",
              "    }\n",
              "\n",
              "    [theme=dark] .colab-df-convert:hover {\n",
              "      background-color: #434B5C;\n",
              "      box-shadow: 0px 1px 3px 1px rgba(0, 0, 0, 0.15);\n",
              "      filter: drop-shadow(0px 1px 2px rgba(0, 0, 0, 0.3));\n",
              "      fill: #FFFFFF;\n",
              "    }\n",
              "  </style>\n",
              "\n",
              "      <script>\n",
              "        const buttonEl =\n",
              "          document.querySelector('#df-6fffdd57-61ce-4c2c-8b05-bf6d6a299c68 button.colab-df-convert');\n",
              "        buttonEl.style.display =\n",
              "          google.colab.kernel.accessAllowed ? 'block' : 'none';\n",
              "\n",
              "        async function convertToInteractive(key) {\n",
              "          const element = document.querySelector('#df-6fffdd57-61ce-4c2c-8b05-bf6d6a299c68');\n",
              "          const dataTable =\n",
              "            await google.colab.kernel.invokeFunction('convertToInteractive',\n",
              "                                                     [key], {});\n",
              "          if (!dataTable) return;\n",
              "\n",
              "          const docLinkHtml = 'Like what you see? Visit the ' +\n",
              "            '<a target=\"_blank\" href=https://colab.research.google.com/notebooks/data_table.ipynb>data table notebook</a>'\n",
              "            + ' to learn more about interactive tables.';\n",
              "          element.innerHTML = '';\n",
              "          dataTable['output_type'] = 'display_data';\n",
              "          await google.colab.output.renderOutput(dataTable, element);\n",
              "          const docLink = document.createElement('div');\n",
              "          docLink.innerHTML = docLinkHtml;\n",
              "          element.appendChild(docLink);\n",
              "        }\n",
              "      </script>\n",
              "    </div>\n",
              "  </div>\n",
              "  "
            ]
          },
          "metadata": {},
          "execution_count": 233
        }
      ]
    },
    {
      "cell_type": "code",
      "source": [
        "df.dtypes"
      ],
      "metadata": {
        "colab": {
          "base_uri": "https://localhost:8080/"
        },
        "id": "q5B2UIsjs8mQ",
        "outputId": "20b848ec-7d5a-4d8e-854b-5e239cb5b93b"
      },
      "execution_count": 234,
      "outputs": [
        {
          "output_type": "execute_result",
          "data": {
            "text/plain": [
              "symboling            float64\n",
              "normalized-losses    float64\n",
              "make                  object\n",
              "fuel                  object\n",
              "aspiration            object\n",
              "num-doors             object\n",
              "body-style            object\n",
              "drive-wheels          object\n",
              "engine-location       object\n",
              "wheel-base           float64\n",
              "length               float64\n",
              "width                float64\n",
              "height               float64\n",
              "curb-weight          float64\n",
              "engine-type           object\n",
              "num-of-cylinders      object\n",
              "engine-size          float64\n",
              "fuel-system           object\n",
              "bore                 float64\n",
              "stroke               float64\n",
              "compression-ratio    float64\n",
              "horsepower           float64\n",
              "price                float64\n",
              "dtype: object"
            ]
          },
          "metadata": {},
          "execution_count": 234
        }
      ]
    },
    {
      "cell_type": "code",
      "source": [
        "model = Sequential()\n",
        "model.add(Dense(12, input_shape=(len(X_train[0]),), activation='relu'))\n",
        "model.add(Dense(8, activation='relu'))\n",
        "model.add(Dense(2, activation='linear'))\n",
        "\n",
        "model.summary()"
      ],
      "metadata": {
        "colab": {
          "base_uri": "https://localhost:8080/"
        },
        "id": "0QUvDN1gs-RY",
        "outputId": "2769aed9-368e-40ac-bde1-7920105395fe"
      },
      "execution_count": 235,
      "outputs": [
        {
          "output_type": "stream",
          "name": "stdout",
          "text": [
            "Model: \"sequential_4\"\n",
            "_________________________________________________________________\n",
            " Layer (type)                Output Shape              Param #   \n",
            "=================================================================\n",
            " dense_12 (Dense)            (None, 12)                804       \n",
            "                                                                 \n",
            " dense_13 (Dense)            (None, 8)                 104       \n",
            "                                                                 \n",
            " dense_14 (Dense)            (None, 2)                 18        \n",
            "                                                                 \n",
            "=================================================================\n",
            "Total params: 926\n",
            "Trainable params: 926\n",
            "Non-trainable params: 0\n",
            "_________________________________________________________________\n"
          ]
        }
      ]
    },
    {
      "cell_type": "code",
      "source": [
        "from keras.optimizers import Adam\n",
        "# compile the keras model\n",
        "learning_rate = 0.01\n",
        "optimizer = Adam(learning_rate=learning_rate)\n",
        "\n",
        "model.compile(loss='mean_squared_error', optimizer=optimizer)"
      ],
      "metadata": {
        "id": "UTMcuCmgtUGA"
      },
      "execution_count": 236,
      "outputs": []
    },
    {
      "cell_type": "code",
      "source": [
        "history = model.fit(X_train, y_train, epochs=500, batch_size=int(len(df)/3))"
      ],
      "metadata": {
        "colab": {
          "base_uri": "https://localhost:8080/"
        },
        "id": "XDbvXlLhtVCA",
        "outputId": "832956b2-cb62-4041-eac6-95d853090e9e"
      },
      "execution_count": 237,
      "outputs": [
        {
          "output_type": "stream",
          "name": "stdout",
          "text": [
            "Epoch 1/500\n",
            "2/2 [==============================] - 0s 8ms/step - loss: 164333216.0000\n",
            "Epoch 2/500\n",
            "2/2 [==============================] - 0s 8ms/step - loss: 164324240.0000\n",
            "Epoch 3/500\n",
            "2/2 [==============================] - 0s 9ms/step - loss: 164312976.0000\n",
            "Epoch 4/500\n",
            "2/2 [==============================] - 0s 10ms/step - loss: 164299424.0000\n",
            "Epoch 5/500\n",
            "2/2 [==============================] - 0s 8ms/step - loss: 164282400.0000\n",
            "Epoch 6/500\n",
            "2/2 [==============================] - 0s 7ms/step - loss: 164261456.0000\n",
            "Epoch 7/500\n",
            "2/2 [==============================] - 0s 7ms/step - loss: 164236496.0000\n",
            "Epoch 8/500\n",
            "2/2 [==============================] - 0s 7ms/step - loss: 164204464.0000\n",
            "Epoch 9/500\n",
            "2/2 [==============================] - 0s 7ms/step - loss: 164165728.0000\n",
            "Epoch 10/500\n",
            "2/2 [==============================] - 0s 8ms/step - loss: 164119536.0000\n",
            "Epoch 11/500\n",
            "2/2 [==============================] - 0s 6ms/step - loss: 164067248.0000\n",
            "Epoch 12/500\n",
            "2/2 [==============================] - 0s 7ms/step - loss: 164001904.0000\n",
            "Epoch 13/500\n",
            "2/2 [==============================] - 0s 8ms/step - loss: 163926320.0000\n",
            "Epoch 14/500\n",
            "2/2 [==============================] - 0s 7ms/step - loss: 163834992.0000\n",
            "Epoch 15/500\n",
            "2/2 [==============================] - 0s 7ms/step - loss: 163729024.0000\n",
            "Epoch 16/500\n",
            "2/2 [==============================] - 0s 11ms/step - loss: 163603008.0000\n",
            "Epoch 17/500\n",
            "2/2 [==============================] - 0s 9ms/step - loss: 163454352.0000\n",
            "Epoch 18/500\n",
            "2/2 [==============================] - 0s 8ms/step - loss: 163289984.0000\n",
            "Epoch 19/500\n",
            "2/2 [==============================] - 0s 10ms/step - loss: 163094176.0000\n",
            "Epoch 20/500\n",
            "2/2 [==============================] - 0s 6ms/step - loss: 162872160.0000\n",
            "Epoch 21/500\n",
            "2/2 [==============================] - 0s 6ms/step - loss: 162621040.0000\n",
            "Epoch 22/500\n",
            "2/2 [==============================] - 0s 9ms/step - loss: 162335456.0000\n",
            "Epoch 23/500\n",
            "2/2 [==============================] - 0s 8ms/step - loss: 162012384.0000\n",
            "Epoch 24/500\n",
            "2/2 [==============================] - 0s 8ms/step - loss: 161646720.0000\n",
            "Epoch 25/500\n",
            "2/2 [==============================] - 0s 8ms/step - loss: 161249344.0000\n",
            "Epoch 26/500\n",
            "2/2 [==============================] - 0s 7ms/step - loss: 160804992.0000\n",
            "Epoch 27/500\n",
            "2/2 [==============================] - 0s 7ms/step - loss: 160288896.0000\n",
            "Epoch 28/500\n",
            "2/2 [==============================] - 0s 8ms/step - loss: 159741136.0000\n",
            "Epoch 29/500\n",
            "2/2 [==============================] - 0s 8ms/step - loss: 159127184.0000\n",
            "Epoch 30/500\n",
            "2/2 [==============================] - 0s 9ms/step - loss: 158469712.0000\n",
            "Epoch 31/500\n",
            "2/2 [==============================] - 0s 7ms/step - loss: 157695504.0000\n",
            "Epoch 32/500\n",
            "2/2 [==============================] - 0s 7ms/step - loss: 156887632.0000\n",
            "Epoch 33/500\n",
            "2/2 [==============================] - 0s 7ms/step - loss: 156024416.0000\n",
            "Epoch 34/500\n",
            "2/2 [==============================] - 0s 7ms/step - loss: 155021472.0000\n",
            "Epoch 35/500\n",
            "2/2 [==============================] - 0s 7ms/step - loss: 153983088.0000\n",
            "Epoch 36/500\n",
            "2/2 [==============================] - 0s 8ms/step - loss: 152889872.0000\n",
            "Epoch 37/500\n",
            "2/2 [==============================] - 0s 7ms/step - loss: 151681056.0000\n",
            "Epoch 38/500\n",
            "2/2 [==============================] - 0s 7ms/step - loss: 150307840.0000\n",
            "Epoch 39/500\n",
            "2/2 [==============================] - 0s 7ms/step - loss: 148950832.0000\n",
            "Epoch 40/500\n",
            "2/2 [==============================] - 0s 7ms/step - loss: 147445264.0000\n",
            "Epoch 41/500\n",
            "2/2 [==============================] - 0s 9ms/step - loss: 145806832.0000\n",
            "Epoch 42/500\n",
            "2/2 [==============================] - 0s 7ms/step - loss: 144126896.0000\n",
            "Epoch 43/500\n",
            "2/2 [==============================] - 0s 9ms/step - loss: 142300592.0000\n",
            "Epoch 44/500\n",
            "2/2 [==============================] - 0s 7ms/step - loss: 140334160.0000\n",
            "Epoch 45/500\n",
            "2/2 [==============================] - 0s 7ms/step - loss: 138319536.0000\n",
            "Epoch 46/500\n",
            "2/2 [==============================] - 0s 8ms/step - loss: 136134864.0000\n",
            "Epoch 47/500\n",
            "2/2 [==============================] - 0s 7ms/step - loss: 133891336.0000\n",
            "Epoch 48/500\n",
            "2/2 [==============================] - 0s 9ms/step - loss: 131548728.0000\n",
            "Epoch 49/500\n",
            "2/2 [==============================] - 0s 7ms/step - loss: 128916888.0000\n",
            "Epoch 50/500\n",
            "2/2 [==============================] - 0s 7ms/step - loss: 126338888.0000\n",
            "Epoch 51/500\n",
            "2/2 [==============================] - 0s 7ms/step - loss: 123591352.0000\n",
            "Epoch 52/500\n",
            "2/2 [==============================] - 0s 7ms/step - loss: 120692600.0000\n",
            "Epoch 53/500\n",
            "2/2 [==============================] - 0s 7ms/step - loss: 117722360.0000\n",
            "Epoch 54/500\n",
            "2/2 [==============================] - 0s 8ms/step - loss: 114625848.0000\n",
            "Epoch 55/500\n",
            "2/2 [==============================] - 0s 7ms/step - loss: 111444368.0000\n",
            "Epoch 56/500\n",
            "2/2 [==============================] - 0s 7ms/step - loss: 108090776.0000\n",
            "Epoch 57/500\n",
            "2/2 [==============================] - 0s 7ms/step - loss: 104830056.0000\n",
            "Epoch 58/500\n",
            "2/2 [==============================] - 0s 7ms/step - loss: 101329536.0000\n",
            "Epoch 59/500\n",
            "2/2 [==============================] - 0s 7ms/step - loss: 97796160.0000\n",
            "Epoch 60/500\n",
            "2/2 [==============================] - 0s 7ms/step - loss: 94141816.0000\n",
            "Epoch 61/500\n",
            "2/2 [==============================] - 0s 8ms/step - loss: 90417264.0000\n",
            "Epoch 62/500\n",
            "2/2 [==============================] - 0s 7ms/step - loss: 86717552.0000\n",
            "Epoch 63/500\n",
            "2/2 [==============================] - 0s 7ms/step - loss: 83018736.0000\n",
            "Epoch 64/500\n",
            "2/2 [==============================] - 0s 7ms/step - loss: 79312008.0000\n",
            "Epoch 65/500\n",
            "2/2 [==============================] - 0s 7ms/step - loss: 75442712.0000\n",
            "Epoch 66/500\n",
            "2/2 [==============================] - 0s 7ms/step - loss: 71651440.0000\n",
            "Epoch 67/500\n",
            "2/2 [==============================] - 0s 8ms/step - loss: 68003616.0000\n",
            "Epoch 68/500\n",
            "2/2 [==============================] - 0s 7ms/step - loss: 64342932.0000\n",
            "Epoch 69/500\n",
            "2/2 [==============================] - 0s 9ms/step - loss: 60589000.0000\n",
            "Epoch 70/500\n",
            "2/2 [==============================] - 0s 8ms/step - loss: 57041600.0000\n",
            "Epoch 71/500\n",
            "2/2 [==============================] - 0s 7ms/step - loss: 53544028.0000\n",
            "Epoch 72/500\n",
            "2/2 [==============================] - 0s 10ms/step - loss: 50100784.0000\n",
            "Epoch 73/500\n",
            "2/2 [==============================] - 0s 9ms/step - loss: 47015140.0000\n",
            "Epoch 74/500\n",
            "2/2 [==============================] - 0s 11ms/step - loss: 43869208.0000\n",
            "Epoch 75/500\n",
            "2/2 [==============================] - 0s 7ms/step - loss: 40787668.0000\n",
            "Epoch 76/500\n",
            "2/2 [==============================] - 0s 8ms/step - loss: 37970472.0000\n",
            "Epoch 77/500\n",
            "2/2 [==============================] - 0s 8ms/step - loss: 35281704.0000\n",
            "Epoch 78/500\n",
            "2/2 [==============================] - 0s 8ms/step - loss: 32812048.0000\n",
            "Epoch 79/500\n",
            "2/2 [==============================] - 0s 7ms/step - loss: 30385144.0000\n",
            "Epoch 80/500\n",
            "2/2 [==============================] - 0s 8ms/step - loss: 28300000.0000\n",
            "Epoch 81/500\n",
            "2/2 [==============================] - 0s 12ms/step - loss: 26250206.0000\n",
            "Epoch 82/500\n",
            "2/2 [==============================] - 0s 8ms/step - loss: 24485712.0000\n",
            "Epoch 83/500\n",
            "2/2 [==============================] - 0s 8ms/step - loss: 22742300.0000\n",
            "Epoch 84/500\n",
            "2/2 [==============================] - 0s 8ms/step - loss: 21262398.0000\n",
            "Epoch 85/500\n",
            "2/2 [==============================] - 0s 8ms/step - loss: 19913604.0000\n",
            "Epoch 86/500\n",
            "2/2 [==============================] - 0s 7ms/step - loss: 18907434.0000\n",
            "Epoch 87/500\n",
            "2/2 [==============================] - 0s 7ms/step - loss: 17685234.0000\n",
            "Epoch 88/500\n",
            "2/2 [==============================] - 0s 7ms/step - loss: 16813294.0000\n",
            "Epoch 89/500\n",
            "2/2 [==============================] - 0s 9ms/step - loss: 15994294.0000\n",
            "Epoch 90/500\n",
            "2/2 [==============================] - 0s 8ms/step - loss: 15387207.0000\n",
            "Epoch 91/500\n",
            "2/2 [==============================] - 0s 7ms/step - loss: 14741217.0000\n",
            "Epoch 92/500\n",
            "2/2 [==============================] - 0s 7ms/step - loss: 14275607.0000\n",
            "Epoch 93/500\n",
            "2/2 [==============================] - 0s 7ms/step - loss: 13821554.0000\n",
            "Epoch 94/500\n",
            "2/2 [==============================] - 0s 8ms/step - loss: 13391483.0000\n",
            "Epoch 95/500\n",
            "2/2 [==============================] - 0s 11ms/step - loss: 13054605.0000\n",
            "Epoch 96/500\n",
            "2/2 [==============================] - 0s 7ms/step - loss: 12780358.0000\n",
            "Epoch 97/500\n",
            "2/2 [==============================] - 0s 7ms/step - loss: 12514450.0000\n",
            "Epoch 98/500\n",
            "2/2 [==============================] - 0s 7ms/step - loss: 12283054.0000\n",
            "Epoch 99/500\n",
            "2/2 [==============================] - 0s 7ms/step - loss: 12092792.0000\n",
            "Epoch 100/500\n",
            "2/2 [==============================] - 0s 7ms/step - loss: 11906954.0000\n",
            "Epoch 101/500\n",
            "2/2 [==============================] - 0s 7ms/step - loss: 11747584.0000\n",
            "Epoch 102/500\n",
            "2/2 [==============================] - 0s 7ms/step - loss: 11597085.0000\n",
            "Epoch 103/500\n",
            "2/2 [==============================] - 0s 7ms/step - loss: 11461688.0000\n",
            "Epoch 104/500\n",
            "2/2 [==============================] - 0s 7ms/step - loss: 11329134.0000\n",
            "Epoch 105/500\n",
            "2/2 [==============================] - 0s 7ms/step - loss: 11212426.0000\n",
            "Epoch 106/500\n",
            "2/2 [==============================] - 0s 6ms/step - loss: 11125905.0000\n",
            "Epoch 107/500\n",
            "2/2 [==============================] - 0s 8ms/step - loss: 11008519.0000\n",
            "Epoch 108/500\n",
            "2/2 [==============================] - 0s 7ms/step - loss: 10936518.0000\n",
            "Epoch 109/500\n",
            "2/2 [==============================] - 0s 7ms/step - loss: 10837150.0000\n",
            "Epoch 110/500\n",
            "2/2 [==============================] - 0s 7ms/step - loss: 10755070.0000\n",
            "Epoch 111/500\n",
            "2/2 [==============================] - 0s 7ms/step - loss: 10678806.0000\n",
            "Epoch 112/500\n",
            "2/2 [==============================] - 0s 7ms/step - loss: 10613172.0000\n",
            "Epoch 113/500\n",
            "2/2 [==============================] - 0s 7ms/step - loss: 10534293.0000\n",
            "Epoch 114/500\n",
            "2/2 [==============================] - 0s 7ms/step - loss: 10464318.0000\n",
            "Epoch 115/500\n",
            "2/2 [==============================] - 0s 7ms/step - loss: 10395960.0000\n",
            "Epoch 116/500\n",
            "2/2 [==============================] - 0s 8ms/step - loss: 10345895.0000\n",
            "Epoch 117/500\n",
            "2/2 [==============================] - 0s 6ms/step - loss: 10276596.0000\n",
            "Epoch 118/500\n",
            "2/2 [==============================] - 0s 6ms/step - loss: 10216037.0000\n",
            "Epoch 119/500\n",
            "2/2 [==============================] - 0s 9ms/step - loss: 10155371.0000\n",
            "Epoch 120/500\n",
            "2/2 [==============================] - 0s 7ms/step - loss: 10110819.0000\n",
            "Epoch 121/500\n",
            "2/2 [==============================] - 0s 6ms/step - loss: 10042570.0000\n",
            "Epoch 122/500\n",
            "2/2 [==============================] - 0s 8ms/step - loss: 9984168.0000\n",
            "Epoch 123/500\n",
            "2/2 [==============================] - 0s 8ms/step - loss: 9928395.0000\n",
            "Epoch 124/500\n",
            "2/2 [==============================] - 0s 8ms/step - loss: 9876383.0000\n",
            "Epoch 125/500\n",
            "2/2 [==============================] - 0s 8ms/step - loss: 9825333.0000\n",
            "Epoch 126/500\n",
            "2/2 [==============================] - 0s 7ms/step - loss: 9774352.0000\n",
            "Epoch 127/500\n",
            "2/2 [==============================] - 0s 8ms/step - loss: 9728258.0000\n",
            "Epoch 128/500\n",
            "2/2 [==============================] - 0s 7ms/step - loss: 9675790.0000\n",
            "Epoch 129/500\n",
            "2/2 [==============================] - 0s 9ms/step - loss: 9626573.0000\n",
            "Epoch 130/500\n",
            "2/2 [==============================] - 0s 7ms/step - loss: 9574629.0000\n",
            "Epoch 131/500\n",
            "2/2 [==============================] - 0s 8ms/step - loss: 9531842.0000\n",
            "Epoch 132/500\n",
            "2/2 [==============================] - 0s 15ms/step - loss: 9484213.0000\n",
            "Epoch 133/500\n",
            "2/2 [==============================] - 0s 8ms/step - loss: 9436907.0000\n",
            "Epoch 134/500\n",
            "2/2 [==============================] - 0s 7ms/step - loss: 9391891.0000\n",
            "Epoch 135/500\n",
            "2/2 [==============================] - 0s 6ms/step - loss: 9346987.0000\n",
            "Epoch 136/500\n",
            "2/2 [==============================] - 0s 6ms/step - loss: 9301378.0000\n",
            "Epoch 137/500\n",
            "2/2 [==============================] - 0s 8ms/step - loss: 9260946.0000\n",
            "Epoch 138/500\n",
            "2/2 [==============================] - 0s 7ms/step - loss: 9217872.0000\n",
            "Epoch 139/500\n",
            "2/2 [==============================] - 0s 9ms/step - loss: 9174269.0000\n",
            "Epoch 140/500\n",
            "2/2 [==============================] - 0s 7ms/step - loss: 9129079.0000\n",
            "Epoch 141/500\n",
            "2/2 [==============================] - 0s 10ms/step - loss: 9098626.0000\n",
            "Epoch 142/500\n",
            "2/2 [==============================] - 0s 11ms/step - loss: 9051970.0000\n",
            "Epoch 143/500\n",
            "2/2 [==============================] - 0s 12ms/step - loss: 9007845.0000\n",
            "Epoch 144/500\n",
            "2/2 [==============================] - 0s 7ms/step - loss: 8975669.0000\n",
            "Epoch 145/500\n",
            "2/2 [==============================] - 0s 8ms/step - loss: 8928840.0000\n",
            "Epoch 146/500\n",
            "2/2 [==============================] - 0s 9ms/step - loss: 8890648.0000\n",
            "Epoch 147/500\n",
            "2/2 [==============================] - 0s 9ms/step - loss: 8854043.0000\n",
            "Epoch 148/500\n",
            "2/2 [==============================] - 0s 7ms/step - loss: 8810153.0000\n",
            "Epoch 149/500\n",
            "2/2 [==============================] - 0s 8ms/step - loss: 8777160.0000\n",
            "Epoch 150/500\n",
            "2/2 [==============================] - 0s 7ms/step - loss: 8740345.0000\n",
            "Epoch 151/500\n",
            "2/2 [==============================] - 0s 7ms/step - loss: 8698189.0000\n",
            "Epoch 152/500\n",
            "2/2 [==============================] - 0s 7ms/step - loss: 8660897.0000\n",
            "Epoch 153/500\n",
            "2/2 [==============================] - 0s 7ms/step - loss: 8629476.0000\n",
            "Epoch 154/500\n",
            "2/2 [==============================] - 0s 7ms/step - loss: 8591099.0000\n",
            "Epoch 155/500\n",
            "2/2 [==============================] - 0s 8ms/step - loss: 8553781.0000\n",
            "Epoch 156/500\n",
            "2/2 [==============================] - 0s 7ms/step - loss: 8519510.0000\n",
            "Epoch 157/500\n",
            "2/2 [==============================] - 0s 7ms/step - loss: 8478241.0000\n",
            "Epoch 158/500\n",
            "2/2 [==============================] - 0s 7ms/step - loss: 8447061.0000\n",
            "Epoch 159/500\n",
            "2/2 [==============================] - 0s 14ms/step - loss: 8412133.0000\n",
            "Epoch 160/500\n",
            "2/2 [==============================] - 0s 8ms/step - loss: 8373049.5000\n",
            "Epoch 161/500\n",
            "2/2 [==============================] - 0s 7ms/step - loss: 8338533.0000\n",
            "Epoch 162/500\n",
            "2/2 [==============================] - 0s 7ms/step - loss: 8301511.0000\n",
            "Epoch 163/500\n",
            "2/2 [==============================] - 0s 8ms/step - loss: 8267833.0000\n",
            "Epoch 164/500\n",
            "2/2 [==============================] - 0s 8ms/step - loss: 8234635.0000\n",
            "Epoch 165/500\n",
            "2/2 [==============================] - 0s 9ms/step - loss: 8196802.5000\n",
            "Epoch 166/500\n",
            "2/2 [==============================] - 0s 7ms/step - loss: 8171042.0000\n",
            "Epoch 167/500\n",
            "2/2 [==============================] - 0s 7ms/step - loss: 8133806.0000\n",
            "Epoch 168/500\n",
            "2/2 [==============================] - 0s 7ms/step - loss: 8102126.0000\n",
            "Epoch 169/500\n",
            "2/2 [==============================] - 0s 7ms/step - loss: 8065673.5000\n",
            "Epoch 170/500\n",
            "2/2 [==============================] - 0s 7ms/step - loss: 8040675.0000\n",
            "Epoch 171/500\n",
            "2/2 [==============================] - 0s 7ms/step - loss: 8002685.5000\n",
            "Epoch 172/500\n",
            "2/2 [==============================] - 0s 7ms/step - loss: 7968686.0000\n",
            "Epoch 173/500\n",
            "2/2 [==============================] - 0s 13ms/step - loss: 7939515.0000\n",
            "Epoch 174/500\n",
            "2/2 [==============================] - 0s 8ms/step - loss: 7907324.5000\n",
            "Epoch 175/500\n",
            "2/2 [==============================] - 0s 7ms/step - loss: 7873590.5000\n",
            "Epoch 176/500\n",
            "2/2 [==============================] - 0s 7ms/step - loss: 7849606.0000\n",
            "Epoch 177/500\n",
            "2/2 [==============================] - 0s 7ms/step - loss: 7814402.0000\n",
            "Epoch 178/500\n",
            "2/2 [==============================] - 0s 8ms/step - loss: 7786145.0000\n",
            "Epoch 179/500\n",
            "2/2 [==============================] - 0s 7ms/step - loss: 7759383.0000\n",
            "Epoch 180/500\n",
            "2/2 [==============================] - 0s 7ms/step - loss: 7728961.0000\n",
            "Epoch 181/500\n",
            "2/2 [==============================] - 0s 7ms/step - loss: 7699479.0000\n",
            "Epoch 182/500\n",
            "2/2 [==============================] - 0s 7ms/step - loss: 7673260.5000\n",
            "Epoch 183/500\n",
            "2/2 [==============================] - 0s 7ms/step - loss: 7638460.5000\n",
            "Epoch 184/500\n",
            "2/2 [==============================] - 0s 7ms/step - loss: 7613760.0000\n",
            "Epoch 185/500\n",
            "2/2 [==============================] - 0s 7ms/step - loss: 7586798.5000\n",
            "Epoch 186/500\n",
            "2/2 [==============================] - 0s 9ms/step - loss: 7561521.5000\n",
            "Epoch 187/500\n",
            "2/2 [==============================] - 0s 8ms/step - loss: 7534366.0000\n",
            "Epoch 188/500\n",
            "2/2 [==============================] - 0s 7ms/step - loss: 7503579.0000\n",
            "Epoch 189/500\n",
            "2/2 [==============================] - 0s 7ms/step - loss: 7476345.0000\n",
            "Epoch 190/500\n",
            "2/2 [==============================] - 0s 7ms/step - loss: 7450719.0000\n",
            "Epoch 191/500\n",
            "2/2 [==============================] - 0s 8ms/step - loss: 7423402.5000\n",
            "Epoch 192/500\n",
            "2/2 [==============================] - 0s 7ms/step - loss: 7400302.0000\n",
            "Epoch 193/500\n",
            "2/2 [==============================] - 0s 7ms/step - loss: 7369281.0000\n",
            "Epoch 194/500\n",
            "2/2 [==============================] - 0s 7ms/step - loss: 7343313.0000\n",
            "Epoch 195/500\n",
            "2/2 [==============================] - 0s 8ms/step - loss: 7317026.0000\n",
            "Epoch 196/500\n",
            "2/2 [==============================] - 0s 7ms/step - loss: 7288442.0000\n",
            "Epoch 197/500\n",
            "2/2 [==============================] - 0s 10ms/step - loss: 7261731.5000\n",
            "Epoch 198/500\n",
            "2/2 [==============================] - 0s 7ms/step - loss: 7238348.0000\n",
            "Epoch 199/500\n",
            "2/2 [==============================] - 0s 7ms/step - loss: 7212686.0000\n",
            "Epoch 200/500\n",
            "2/2 [==============================] - 0s 7ms/step - loss: 7185966.5000\n",
            "Epoch 201/500\n",
            "2/2 [==============================] - 0s 9ms/step - loss: 7163878.0000\n",
            "Epoch 202/500\n",
            "2/2 [==============================] - 0s 16ms/step - loss: 7135001.5000\n",
            "Epoch 203/500\n",
            "2/2 [==============================] - 0s 8ms/step - loss: 7109242.0000\n",
            "Epoch 204/500\n",
            "2/2 [==============================] - 0s 7ms/step - loss: 7085177.0000\n",
            "Epoch 205/500\n",
            "2/2 [==============================] - 0s 7ms/step - loss: 7062914.5000\n",
            "Epoch 206/500\n",
            "2/2 [==============================] - 0s 7ms/step - loss: 7043738.5000\n",
            "Epoch 207/500\n",
            "2/2 [==============================] - 0s 7ms/step - loss: 7015560.5000\n",
            "Epoch 208/500\n",
            "2/2 [==============================] - 0s 7ms/step - loss: 6991542.5000\n",
            "Epoch 209/500\n",
            "2/2 [==============================] - 0s 7ms/step - loss: 6968687.0000\n",
            "Epoch 210/500\n",
            "2/2 [==============================] - 0s 7ms/step - loss: 6943123.5000\n",
            "Epoch 211/500\n",
            "2/2 [==============================] - 0s 8ms/step - loss: 6920233.0000\n",
            "Epoch 212/500\n",
            "2/2 [==============================] - 0s 7ms/step - loss: 6900262.5000\n",
            "Epoch 213/500\n",
            "2/2 [==============================] - 0s 7ms/step - loss: 6875578.5000\n",
            "Epoch 214/500\n",
            "2/2 [==============================] - 0s 13ms/step - loss: 6854025.0000\n",
            "Epoch 215/500\n",
            "2/2 [==============================] - 0s 7ms/step - loss: 6829161.0000\n",
            "Epoch 216/500\n",
            "2/2 [==============================] - 0s 7ms/step - loss: 6809985.0000\n",
            "Epoch 217/500\n",
            "2/2 [==============================] - 0s 7ms/step - loss: 6784020.5000\n",
            "Epoch 218/500\n",
            "2/2 [==============================] - 0s 8ms/step - loss: 6764143.0000\n",
            "Epoch 219/500\n",
            "2/2 [==============================] - 0s 8ms/step - loss: 6745422.5000\n",
            "Epoch 220/500\n",
            "2/2 [==============================] - 0s 7ms/step - loss: 6719166.0000\n",
            "Epoch 221/500\n",
            "2/2 [==============================] - 0s 7ms/step - loss: 6700692.5000\n",
            "Epoch 222/500\n",
            "2/2 [==============================] - 0s 8ms/step - loss: 6679173.0000\n",
            "Epoch 223/500\n",
            "2/2 [==============================] - 0s 7ms/step - loss: 6659814.5000\n",
            "Epoch 224/500\n",
            "2/2 [==============================] - 0s 7ms/step - loss: 6639703.0000\n",
            "Epoch 225/500\n",
            "2/2 [==============================] - 0s 7ms/step - loss: 6618751.0000\n",
            "Epoch 226/500\n",
            "2/2 [==============================] - 0s 7ms/step - loss: 6602426.0000\n",
            "Epoch 227/500\n",
            "2/2 [==============================] - 0s 7ms/step - loss: 6583575.5000\n",
            "Epoch 228/500\n",
            "2/2 [==============================] - 0s 7ms/step - loss: 6559068.0000\n",
            "Epoch 229/500\n",
            "2/2 [==============================] - 0s 7ms/step - loss: 6538137.5000\n",
            "Epoch 230/500\n",
            "2/2 [==============================] - 0s 7ms/step - loss: 6518559.5000\n",
            "Epoch 231/500\n",
            "2/2 [==============================] - 0s 7ms/step - loss: 6495708.0000\n",
            "Epoch 232/500\n",
            "2/2 [==============================] - 0s 7ms/step - loss: 6476892.0000\n",
            "Epoch 233/500\n",
            "2/2 [==============================] - 0s 7ms/step - loss: 6455479.5000\n",
            "Epoch 234/500\n",
            "2/2 [==============================] - 0s 7ms/step - loss: 6434823.0000\n",
            "Epoch 235/500\n",
            "2/2 [==============================] - 0s 7ms/step - loss: 6421957.0000\n",
            "Epoch 236/500\n",
            "2/2 [==============================] - 0s 7ms/step - loss: 6398830.0000\n",
            "Epoch 237/500\n",
            "2/2 [==============================] - 0s 7ms/step - loss: 6377743.5000\n",
            "Epoch 238/500\n",
            "2/2 [==============================] - 0s 7ms/step - loss: 6358180.0000\n",
            "Epoch 239/500\n",
            "2/2 [==============================] - 0s 7ms/step - loss: 6337545.5000\n",
            "Epoch 240/500\n",
            "2/2 [==============================] - 0s 7ms/step - loss: 6325179.0000\n",
            "Epoch 241/500\n",
            "2/2 [==============================] - 0s 7ms/step - loss: 6299994.5000\n",
            "Epoch 242/500\n",
            "2/2 [==============================] - 0s 7ms/step - loss: 6282831.5000\n",
            "Epoch 243/500\n",
            "2/2 [==============================] - 0s 7ms/step - loss: 6261994.5000\n",
            "Epoch 244/500\n",
            "2/2 [==============================] - 0s 8ms/step - loss: 6245062.0000\n",
            "Epoch 245/500\n",
            "2/2 [==============================] - 0s 7ms/step - loss: 6233449.0000\n",
            "Epoch 246/500\n",
            "2/2 [==============================] - 0s 7ms/step - loss: 6210957.5000\n",
            "Epoch 247/500\n",
            "2/2 [==============================] - 0s 7ms/step - loss: 6194325.5000\n",
            "Epoch 248/500\n",
            "2/2 [==============================] - 0s 8ms/step - loss: 6177160.0000\n",
            "Epoch 249/500\n",
            "2/2 [==============================] - 0s 9ms/step - loss: 6154914.0000\n",
            "Epoch 250/500\n",
            "2/2 [==============================] - 0s 7ms/step - loss: 6139232.5000\n",
            "Epoch 251/500\n",
            "2/2 [==============================] - 0s 7ms/step - loss: 6126498.0000\n",
            "Epoch 252/500\n",
            "2/2 [==============================] - 0s 7ms/step - loss: 6101061.0000\n",
            "Epoch 253/500\n",
            "2/2 [==============================] - 0s 7ms/step - loss: 6087497.0000\n",
            "Epoch 254/500\n",
            "2/2 [==============================] - 0s 11ms/step - loss: 6069617.0000\n",
            "Epoch 255/500\n",
            "2/2 [==============================] - 0s 12ms/step - loss: 6053269.0000\n",
            "Epoch 256/500\n",
            "2/2 [==============================] - 0s 8ms/step - loss: 6033821.0000\n",
            "Epoch 257/500\n",
            "2/2 [==============================] - 0s 7ms/step - loss: 6018008.0000\n",
            "Epoch 258/500\n",
            "2/2 [==============================] - 0s 7ms/step - loss: 6000820.0000\n",
            "Epoch 259/500\n",
            "2/2 [==============================] - 0s 7ms/step - loss: 5985652.0000\n",
            "Epoch 260/500\n",
            "2/2 [==============================] - 0s 7ms/step - loss: 5971229.0000\n",
            "Epoch 261/500\n",
            "2/2 [==============================] - 0s 7ms/step - loss: 5954078.0000\n",
            "Epoch 262/500\n",
            "2/2 [==============================] - 0s 9ms/step - loss: 5937186.5000\n",
            "Epoch 263/500\n",
            "2/2 [==============================] - 0s 7ms/step - loss: 5923221.5000\n",
            "Epoch 264/500\n",
            "2/2 [==============================] - 0s 8ms/step - loss: 5903068.5000\n",
            "Epoch 265/500\n",
            "2/2 [==============================] - 0s 6ms/step - loss: 5889535.0000\n",
            "Epoch 266/500\n",
            "2/2 [==============================] - 0s 8ms/step - loss: 5875994.0000\n",
            "Epoch 267/500\n",
            "2/2 [==============================] - 0s 8ms/step - loss: 5857631.5000\n",
            "Epoch 268/500\n",
            "2/2 [==============================] - 0s 9ms/step - loss: 5849585.0000\n",
            "Epoch 269/500\n",
            "2/2 [==============================] - 0s 8ms/step - loss: 5829871.0000\n",
            "Epoch 270/500\n",
            "2/2 [==============================] - 0s 8ms/step - loss: 5813827.0000\n",
            "Epoch 271/500\n",
            "2/2 [==============================] - 0s 9ms/step - loss: 5797267.5000\n",
            "Epoch 272/500\n",
            "2/2 [==============================] - 0s 8ms/step - loss: 5782162.0000\n",
            "Epoch 273/500\n",
            "2/2 [==============================] - 0s 7ms/step - loss: 5765635.5000\n",
            "Epoch 274/500\n",
            "2/2 [==============================] - 0s 9ms/step - loss: 5753739.0000\n",
            "Epoch 275/500\n",
            "2/2 [==============================] - 0s 9ms/step - loss: 5738066.0000\n",
            "Epoch 276/500\n",
            "2/2 [==============================] - 0s 9ms/step - loss: 5721693.0000\n",
            "Epoch 277/500\n",
            "2/2 [==============================] - 0s 10ms/step - loss: 5706038.5000\n",
            "Epoch 278/500\n",
            "2/2 [==============================] - 0s 8ms/step - loss: 5694135.5000\n",
            "Epoch 279/500\n",
            "2/2 [==============================] - 0s 10ms/step - loss: 5680422.5000\n",
            "Epoch 280/500\n",
            "2/2 [==============================] - 0s 9ms/step - loss: 5667525.0000\n",
            "Epoch 281/500\n",
            "2/2 [==============================] - 0s 9ms/step - loss: 5654008.0000\n",
            "Epoch 282/500\n",
            "2/2 [==============================] - 0s 10ms/step - loss: 5641769.0000\n",
            "Epoch 283/500\n",
            "2/2 [==============================] - 0s 8ms/step - loss: 5637951.0000\n",
            "Epoch 284/500\n",
            "2/2 [==============================] - 0s 9ms/step - loss: 5614574.0000\n",
            "Epoch 285/500\n",
            "2/2 [==============================] - 0s 9ms/step - loss: 5602050.5000\n",
            "Epoch 286/500\n",
            "2/2 [==============================] - 0s 10ms/step - loss: 5587202.5000\n",
            "Epoch 287/500\n",
            "2/2 [==============================] - 0s 8ms/step - loss: 5575344.5000\n",
            "Epoch 288/500\n",
            "2/2 [==============================] - 0s 8ms/step - loss: 5562985.0000\n",
            "Epoch 289/500\n",
            "2/2 [==============================] - 0s 7ms/step - loss: 5546113.0000\n",
            "Epoch 290/500\n",
            "2/2 [==============================] - 0s 7ms/step - loss: 5536174.0000\n",
            "Epoch 291/500\n",
            "2/2 [==============================] - 0s 7ms/step - loss: 5521181.0000\n",
            "Epoch 292/500\n",
            "2/2 [==============================] - 0s 8ms/step - loss: 5509478.5000\n",
            "Epoch 293/500\n",
            "2/2 [==============================] - 0s 7ms/step - loss: 5496799.5000\n",
            "Epoch 294/500\n",
            "2/2 [==============================] - 0s 7ms/step - loss: 5482586.5000\n",
            "Epoch 295/500\n",
            "2/2 [==============================] - 0s 7ms/step - loss: 5471179.0000\n",
            "Epoch 296/500\n",
            "2/2 [==============================] - 0s 8ms/step - loss: 5458055.0000\n",
            "Epoch 297/500\n",
            "2/2 [==============================] - 0s 8ms/step - loss: 5445955.5000\n",
            "Epoch 298/500\n",
            "2/2 [==============================] - 0s 8ms/step - loss: 5437273.5000\n",
            "Epoch 299/500\n",
            "2/2 [==============================] - 0s 9ms/step - loss: 5423142.5000\n",
            "Epoch 300/500\n",
            "2/2 [==============================] - 0s 8ms/step - loss: 5409910.5000\n",
            "Epoch 301/500\n",
            "2/2 [==============================] - 0s 8ms/step - loss: 5399314.0000\n",
            "Epoch 302/500\n",
            "2/2 [==============================] - 0s 7ms/step - loss: 5386524.0000\n",
            "Epoch 303/500\n",
            "2/2 [==============================] - 0s 8ms/step - loss: 5375416.0000\n",
            "Epoch 304/500\n",
            "2/2 [==============================] - 0s 8ms/step - loss: 5370103.5000\n",
            "Epoch 305/500\n",
            "2/2 [==============================] - 0s 9ms/step - loss: 5356936.5000\n",
            "Epoch 306/500\n",
            "2/2 [==============================] - 0s 7ms/step - loss: 5340924.0000\n",
            "Epoch 307/500\n",
            "2/2 [==============================] - 0s 8ms/step - loss: 5330098.5000\n",
            "Epoch 308/500\n",
            "2/2 [==============================] - 0s 7ms/step - loss: 5317425.0000\n",
            "Epoch 309/500\n",
            "2/2 [==============================] - 0s 8ms/step - loss: 5304311.5000\n",
            "Epoch 310/500\n",
            "2/2 [==============================] - 0s 8ms/step - loss: 5297605.0000\n",
            "Epoch 311/500\n",
            "2/2 [==============================] - 0s 8ms/step - loss: 5284198.5000\n",
            "Epoch 312/500\n",
            "2/2 [==============================] - 0s 9ms/step - loss: 5274409.0000\n",
            "Epoch 313/500\n",
            "2/2 [==============================] - 0s 8ms/step - loss: 5263226.5000\n",
            "Epoch 314/500\n",
            "2/2 [==============================] - 0s 9ms/step - loss: 5257382.5000\n",
            "Epoch 315/500\n",
            "2/2 [==============================] - 0s 8ms/step - loss: 5242423.5000\n",
            "Epoch 316/500\n",
            "2/2 [==============================] - 0s 11ms/step - loss: 5230769.0000\n",
            "Epoch 317/500\n",
            "2/2 [==============================] - 0s 7ms/step - loss: 5219538.0000\n",
            "Epoch 318/500\n",
            "2/2 [==============================] - 0s 12ms/step - loss: 5207849.0000\n",
            "Epoch 319/500\n",
            "2/2 [==============================] - 0s 12ms/step - loss: 5198013.5000\n",
            "Epoch 320/500\n",
            "2/2 [==============================] - 0s 7ms/step - loss: 5192796.0000\n",
            "Epoch 321/500\n",
            "2/2 [==============================] - 0s 7ms/step - loss: 5179085.5000\n",
            "Epoch 322/500\n",
            "2/2 [==============================] - 0s 7ms/step - loss: 5169239.0000\n",
            "Epoch 323/500\n",
            "2/2 [==============================] - 0s 8ms/step - loss: 5160580.0000\n",
            "Epoch 324/500\n",
            "2/2 [==============================] - 0s 9ms/step - loss: 5147421.0000\n",
            "Epoch 325/500\n",
            "2/2 [==============================] - 0s 8ms/step - loss: 5139944.5000\n",
            "Epoch 326/500\n",
            "2/2 [==============================] - 0s 8ms/step - loss: 5129496.0000\n",
            "Epoch 327/500\n",
            "2/2 [==============================] - 0s 7ms/step - loss: 5121203.5000\n",
            "Epoch 328/500\n",
            "2/2 [==============================] - 0s 8ms/step - loss: 5108704.5000\n",
            "Epoch 329/500\n",
            "2/2 [==============================] - 0s 8ms/step - loss: 5098212.0000\n",
            "Epoch 330/500\n",
            "2/2 [==============================] - 0s 8ms/step - loss: 5088708.0000\n",
            "Epoch 331/500\n",
            "2/2 [==============================] - 0s 7ms/step - loss: 5080314.0000\n",
            "Epoch 332/500\n",
            "2/2 [==============================] - 0s 8ms/step - loss: 5070057.5000\n",
            "Epoch 333/500\n",
            "2/2 [==============================] - 0s 7ms/step - loss: 5063221.0000\n",
            "Epoch 334/500\n",
            "2/2 [==============================] - 0s 8ms/step - loss: 5049840.5000\n",
            "Epoch 335/500\n",
            "2/2 [==============================] - 0s 8ms/step - loss: 5042326.0000\n",
            "Epoch 336/500\n",
            "2/2 [==============================] - 0s 8ms/step - loss: 5033497.0000\n",
            "Epoch 337/500\n",
            "2/2 [==============================] - 0s 8ms/step - loss: 5021634.0000\n",
            "Epoch 338/500\n",
            "2/2 [==============================] - 0s 8ms/step - loss: 5013807.0000\n",
            "Epoch 339/500\n",
            "2/2 [==============================] - 0s 9ms/step - loss: 5002927.5000\n",
            "Epoch 340/500\n",
            "2/2 [==============================] - 0s 9ms/step - loss: 4998143.5000\n",
            "Epoch 341/500\n",
            "2/2 [==============================] - 0s 9ms/step - loss: 4986162.5000\n",
            "Epoch 342/500\n",
            "2/2 [==============================] - 0s 9ms/step - loss: 4977611.5000\n",
            "Epoch 343/500\n",
            "2/2 [==============================] - 0s 8ms/step - loss: 4966799.5000\n",
            "Epoch 344/500\n",
            "2/2 [==============================] - 0s 8ms/step - loss: 4957903.0000\n",
            "Epoch 345/500\n",
            "2/2 [==============================] - 0s 8ms/step - loss: 4951342.0000\n",
            "Epoch 346/500\n",
            "2/2 [==============================] - 0s 8ms/step - loss: 4939199.0000\n",
            "Epoch 347/500\n",
            "2/2 [==============================] - 0s 8ms/step - loss: 4932176.0000\n",
            "Epoch 348/500\n",
            "2/2 [==============================] - 0s 8ms/step - loss: 4922138.5000\n",
            "Epoch 349/500\n",
            "2/2 [==============================] - 0s 8ms/step - loss: 4916586.5000\n",
            "Epoch 350/500\n",
            "2/2 [==============================] - 0s 8ms/step - loss: 4906071.0000\n",
            "Epoch 351/500\n",
            "2/2 [==============================] - 0s 8ms/step - loss: 4895548.5000\n",
            "Epoch 352/500\n",
            "2/2 [==============================] - 0s 7ms/step - loss: 4889485.5000\n",
            "Epoch 353/500\n",
            "2/2 [==============================] - 0s 8ms/step - loss: 4879871.5000\n",
            "Epoch 354/500\n",
            "2/2 [==============================] - 0s 8ms/step - loss: 4871607.5000\n",
            "Epoch 355/500\n",
            "2/2 [==============================] - 0s 8ms/step - loss: 4864559.5000\n",
            "Epoch 356/500\n",
            "2/2 [==============================] - 0s 8ms/step - loss: 4856634.0000\n",
            "Epoch 357/500\n",
            "2/2 [==============================] - 0s 8ms/step - loss: 4849845.0000\n",
            "Epoch 358/500\n",
            "2/2 [==============================] - 0s 8ms/step - loss: 4839865.0000\n",
            "Epoch 359/500\n",
            "2/2 [==============================] - 0s 7ms/step - loss: 4833337.0000\n",
            "Epoch 360/500\n",
            "2/2 [==============================] - 0s 8ms/step - loss: 4824958.0000\n",
            "Epoch 361/500\n",
            "2/2 [==============================] - 0s 7ms/step - loss: 4818358.5000\n",
            "Epoch 362/500\n",
            "2/2 [==============================] - 0s 7ms/step - loss: 4810465.0000\n",
            "Epoch 363/500\n",
            "2/2 [==============================] - 0s 8ms/step - loss: 4801387.0000\n",
            "Epoch 364/500\n",
            "2/2 [==============================] - 0s 8ms/step - loss: 4793896.0000\n",
            "Epoch 365/500\n",
            "2/2 [==============================] - 0s 7ms/step - loss: 4788340.0000\n",
            "Epoch 366/500\n",
            "2/2 [==============================] - 0s 9ms/step - loss: 4779292.5000\n",
            "Epoch 367/500\n",
            "2/2 [==============================] - 0s 8ms/step - loss: 4771069.0000\n",
            "Epoch 368/500\n",
            "2/2 [==============================] - 0s 8ms/step - loss: 4762993.0000\n",
            "Epoch 369/500\n",
            "2/2 [==============================] - 0s 7ms/step - loss: 4758592.0000\n",
            "Epoch 370/500\n",
            "2/2 [==============================] - 0s 8ms/step - loss: 4747928.0000\n",
            "Epoch 371/500\n",
            "2/2 [==============================] - 0s 8ms/step - loss: 4741295.0000\n",
            "Epoch 372/500\n",
            "2/2 [==============================] - 0s 7ms/step - loss: 4732495.0000\n",
            "Epoch 373/500\n",
            "2/2 [==============================] - 0s 7ms/step - loss: 4724777.0000\n",
            "Epoch 374/500\n",
            "2/2 [==============================] - 0s 11ms/step - loss: 4719235.5000\n",
            "Epoch 375/500\n",
            "2/2 [==============================] - 0s 8ms/step - loss: 4712385.0000\n",
            "Epoch 376/500\n",
            "2/2 [==============================] - 0s 8ms/step - loss: 4705786.5000\n",
            "Epoch 377/500\n",
            "2/2 [==============================] - 0s 8ms/step - loss: 4699361.5000\n",
            "Epoch 378/500\n",
            "2/2 [==============================] - 0s 11ms/step - loss: 4692554.5000\n",
            "Epoch 379/500\n",
            "2/2 [==============================] - 0s 11ms/step - loss: 4686585.5000\n",
            "Epoch 380/500\n",
            "2/2 [==============================] - 0s 7ms/step - loss: 4679732.0000\n",
            "Epoch 381/500\n",
            "2/2 [==============================] - 0s 8ms/step - loss: 4676203.0000\n",
            "Epoch 382/500\n",
            "2/2 [==============================] - 0s 7ms/step - loss: 4669849.5000\n",
            "Epoch 383/500\n",
            "2/2 [==============================] - 0s 7ms/step - loss: 4660338.5000\n",
            "Epoch 384/500\n",
            "2/2 [==============================] - 0s 8ms/step - loss: 4654898.0000\n",
            "Epoch 385/500\n",
            "2/2 [==============================] - 0s 7ms/step - loss: 4646540.0000\n",
            "Epoch 386/500\n",
            "2/2 [==============================] - 0s 7ms/step - loss: 4642207.0000\n",
            "Epoch 387/500\n",
            "2/2 [==============================] - 0s 7ms/step - loss: 4631631.0000\n",
            "Epoch 388/500\n",
            "2/2 [==============================] - 0s 7ms/step - loss: 4626482.0000\n",
            "Epoch 389/500\n",
            "2/2 [==============================] - 0s 8ms/step - loss: 4620965.0000\n",
            "Epoch 390/500\n",
            "2/2 [==============================] - 0s 8ms/step - loss: 4613788.0000\n",
            "Epoch 391/500\n",
            "2/2 [==============================] - 0s 7ms/step - loss: 4612158.0000\n",
            "Epoch 392/500\n",
            "2/2 [==============================] - 0s 8ms/step - loss: 4601018.5000\n",
            "Epoch 393/500\n",
            "2/2 [==============================] - 0s 7ms/step - loss: 4594711.0000\n",
            "Epoch 394/500\n",
            "2/2 [==============================] - 0s 7ms/step - loss: 4588032.5000\n",
            "Epoch 395/500\n",
            "2/2 [==============================] - 0s 8ms/step - loss: 4581624.0000\n",
            "Epoch 396/500\n",
            "2/2 [==============================] - 0s 7ms/step - loss: 4575742.0000\n",
            "Epoch 397/500\n",
            "2/2 [==============================] - 0s 7ms/step - loss: 4572595.0000\n",
            "Epoch 398/500\n",
            "2/2 [==============================] - 0s 7ms/step - loss: 4562248.0000\n",
            "Epoch 399/500\n",
            "2/2 [==============================] - 0s 8ms/step - loss: 4558169.5000\n",
            "Epoch 400/500\n",
            "2/2 [==============================] - 0s 7ms/step - loss: 4552124.5000\n",
            "Epoch 401/500\n",
            "2/2 [==============================] - 0s 7ms/step - loss: 4544121.5000\n",
            "Epoch 402/500\n",
            "2/2 [==============================] - 0s 8ms/step - loss: 4542855.5000\n",
            "Epoch 403/500\n",
            "2/2 [==============================] - 0s 10ms/step - loss: 4532568.5000\n",
            "Epoch 404/500\n",
            "2/2 [==============================] - 0s 9ms/step - loss: 4526380.5000\n",
            "Epoch 405/500\n",
            "2/2 [==============================] - 0s 7ms/step - loss: 4521161.5000\n",
            "Epoch 406/500\n",
            "2/2 [==============================] - 0s 7ms/step - loss: 4514468.0000\n",
            "Epoch 407/500\n",
            "2/2 [==============================] - 0s 7ms/step - loss: 4508726.5000\n",
            "Epoch 408/500\n",
            "2/2 [==============================] - 0s 8ms/step - loss: 4504856.0000\n",
            "Epoch 409/500\n",
            "2/2 [==============================] - 0s 8ms/step - loss: 4497438.0000\n",
            "Epoch 410/500\n",
            "2/2 [==============================] - 0s 7ms/step - loss: 4492134.0000\n",
            "Epoch 411/500\n",
            "2/2 [==============================] - 0s 6ms/step - loss: 4487658.0000\n",
            "Epoch 412/500\n",
            "2/2 [==============================] - 0s 8ms/step - loss: 4480646.5000\n",
            "Epoch 413/500\n",
            "2/2 [==============================] - 0s 11ms/step - loss: 4477297.5000\n",
            "Epoch 414/500\n",
            "2/2 [==============================] - 0s 6ms/step - loss: 4474933.5000\n",
            "Epoch 415/500\n",
            "2/2 [==============================] - 0s 11ms/step - loss: 4465526.5000\n",
            "Epoch 416/500\n",
            "2/2 [==============================] - 0s 10ms/step - loss: 4460124.5000\n",
            "Epoch 417/500\n",
            "2/2 [==============================] - 0s 7ms/step - loss: 4454211.0000\n",
            "Epoch 418/500\n",
            "2/2 [==============================] - 0s 6ms/step - loss: 4451815.0000\n",
            "Epoch 419/500\n",
            "2/2 [==============================] - 0s 7ms/step - loss: 4444213.0000\n",
            "Epoch 420/500\n",
            "2/2 [==============================] - 0s 9ms/step - loss: 4441938.5000\n",
            "Epoch 421/500\n",
            "2/2 [==============================] - 0s 8ms/step - loss: 4433509.5000\n",
            "Epoch 422/500\n",
            "2/2 [==============================] - 0s 7ms/step - loss: 4428523.5000\n",
            "Epoch 423/500\n",
            "2/2 [==============================] - 0s 7ms/step - loss: 4425862.0000\n",
            "Epoch 424/500\n",
            "2/2 [==============================] - 0s 7ms/step - loss: 4418980.5000\n",
            "Epoch 425/500\n",
            "2/2 [==============================] - 0s 8ms/step - loss: 4413255.0000\n",
            "Epoch 426/500\n",
            "2/2 [==============================] - 0s 7ms/step - loss: 4409085.0000\n",
            "Epoch 427/500\n",
            "2/2 [==============================] - 0s 7ms/step - loss: 4403720.0000\n",
            "Epoch 428/500\n",
            "2/2 [==============================] - 0s 7ms/step - loss: 4399681.0000\n",
            "Epoch 429/500\n",
            "2/2 [==============================] - 0s 7ms/step - loss: 4396979.5000\n",
            "Epoch 430/500\n",
            "2/2 [==============================] - 0s 8ms/step - loss: 4392896.5000\n",
            "Epoch 431/500\n",
            "2/2 [==============================] - 0s 7ms/step - loss: 4387557.0000\n",
            "Epoch 432/500\n",
            "2/2 [==============================] - 0s 11ms/step - loss: 4383592.0000\n",
            "Epoch 433/500\n",
            "2/2 [==============================] - 0s 10ms/step - loss: 4379878.0000\n",
            "Epoch 434/500\n",
            "2/2 [==============================] - 0s 7ms/step - loss: 4380625.0000\n",
            "Epoch 435/500\n",
            "2/2 [==============================] - 0s 8ms/step - loss: 4370399.5000\n",
            "Epoch 436/500\n",
            "2/2 [==============================] - 0s 6ms/step - loss: 4363986.0000\n",
            "Epoch 437/500\n",
            "2/2 [==============================] - 0s 6ms/step - loss: 4359713.5000\n",
            "Epoch 438/500\n",
            "2/2 [==============================] - 0s 7ms/step - loss: 4356255.0000\n",
            "Epoch 439/500\n",
            "2/2 [==============================] - 0s 6ms/step - loss: 4345948.0000\n",
            "Epoch 440/500\n",
            "2/2 [==============================] - 0s 6ms/step - loss: 4341616.0000\n",
            "Epoch 441/500\n",
            "2/2 [==============================] - 0s 9ms/step - loss: 4339087.0000\n",
            "Epoch 442/500\n",
            "2/2 [==============================] - 0s 6ms/step - loss: 4333064.5000\n",
            "Epoch 443/500\n",
            "2/2 [==============================] - 0s 6ms/step - loss: 4328414.0000\n",
            "Epoch 444/500\n",
            "2/2 [==============================] - 0s 8ms/step - loss: 4325351.0000\n",
            "Epoch 445/500\n",
            "2/2 [==============================] - 0s 8ms/step - loss: 4317739.0000\n",
            "Epoch 446/500\n",
            "2/2 [==============================] - 0s 12ms/step - loss: 4315164.5000\n",
            "Epoch 447/500\n",
            "2/2 [==============================] - 0s 11ms/step - loss: 4312722.5000\n",
            "Epoch 448/500\n",
            "2/2 [==============================] - 0s 8ms/step - loss: 4307168.5000\n",
            "Epoch 449/500\n",
            "2/2 [==============================] - 0s 8ms/step - loss: 4302165.0000\n",
            "Epoch 450/500\n",
            "2/2 [==============================] - 0s 8ms/step - loss: 4295431.0000\n",
            "Epoch 451/500\n",
            "2/2 [==============================] - 0s 9ms/step - loss: 4291627.5000\n",
            "Epoch 452/500\n",
            "2/2 [==============================] - 0s 8ms/step - loss: 4286281.5000\n",
            "Epoch 453/500\n",
            "2/2 [==============================] - 0s 10ms/step - loss: 4283540.0000\n",
            "Epoch 454/500\n",
            "2/2 [==============================] - 0s 7ms/step - loss: 4277780.5000\n",
            "Epoch 455/500\n",
            "2/2 [==============================] - 0s 13ms/step - loss: 4273876.5000\n",
            "Epoch 456/500\n",
            "2/2 [==============================] - 0s 7ms/step - loss: 4271322.5000\n",
            "Epoch 457/500\n",
            "2/2 [==============================] - 0s 9ms/step - loss: 4268521.0000\n",
            "Epoch 458/500\n",
            "2/2 [==============================] - 0s 9ms/step - loss: 4264266.5000\n",
            "Epoch 459/500\n",
            "2/2 [==============================] - 0s 7ms/step - loss: 4257817.5000\n",
            "Epoch 460/500\n",
            "2/2 [==============================] - 0s 7ms/step - loss: 4253705.5000\n",
            "Epoch 461/500\n",
            "2/2 [==============================] - 0s 7ms/step - loss: 4247774.0000\n",
            "Epoch 462/500\n",
            "2/2 [==============================] - 0s 11ms/step - loss: 4247706.0000\n",
            "Epoch 463/500\n",
            "2/2 [==============================] - 0s 10ms/step - loss: 4240740.5000\n",
            "Epoch 464/500\n",
            "2/2 [==============================] - 0s 8ms/step - loss: 4236416.5000\n",
            "Epoch 465/500\n",
            "2/2 [==============================] - 0s 9ms/step - loss: 4231635.5000\n",
            "Epoch 466/500\n",
            "2/2 [==============================] - 0s 6ms/step - loss: 4226872.5000\n",
            "Epoch 467/500\n",
            "2/2 [==============================] - 0s 8ms/step - loss: 4224355.5000\n",
            "Epoch 468/500\n",
            "2/2 [==============================] - 0s 7ms/step - loss: 4220927.0000\n",
            "Epoch 469/500\n",
            "2/2 [==============================] - 0s 6ms/step - loss: 4213868.5000\n",
            "Epoch 470/500\n",
            "2/2 [==============================] - 0s 7ms/step - loss: 4209947.0000\n",
            "Epoch 471/500\n",
            "2/2 [==============================] - 0s 7ms/step - loss: 4206749.0000\n",
            "Epoch 472/500\n",
            "2/2 [==============================] - 0s 10ms/step - loss: 4204991.0000\n",
            "Epoch 473/500\n",
            "2/2 [==============================] - 0s 7ms/step - loss: 4206322.5000\n",
            "Epoch 474/500\n",
            "2/2 [==============================] - 0s 8ms/step - loss: 4198654.0000\n",
            "Epoch 475/500\n",
            "2/2 [==============================] - 0s 7ms/step - loss: 4194828.0000\n",
            "Epoch 476/500\n",
            "2/2 [==============================] - 0s 7ms/step - loss: 4194202.0000\n",
            "Epoch 477/500\n",
            "2/2 [==============================] - 0s 7ms/step - loss: 4185675.7500\n",
            "Epoch 478/500\n",
            "2/2 [==============================] - 0s 7ms/step - loss: 4185876.2500\n",
            "Epoch 479/500\n",
            "2/2 [==============================] - 0s 7ms/step - loss: 4177812.0000\n",
            "Epoch 480/500\n",
            "2/2 [==============================] - 0s 8ms/step - loss: 4173667.2500\n",
            "Epoch 481/500\n",
            "2/2 [==============================] - 0s 7ms/step - loss: 4169929.2500\n",
            "Epoch 482/500\n",
            "2/2 [==============================] - 0s 7ms/step - loss: 4165757.5000\n",
            "Epoch 483/500\n",
            "2/2 [==============================] - 0s 7ms/step - loss: 4162374.2500\n",
            "Epoch 484/500\n",
            "2/2 [==============================] - 0s 7ms/step - loss: 4158719.5000\n",
            "Epoch 485/500\n",
            "2/2 [==============================] - 0s 7ms/step - loss: 4155898.0000\n",
            "Epoch 486/500\n",
            "2/2 [==============================] - 0s 8ms/step - loss: 4151172.2500\n",
            "Epoch 487/500\n",
            "2/2 [==============================] - 0s 7ms/step - loss: 4148505.2500\n",
            "Epoch 488/500\n",
            "2/2 [==============================] - 0s 7ms/step - loss: 4144555.5000\n",
            "Epoch 489/500\n",
            "2/2 [==============================] - 0s 7ms/step - loss: 4141896.5000\n",
            "Epoch 490/500\n",
            "2/2 [==============================] - 0s 7ms/step - loss: 4137039.7500\n",
            "Epoch 491/500\n",
            "2/2 [==============================] - 0s 7ms/step - loss: 4133163.5000\n",
            "Epoch 492/500\n",
            "2/2 [==============================] - 0s 10ms/step - loss: 4131638.0000\n",
            "Epoch 493/500\n",
            "2/2 [==============================] - 0s 10ms/step - loss: 4126746.0000\n",
            "Epoch 494/500\n",
            "2/2 [==============================] - 0s 9ms/step - loss: 4123772.0000\n",
            "Epoch 495/500\n",
            "2/2 [==============================] - 0s 9ms/step - loss: 4121462.2500\n",
            "Epoch 496/500\n",
            "2/2 [==============================] - 0s 7ms/step - loss: 4119217.7500\n",
            "Epoch 497/500\n",
            "2/2 [==============================] - 0s 7ms/step - loss: 4113329.0000\n",
            "Epoch 498/500\n",
            "2/2 [==============================] - 0s 9ms/step - loss: 4110311.7500\n",
            "Epoch 499/500\n",
            "2/2 [==============================] - 0s 9ms/step - loss: 4108894.2500\n",
            "Epoch 500/500\n",
            "2/2 [==============================] - 0s 8ms/step - loss: 4103709.2500\n"
          ]
        }
      ]
    },
    {
      "cell_type": "code",
      "source": [
        "mse = model.evaluate(X_train, y_train)\n",
        "print('MSE: %.2f' % (mse))"
      ],
      "metadata": {
        "colab": {
          "base_uri": "https://localhost:8080/"
        },
        "id": "Xua4VO2Qtaqa",
        "outputId": "12192dae-42e7-4926-b75c-b4e20e4d9bfe"
      },
      "execution_count": 238,
      "outputs": [
        {
          "output_type": "stream",
          "name": "stdout",
          "text": [
            "4/4 [==============================] - 0s 5ms/step - loss: 4099649.0000\n",
            "MSE: 4099649.00\n"
          ]
        }
      ]
    },
    {
      "cell_type": "code",
      "source": [
        "model.history"
      ],
      "metadata": {
        "colab": {
          "base_uri": "https://localhost:8080/"
        },
        "id": "6K6NSFSNtdWo",
        "outputId": "a6675620-dda5-46bc-ffea-838d897861a2"
      },
      "execution_count": 239,
      "outputs": [
        {
          "output_type": "execute_result",
          "data": {
            "text/plain": [
              "<keras.callbacks.History at 0x7f214436a9a0>"
            ]
          },
          "metadata": {},
          "execution_count": 239
        }
      ]
    },
    {
      "cell_type": "code",
      "source": [
        "import matplotlib.pyplot as plt\n",
        "\n",
        "plt.plot(history.history[\"loss\"])\n",
        "plt.title(\"model loss\")\n",
        "plt.ylabel(\"loss\")\n",
        "plt.xlabel(\"epoch\")\n",
        "plt.legend([\"train\"], loc=\"upper right\")\n",
        "plt.show()\n"
      ],
      "metadata": {
        "colab": {
          "base_uri": "https://localhost:8080/",
          "height": 295
        },
        "id": "peyMbTbltfvA",
        "outputId": "b2ae740e-fca5-452d-e790-908c60d0cbed"
      },
      "execution_count": 240,
      "outputs": [
        {
          "output_type": "display_data",
          "data": {
            "text/plain": [
              "<Figure size 432x288 with 1 Axes>"
            ],
            "image/png": "[encoded data removed]"
          },
          "metadata": {
            "needs_background": "light"
          }
        }
      ]
    },
    {
      "cell_type": "code",
      "source": [
        "import matplotlib.pyplot as plt\n",
        "\n",
        "plt.plot(history.history[\"loss\"])\n",
        "plt.title(\"model accuracy\")\n",
        "plt.ylabel(\"accuracy\")\n",
        "plt.xlabel(\"epoch\")\n",
        "plt.legend([\"train\"], loc=\"upper right\")\n",
        "plt.show()"
      ],
      "metadata": {
        "colab": {
          "base_uri": "https://localhost:8080/",
          "height": 295
        },
        "id": "WAi5G6TTtjT4",
        "outputId": "f2e84a55-af29-4668-926c-66000916b8be"
      },
      "execution_count": 241,
      "outputs": [
        {
          "output_type": "display_data",
          "data": {
            "text/plain": [
              "<Figure size 432x288 with 1 Axes>"
            ],
            "image/png": "[encoded data removed]"
          },
          "metadata": {
            "needs_background": "light"
          }
        }
      ]
    }
  ]
}