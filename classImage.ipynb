{
  "nbformat": 4,
  "nbformat_minor": 0,
  "metadata": {
    "colab": {
      "provenance": [],
      "collapsed_sections": [],
      "authorship_tag": "ABX9TyOePYfeMNptxLikBc1l6oou",
      "include_colab_link": true
    },
    "kernelspec": {
      "name": "python3",
      "display_name": "Python 3"
    },
    "language_info": {
      "name": "python"
    }
  },
  "cells": [
    {
      "cell_type": "markdown",
      "metadata": {
        "id": "view-in-github",
        "colab_type": "text"
      },
      "source": [
        "<a href=\"https://colab.research.google.com/github/daniruro19/Python/blob/main/classImage.ipynb\" target=\"_parent\"><img src=\"https://colab.research.google.com/assets/colab-badge.svg\" alt=\"Open In Colab\"/></a>"
      ]
    },
    {
      "cell_type": "code",
      "execution_count": null,
      "metadata": {
        "id": "mGKYhWqY8-6e"
      },
      "outputs": [],
      "source": [
        "from PIL import Image\n",
        "import numpy as np\n",
        "\n",
        "class Imagenes:\n",
        "    imagen=\"\"\n",
        "    color= \"\"\n",
        "\n",
        "    def __init__(self, anch=1, alt=1, col=None):\n",
        "        self.imagen = Image.new(\"RGB\",(anch,alt))\n",
        "        self.color=col\n",
        "\n",
        "    def pintar(self):\n",
        "        for i in range(0, self.imagen.size[0]):\n",
        "            for j in range(0, self.imagen.size[1]):\n",
        "                self.imagen.putpixel((i,j),self.color) #color???\n",
        "        \n",
        "        return self.imagen\n",
        "\n",
        "    def pintarColores(self, hori, anchHori, verti, altVerti):\n",
        "        valorx=hori*anchHori\n",
        "        valory=verti*altVerti\n",
        "\n",
        "        self.imagen = Image.new('RGB', (valorx, valory))\n",
        "        for x in range(0, self.imagen.size[0]):\n",
        "          for y in range(0, self.imagen.size[1]):\n",
        "            self.imagen.putpixel((x,y), (randint(0,255),randint(0,255),randint(0,255)))\n",
        "\n",
        "        return self.imagen\n",
        "\n",
        "    def rediDeformar(self, newAncho, newAlto):\n",
        "        width=newAncho\n",
        "        height=newAlto\n",
        "\n",
        "        img=self.imagen.resize((width,height))\n",
        "\n",
        "        return img\n",
        "\n",
        "    def rediAncho(self, newAncho):\n",
        "        width=newAncho\n",
        "        height=int((self.imagen.size[1]*width)/self.imagen.size[0])\n",
        "\n",
        "        img=self.imagen.resize((width,height))\n",
        "\n",
        "        return img\n",
        "\n",
        "    def rediAlto(self, newAlto):\n",
        "        height=newAlto\n",
        "        width=int((self.imagen.size[0]*height)/self.imagen.size[1])\n",
        "\n",
        "        img=self.imagen.resize((width,height))\n",
        "\n",
        "        return img\n",
        "\n",
        "    def trozo(self, posx, posy):\n",
        "        part=hstack[posx:self.imagen.size[0], posy:self.imagen.size[1]]\n",
        "        img=Image.fromarray(part)\n",
        "\n",
        "        return img\n",
        "              \n",
        "    def apilar(self, imagen2, vertHori):\n",
        "        if vertHori == \"vertical\":\n",
        "          vstack = np.vstack([self.imagen,imagen2])\n",
        "          img = Image.fromarray(vstack)\n",
        "\n",
        "        if vertHori == \"horizontal\":\n",
        "          hstack = np.hstack([self.imagen,imagen2])\n",
        "          img = Image.fromarray(hstack)\n",
        "\n",
        "        return img\n",
        "        \n",
        "    def apilarAdaptado(self, imagen2, vertHori):\n",
        "        if self.imagen.size[0] != self.imagen2.size[0]:\n",
        "          self.imagen2.size[0]=self.imagen.size[0]\n",
        "\n",
        "        if self.imagen.size[1] != self.imagen2.size[1]:\n",
        "          self.imagen2.size[1]=self.imagen.size[1]\n",
        "                 \n",
        "        if vertHori == \"vertical\":\n",
        "          vstack = np.vstack([self.imagen,imagen2])\n",
        "          img = Image.fromarray(vstack)\n",
        "\n",
        "        if vertHori == \"horizontal\":\n",
        "          hstack = np.hstack([self.imagen,imagen2])\n",
        "          img = Image.fromarray(hstack)\n",
        "\n",
        "        return img"
      ]
    },
    {
      "cell_type": "code",
      "source": [
        "img1=Imagenes(120,200,(23,33,22))\n",
        "img2=Imagenes(120,200,(23,33,22))\n",
        "\n",
        "arr = img1.pintar()\n",
        "arr"
      ],
      "metadata": {
        "colab": {
          "base_uri": "https://localhost:8080/",
          "height": 217
        },
        "id": "u1TOAdiRc6hn",
        "outputId": "f9a3cd4b-7207-4f5f-ecbf-cfac9cd18b5c"
      },
      "execution_count": null,
      "outputs": [
        {
          "output_type": "execute_result",
          "data": {
            "text/plain": [
              "<PIL.Image.Image image mode=RGB size=120x200 at 0x7F62AED70990>"
            ],
            "image/png": "[encoded data removed]"
          },
          "metadata": {},
          "execution_count": 3
        }
      ]
    },
    {
      "cell_type": "code",
      "source": [
        "arr = img1.rediDeformar(200,20)\n",
        "arr"
      ],
      "metadata": {
        "colab": {
          "base_uri": "https://localhost:8080/",
          "height": 37
        },
        "id": "Di_HH_hYc_3u",
        "outputId": "9eaf2e82-b416-4970-936c-8c8dd16db1da"
      },
      "execution_count": null,
      "outputs": [
        {
          "output_type": "execute_result",
          "data": {
            "text/plain": [
              "<PIL.Image.Image image mode=RGB size=200x20 at 0x7F62AED70D10>"
            ],
            "image/png": "[encoded data removed]"
          },
          "metadata": {},
          "execution_count": 4
        }
      ]
    },
    {
      "cell_type": "code",
      "source": [
        "arr = img1.rediAncho(298)\n",
        "arr\n"
      ],
      "metadata": {
        "colab": {
          "base_uri": "https://localhost:8080/",
          "height": 513
        },
        "id": "_18ajDajdESN",
        "outputId": "363dadc3-b034-4669-c166-d70f5a554b7f"
      },
      "execution_count": null,
      "outputs": [
        {
          "output_type": "execute_result",
          "data": {
            "text/plain": [
              "<PIL.Image.Image image mode=RGB size=298x496 at 0x7F62AED70190>"
            ],
            "image/png": "[encoded data removed]"
          },
          "metadata": {},
          "execution_count": 10
        }
      ]
    },
    {
      "cell_type": "code",
      "source": [
        "arr1=img1.rediAlto(298)\n",
        "arr1"
      ],
      "metadata": {
        "id": "88CZh-wQdHkl"
      },
      "execution_count": null,
      "outputs": []
    },
    {
      "cell_type": "code",
      "source": [
        "arr= img1.trozo(25,32)\n",
        "arr"
      ],
      "metadata": {
        "id": "08qDRxuHeyWH"
      },
      "execution_count": null,
      "outputs": []
    },
    {
      "cell_type": "code",
      "source": [
        "arr1= img2.pintarColores(2,3,4,5)\n",
        "arr1"
      ],
      "metadata": {
        "colab": {
          "base_uri": "https://localhost:8080/",
          "height": 37
        },
        "id": "tu9bc54BtTFE",
        "outputId": "11a4ddb5-7431-473f-f945-7b6c598c5229"
      },
      "execution_count": null,
      "outputs": [
        {
          "output_type": "execute_result",
          "data": {
            "text/plain": [
              "<PIL.Image.Image image mode=RGB size=6x20 at 0x7F62ADE8F910>"
            ],
            "image/png": "[encoded data removed]"
          },
          "metadata": {},
          "execution_count": 35
        }
      ]
    },
    {
      "cell_type": "code",
      "source": [
        "vert=\"vertical\"\n",
        "arr2 = img1.apilar(img2.imagen,vert)"
      ],
      "metadata": {
        "id": "Rz3F2JmpoXiC"
      },
      "execution_count": null,
      "outputs": []
    }
  ]
}