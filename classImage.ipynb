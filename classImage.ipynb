{
  "nbformat": 4,
  "nbformat_minor": 0,
  "metadata": {
    "colab": {
      "provenance": [],
      "collapsed_sections": [],
      "authorship_tag": "ABX9TyOpR+Ov7puxjHI++tvP9dtU",
      "include_colab_link": true
    },
    "kernelspec": {
      "name": "python3",
      "display_name": "Python 3"
    },
    "language_info": {
      "name": "python"
    }
  },
  "cells": [
    {
      "cell_type": "markdown",
      "metadata": {
        "id": "view-in-github",
        "colab_type": "text"
      },
      "source": [
        "<a href=\"https://colab.research.google.com/github/daniruro19/Python/blob/main/classImage.ipynb\" target=\"_parent\"><img src=\"https://colab.research.google.com/assets/colab-badge.svg\" alt=\"Open In Colab\"/></a>"
      ]
    },
    {
      "cell_type": "code",
      "execution_count": 45,
      "metadata": {
        "id": "mGKYhWqY8-6e"
      },
      "outputs": [],
      "source": [
        "from PIL import Image\n",
        "import numpy as np\n",
        "\n",
        "class Imagenes:\n",
        "    imagen=\"\"\n",
        "    color= \"\"\n",
        "\n",
        "    def __init__(self, anch=1, alt=1, col=None):\n",
        "        self.imagen = Image.new(\"RGB\",(anch,alt))\n",
        "        self.color=col\n",
        "\n",
        "    def pintar(self):\n",
        "        for i in range(0, self.imagen.size[0]):\n",
        "            for j in range(0, self.imagen.size[1]):\n",
        "                self.imagen.putpixel((i,j),self.color) #color???\n",
        "        \n",
        "        return self.imagen\n",
        "\n",
        "    def pintarColores(self, hori, anchHori, verti, altVerti):\n",
        "        valorx=hori*anchHori\n",
        "        valory=verti*altVerti\n",
        "\n",
        "        self.imagen = Image.new('RGB', (valorx, valory))\n",
        "        for x in range(0, self.imagen.size[0]):\n",
        "          for y in range(0, self.imagen.size[1]):\n",
        "            self.imagen.putpixel((x,y), (randint(0,255),randint(0,255),randint(0,255)))\n",
        "\n",
        "        return self.imagen\n",
        "\n",
        "    def rediDeformar(self, newAncho, newAlto):\n",
        "        width=newAncho\n",
        "        height=newAlto\n",
        "\n",
        "        img=self.imagen.resize((width,height))\n",
        "\n",
        "        return img\n",
        "\n",
        "    def rediAncho(self, newAncho):\n",
        "        width=newAncho\n",
        "        height=int((self.imagen.size[1]*width)/self.imagen.size[0])\n",
        "\n",
        "        img=self.imagen.resize((width,height))\n",
        "\n",
        "        return img\n",
        "\n",
        "    def rediAlto(self, newAlto):\n",
        "        height=newAlto\n",
        "        width=int((self.imagen.size[0]*height)/self.imagen.size[1])\n",
        "\n",
        "        img=self.imagen.resize((width,height))\n",
        "\n",
        "        return img\n",
        "\n",
        "    def trozo(self, posx, posy):\n",
        "        part=hstack[posx:self.imagen.size[0], posy:self.imagen.size[1]]\n",
        "        img=Image.fromarray(part)\n",
        "\n",
        "        return img\n",
        "              \n",
        "    def apilar(self, imagen2, vertHori):\n",
        "        if vertHori == \"vertical\":\n",
        "          vstack = np.vstack([self.imagen,imagen2])\n",
        "          img = Image.fromarray(vstack)\n",
        "\n",
        "        if vertHori == \"horizontal\":\n",
        "          hstack = np.hstack([self.imagen,imagen2])\n",
        "          img = Image.fromarray(hstack)\n",
        "\n",
        "        return img\n",
        "        \n",
        "    def apilarAdaptado(self, imagen2, vertHori):\n",
        "        if self.imagen.size[0] != self.imagen2.size[0]:\n",
        "          self.imagen2.size[0]=self.imagen.size[0]\n",
        "\n",
        "        if self.imagen.size[1] != self.imagen2.size[1]:\n",
        "          self.imagen2.size[1]=self.imagen.size[1]\n",
        "                 \n",
        "        if vertHori == \"vertical\":\n",
        "          vstack = np.vstack([self.imagen,imagen2])\n",
        "          img = Image.fromarray(vstack)\n",
        "\n",
        "        if vertHori == \"horizontal\":\n",
        "          hstack = np.hstack([self.imagen,imagen2])\n",
        "          img = Image.fromarray(hstack)\n",
        "\n",
        "        return img"
      ]
    },
    {
      "cell_type": "code",
      "source": [
        "img1=Imagenes(120,200,(23,33,22))\n",
        "img2=Imagenes(120,200,(23,33,22))\n",
        "\n",
        "arr = img1.pintar()\n",
        "arr"
      ],
      "metadata": {
        "colab": {
          "base_uri": "https://localhost:8080/",
          "height": 217
        },
        "id": "u1TOAdiRc6hn",
        "outputId": "f9a3cd4b-7207-4f5f-ecbf-cfac9cd18b5c"
      },
      "execution_count": null,
      "outputs": [
        {
          "output_type": "execute_result",
          "data": {
            "text/plain": [
              "<PIL.Image.Image image mode=RGB size=120x200 at 0x7F62AED70990>"
            ],
            "image/png": "[encoded data removed]"
          },
          "metadata": {},
          "execution_count": 3
        }
      ]
    },
    {
      "cell_type": "code",
      "source": [
        "arr = img1.rediDeformar(200,20)\n",
        "arr"
      ],
      "metadata": {
        "colab": {
          "base_uri": "https://localhost:8080/",
          "height": 37
        },
        "id": "Di_HH_hYc_3u",
        "outputId": "9eaf2e82-b416-4970-936c-8c8dd16db1da"
      },
      "execution_count": null,
      "outputs": [
        {
          "output_type": "execute_result",
          "data": {
            "text/plain": [
              "<PIL.Image.Image image mode=RGB size=200x20 at 0x7F62AED70D10>"
            ],
            "image/png": "[encoded data removed]"
          },
          "metadata": {},
          "execution_count": 4
        }
      ]
    },
    {
      "cell_type": "code",
      "source": [
        "arr = img1.rediAncho(298)\n",
        "arr\n"
      ],
      "metadata": {
        "colab": {
          "base_uri": "https://localhost:8080/",
          "height": 513
        },
        "id": "_18ajDajdESN",
        "outputId": "363dadc3-b034-4669-c166-d70f5a554b7f"
      },
      "execution_count": null,
      "outputs": [
        {
          "output_type": "execute_result",
          "data": {
            "text/plain": [
              "<PIL.Image.Image image mode=RGB size=298x496 at 0x7F62AED70190>"
            ],
            "image/png": "[encoded data removed]"
          },
          "metadata": {},
          "execution_count": 10
        }
      ]
    },
    {
      "cell_type": "code",
      "source": [
        "arr1=img1.rediAlto(298)\n",
        "arr1"
      ],
      "metadata": {
        "colab": {
          "base_uri": "https://localhost:8080/",
          "height": 317
        },
        "id": "88CZh-wQdHkl",
        "outputId": "f7b4ccf0-0520-4cdb-be1c-a6dfe3df4d39"
      },
      "execution_count": 47,
      "outputs": [
        {
          "output_type": "error",
          "ename": "TypeError",
          "evalue": "ignored",
          "traceback": [
            "\u001b[0;31m---------------------------------------------------------------------------\u001b[0m",
            "\u001b[0;31mTypeError\u001b[0m                                 Traceback (most recent call last)",
            "\u001b[0;32m<ipython-input-47-e20c9347ebc5>\u001b[0m in \u001b[0;36m<module>\u001b[0;34m\u001b[0m\n\u001b[0;32m----> 1\u001b[0;31m \u001b[0marr1\u001b[0m\u001b[0;34m=\u001b[0m\u001b[0mimg1\u001b[0m\u001b[0;34m.\u001b[0m\u001b[0mrediAlto\u001b[0m\u001b[0;34m(\u001b[0m\u001b[0;36m298\u001b[0m\u001b[0;34m)\u001b[0m\u001b[0;34m\u001b[0m\u001b[0;34m\u001b[0m\u001b[0m\n\u001b[0m\u001b[1;32m      2\u001b[0m \u001b[0marr1\u001b[0m\u001b[0;34m\u001b[0m\u001b[0;34m\u001b[0m\u001b[0m\n",
            "\u001b[0;32m<ipython-input-1-da92c25e7e83>\u001b[0m in \u001b[0;36mrediAlto\u001b[0;34m(self, newAlto)\u001b[0m\n\u001b[1;32m     46\u001b[0m     \u001b[0;32mdef\u001b[0m \u001b[0mrediAlto\u001b[0m\u001b[0;34m(\u001b[0m\u001b[0mself\u001b[0m\u001b[0;34m,\u001b[0m \u001b[0mnewAlto\u001b[0m\u001b[0;34m)\u001b[0m\u001b[0;34m:\u001b[0m\u001b[0;34m\u001b[0m\u001b[0;34m\u001b[0m\u001b[0m\n\u001b[1;32m     47\u001b[0m         \u001b[0mheight\u001b[0m\u001b[0;34m=\u001b[0m\u001b[0mnewAlto\u001b[0m\u001b[0;34m\u001b[0m\u001b[0;34m\u001b[0m\u001b[0m\n\u001b[0;32m---> 48\u001b[0;31m         \u001b[0mwidth\u001b[0m\u001b[0;34m=\u001b[0m\u001b[0mint\u001b[0m\u001b[0;34m(\u001b[0m\u001b[0;34m(\u001b[0m\u001b[0mself\u001b[0m\u001b[0;34m.\u001b[0m\u001b[0mimagen\u001b[0m\u001b[0;34m.\u001b[0m\u001b[0msize\u001b[0m\u001b[0;34m[\u001b[0m\u001b[0;36m0\u001b[0m\u001b[0;34m]\u001b[0m\u001b[0;34m,\u001b[0m\u001b[0mheight\u001b[0m\u001b[0;34m)\u001b[0m\u001b[0;34m/\u001b[0m\u001b[0mself\u001b[0m\u001b[0;34m.\u001b[0m\u001b[0mimagen\u001b[0m\u001b[0;34m.\u001b[0m\u001b[0msize\u001b[0m\u001b[0;34m[\u001b[0m\u001b[0;36m1\u001b[0m\u001b[0;34m]\u001b[0m\u001b[0;34m)\u001b[0m\u001b[0;34m\u001b[0m\u001b[0;34m\u001b[0m\u001b[0m\n\u001b[0m\u001b[1;32m     49\u001b[0m \u001b[0;34m\u001b[0m\u001b[0m\n\u001b[1;32m     50\u001b[0m         \u001b[0mimg\u001b[0m\u001b[0;34m=\u001b[0m\u001b[0mself\u001b[0m\u001b[0;34m.\u001b[0m\u001b[0mimagen\u001b[0m\u001b[0;34m.\u001b[0m\u001b[0mresize\u001b[0m\u001b[0;34m(\u001b[0m\u001b[0;34m(\u001b[0m\u001b[0mwidth\u001b[0m\u001b[0;34m,\u001b[0m\u001b[0mheight\u001b[0m\u001b[0;34m)\u001b[0m\u001b[0;34m)\u001b[0m\u001b[0;34m\u001b[0m\u001b[0;34m\u001b[0m\u001b[0m\n",
            "\u001b[0;31mTypeError\u001b[0m: unsupported operand type(s) for /: 'tuple' and 'int'"
          ]
        }
      ]
    },
    {
      "cell_type": "code",
      "source": [
        "arr= img1.trozo(25,32)\n",
        "arr"
      ],
      "metadata": {
        "id": "08qDRxuHeyWH",
        "colab": {
          "base_uri": "https://localhost:8080/",
          "height": 317
        },
        "outputId": "62e1b86f-ff00-485a-9dcf-3b1ad2918aea"
      },
      "execution_count": null,
      "outputs": [
        {
          "output_type": "error",
          "ename": "AttributeError",
          "evalue": "ignored",
          "traceback": [
            "\u001b[0;31m---------------------------------------------------------------------------\u001b[0m",
            "\u001b[0;31mAttributeError\u001b[0m                            Traceback (most recent call last)",
            "\u001b[0;32m<ipython-input-34-ab695246013b>\u001b[0m in \u001b[0;36m<module>\u001b[0;34m\u001b[0m\n\u001b[0;32m----> 1\u001b[0;31m \u001b[0marr\u001b[0m\u001b[0;34m=\u001b[0m \u001b[0mimg1\u001b[0m\u001b[0;34m.\u001b[0m\u001b[0mtrozo\u001b[0m\u001b[0;34m(\u001b[0m\u001b[0;36m25\u001b[0m\u001b[0;34m,\u001b[0m\u001b[0;36m32\u001b[0m\u001b[0;34m)\u001b[0m\u001b[0;34m\u001b[0m\u001b[0;34m\u001b[0m\u001b[0m\n\u001b[0m\u001b[1;32m      2\u001b[0m \u001b[0marr\u001b[0m\u001b[0;34m\u001b[0m\u001b[0;34m\u001b[0m\u001b[0m\n",
            "\u001b[0;32m<ipython-input-1-da92c25e7e83>\u001b[0m in \u001b[0;36mtrozo\u001b[0;34m(self, posx, posy)\u001b[0m\n\u001b[1;32m     53\u001b[0m \u001b[0;34m\u001b[0m\u001b[0m\n\u001b[1;32m     54\u001b[0m     \u001b[0;32mdef\u001b[0m \u001b[0mtrozo\u001b[0m\u001b[0;34m(\u001b[0m\u001b[0mself\u001b[0m\u001b[0;34m,\u001b[0m \u001b[0mposx\u001b[0m\u001b[0;34m,\u001b[0m \u001b[0mposy\u001b[0m\u001b[0;34m)\u001b[0m\u001b[0;34m:\u001b[0m\u001b[0;34m\u001b[0m\u001b[0;34m\u001b[0m\u001b[0m\n\u001b[0;32m---> 55\u001b[0;31m         \u001b[0mpart\u001b[0m\u001b[0;34m=\u001b[0m\u001b[0mself\u001b[0m\u001b[0;34m.\u001b[0m\u001b[0mimagen\u001b[0m\u001b[0;34m.\u001b[0m\u001b[0mhstack\u001b[0m\u001b[0;34m[\u001b[0m\u001b[0mposx\u001b[0m\u001b[0;34m:\u001b[0m\u001b[0mself\u001b[0m\u001b[0;34m.\u001b[0m\u001b[0mimagen\u001b[0m\u001b[0;34m.\u001b[0m\u001b[0msize\u001b[0m\u001b[0;34m[\u001b[0m\u001b[0;36m0\u001b[0m\u001b[0;34m]\u001b[0m\u001b[0;34m,\u001b[0m \u001b[0mposy\u001b[0m\u001b[0;34m:\u001b[0m\u001b[0mself\u001b[0m\u001b[0;34m.\u001b[0m\u001b[0mimagen\u001b[0m\u001b[0;34m.\u001b[0m\u001b[0msize\u001b[0m\u001b[0;34m[\u001b[0m\u001b[0;36m1\u001b[0m\u001b[0;34m]\u001b[0m\u001b[0;34m]\u001b[0m\u001b[0;34m\u001b[0m\u001b[0;34m\u001b[0m\u001b[0m\n\u001b[0m\u001b[1;32m     56\u001b[0m         \u001b[0mimg\u001b[0m\u001b[0;34m=\u001b[0m\u001b[0mImage\u001b[0m\u001b[0;34m.\u001b[0m\u001b[0mfromarray\u001b[0m\u001b[0;34m(\u001b[0m\u001b[0mpart\u001b[0m\u001b[0;34m)\u001b[0m\u001b[0;34m\u001b[0m\u001b[0;34m\u001b[0m\u001b[0m\n\u001b[1;32m     57\u001b[0m \u001b[0;34m\u001b[0m\u001b[0m\n",
            "\u001b[0;31mAttributeError\u001b[0m: 'Image' object has no attribute 'hstack'"
          ]
        }
      ]
    },
    {
      "cell_type": "code",
      "source": [
        "arr1= img2.pintarColores(2,3,4,5)\n",
        "arr1"
      ],
      "metadata": {
        "colab": {
          "base_uri": "https://localhost:8080/",
          "height": 37
        },
        "id": "tu9bc54BtTFE",
        "outputId": "11a4ddb5-7431-473f-f945-7b6c598c5229"
      },
      "execution_count": null,
      "outputs": [
        {
          "output_type": "execute_result",
          "data": {
            "text/plain": [
              "<PIL.Image.Image image mode=RGB size=6x20 at 0x7F62ADE8F910>"
            ],
            "image/png": "[encoded data removed]"
          },
          "metadata": {},
          "execution_count": 35
        }
      ]
    },
    {
      "cell_type": "code",
      "source": [
        "vert=\"vertical\"\n",
        "arr2 = img1.apilar(img2.imagen,vert)"
      ],
      "metadata": {
        "colab": {
          "base_uri": "https://localhost:8080/",
          "height": 190
        },
        "id": "Rz3F2JmpoXiC",
        "outputId": "eba78aaf-6131-4529-ec2f-b16f7c864349"
      },
      "execution_count": null,
      "outputs": [
        {
          "output_type": "error",
          "ename": "TypeError",
          "evalue": "ignored",
          "traceback": [
            "\u001b[0;31m---------------------------------------------------------------------------\u001b[0m",
            "\u001b[0;31mTypeError\u001b[0m                                 Traceback (most recent call last)",
            "\u001b[0;32m<ipython-input-40-d568bf91cbb1>\u001b[0m in \u001b[0;36m<module>\u001b[0;34m\u001b[0m\n\u001b[1;32m      1\u001b[0m \u001b[0mvert\u001b[0m\u001b[0;34m=\u001b[0m\u001b[0;34m\"vertical\"\u001b[0m\u001b[0;34m\u001b[0m\u001b[0;34m\u001b[0m\u001b[0m\n\u001b[0;32m----> 2\u001b[0;31m \u001b[0marr2\u001b[0m \u001b[0;34m=\u001b[0m \u001b[0mimg1\u001b[0m\u001b[0;34m.\u001b[0m\u001b[0mapilar\u001b[0m\u001b[0;34m(\u001b[0m\u001b[0mimg2\u001b[0m\u001b[0;34m.\u001b[0m\u001b[0mimagen\u001b[0m\u001b[0;34m,\u001b[0m\u001b[0mvert\u001b[0m\u001b[0;34m)\u001b[0m\u001b[0;34m\u001b[0m\u001b[0;34m\u001b[0m\u001b[0m\n\u001b[0m",
            "\u001b[0;31mTypeError\u001b[0m: apilar() takes 2 positional arguments but 3 were given"
          ]
        }
      ]
    },
    {
      "cell_type": "code",
      "source": [],
      "metadata": {
        "id": "Je0mhuOWrtcy"
      },
      "execution_count": null,
      "outputs": []
    },
    {
      "cell_type": "code",
      "source": [
        "#VERSION CARMELO\n",
        "\n",
        "\"\"\"class Imagen:\n",
        "\n",
        "    def __init__(self,width=1,height=1,color=None):\n",
        "      self.data=Imagen.create_image(width,height,color)\n",
        "\n",
        "      @staticmethod\n",
        "      def create_image(width=1, height=1, color= None):\n",
        "        data =np.zeros(height,width,3),dtype=np.uint8)\n",
        "          if color!= None:\n",
        "            for x in range(0, width):\n",
        "              for y in range(0,height):\n",
        "                data[y,x]=color\n",
        "\n",
        "          return data\"\"\""
      ],
      "metadata": {
        "id": "YhsHn7ndkMPV"
      },
      "execution_count": null,
      "outputs": []
    }
  ]
}