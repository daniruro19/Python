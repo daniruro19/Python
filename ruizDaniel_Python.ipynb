{
  "nbformat": 4,
  "nbformat_minor": 0,
  "metadata": {
    "colab": {
      "provenance": [],
      "collapsed_sections": [
        "dlkt2JnQ5XST",
        "k6H2QmccKGn2",
        "0e6x8kZFgOHU",
        "RyjAIfLqhng2",
        "-sohJKWo4pAg"
      ],
      "authorship_tag": "ABX9TyO1rHyvfx6w8QXkfbm++12v",
      "include_colab_link": true
    },
    "kernelspec": {
      "name": "python3",
      "display_name": "Python 3"
    },
    "language_info": {
      "name": "python"
    }
  },
  "cells": [
    {
      "cell_type": "markdown",
      "metadata": {
        "id": "view-in-github",
        "colab_type": "text"
      },
      "source": [
        "<a href=\"https://colab.research.google.com/github/daniruro19/Python/blob/main/ruizDaniel_Python.ipynb\" target=\"_parent\"><img src=\"https://colab.research.google.com/assets/colab-badge.svg\" alt=\"Open In Colab\"/></a>"
      ]
    },
    {
      "cell_type": "markdown",
      "source": [
        "**RESUMEN PYTHON FROM SCRATCH by Daniel Ruiz Rodríguez**"
      ],
      "metadata": {
        "id": "dqnOw1GsgFLc"
      }
    },
    {
      "cell_type": "markdown",
      "source": [
        "# **Introducción**\n",
        "\n",
        "\n",
        "\n",
        "\n",
        "\n",
        "\n",
        "\n",
        "\n",
        "\n"
      ],
      "metadata": {
        "id": "dlkt2JnQ5XST"
      }
    },
    {
      "cell_type": "markdown",
      "source": [
        "*1.¿Qué es Python?*\n",
        "\n",
        ">   Se trata de un lenguaje de programación de alto nivel que no se especializa en ningún área en específico y con una curva de aprendizaje relativamente baja teniendo en cuenta su accesibilidad y fácil lectura.\n",
        "\n",
        "*2.El comando print* \n",
        "\n",
        "> Este comando refleja por pantalla las oraciones que le digamos, variables o incluso las soluciones de expresiones aritméticascon sangría\n",
        "\n",
        "    print(\"Buenas tardes\")\n",
        "    print(a, b)\n",
        "\n",
        ">Los comentarios se indicarán por el símbolo # o triples comillas (\"\"\")\n",
        "\n",
        "\n",
        "\n"
      ],
      "metadata": {
        "id": "hRHcKLWIGGjU"
      }
    },
    {
      "cell_type": "markdown",
      "source": [
        "# **Tipos de datos y variables**\n",
        "\n",
        "    \n",
        "\n",
        "\n",
        "\n",
        "\n",
        "\n",
        "\n",
        "\n",
        "\n"
      ],
      "metadata": {
        "id": "k6H2QmccKGn2"
      }
    },
    {
      "cell_type": "markdown",
      "source": [
        "\n",
        "*1-Números*\n",
        "\n",
        "> Enteros => Números positivos y negativos sin parte decimal.\n",
        "\n",
        "    numpos = 10\n",
        "    numneg = -10\n",
        "\n",
        "> Decimales \n",
        "\n",
        "    numflt = 10.399\n",
        "\n",
        "> Números complejos => Usaremos la sentencia complex() para crearlos, necesitando dos valores, el primero real y el segundo imaginario.\n",
        "\n",
        "    complex(10,20)\n",
        "    print(complex(3.33, -35))\n",
        "\n",
        "*2-Booleanos*    \n",
        "\n",
        "> Tipo de dato que puede solo adoptar dos valores: True o False (Con mayúscula la primera letra)\n",
        "\n",
        "    f_bool = False\n",
        "\n",
        "*3-Strings*\n",
        "\n",
        "> Su definición es una serie de caracteres entre comillas, por lo que podemos referirnos a frases como \"Voy a comprar el pan\".\n",
        "\n",
        "    print(\"Buenas tardes\")\n",
        "    strPan=\"Voy a comprar el pan\"\n",
        "    print(strPan)\n",
        "\n",
        "    variasLineas='''TEXTO  CON  FORMATO'''\n",
        "\n",
        ">Para saber la longitud en caracteres de la cadena tenemos la orden len\n",
        "\n",
        "    string2=\"Buenas tardes\"\n",
        "    print(len(string2)) = 13\n",
        "\n",
        ">Si se quiere acceder a un caracter en específico tenemos los índices, números que denotan la posición de un carácter en la cadena\n",
        "\n",
        "    string2[0]=B\n",
        "    string2[-1]=s"
      ],
      "metadata": {
        "id": "AqDKbS93F_AT"
      }
    },
    {
      "cell_type": "markdown",
      "source": [
        "*4-El tipo none*\n",
        "\n",
        ">Se trata de un valor que podemos igualar a variables, no hay que confundirlo con el valor 0, con un False o con un null.\n",
        "\n",
        "    val=None\n",
        "\n"
      ],
      "metadata": {
        "id": "UkWuEt5rT397"
      }
    },
    {
      "cell_type": "markdown",
      "source": [
        "*5.Segmentar strings*\n",
        "\n",
        "> Podemos sacar parte del contenido de un string gracias a sus índices.\n",
        "Se puede realizar por saltos hacia adelante o hacia atrás.\n",
        "\n",
        "    string[inicio:final:saltos]\n",
        "\n"
      ],
      "metadata": {
        "id": "SM8g7II7VJgj"
      }
    },
    {
      "cell_type": "code",
      "source": [
        "frase=\"Buenos dias a todos\"\n",
        "\n",
        "print(frase[0:])\n",
        "print(frase[-1:0:-3])\n",
        "print(frase[:10])\n",
        "\n",
        "#casos notables\n",
        "print(frase[:])\n",
        "print(frase[::-1])"
      ],
      "metadata": {
        "colab": {
          "base_uri": "https://localhost:8080/"
        },
        "id": "NCvGp_OlNkCg",
        "outputId": "ec6947ba-3b73-4ff9-ed9b-d1c5c8c2b2fd"
      },
      "execution_count": null,
      "outputs": [
        {
          "output_type": "stream",
          "name": "stdout",
          "text": [
            "Buenos dias a todos\n",
            "soaa n\n",
            "Buenos dia\n",
            "Buenos dias a todos\n",
            "sodot a said soneuB\n"
          ]
        }
      ]
    },
    {
      "cell_type": "markdown",
      "source": [
        "*6.Cambios de valores en strings*\n",
        "\n",
        ">Podemos introducir valores a strings usando % seguido de una letra que actuarán como placeholders para el valor que se quiera introducir.\n",
        "\n",
        ">Estos valores son:\n",
        "%s para palabras, %i para números enteros y %f para floats (Si se quiere aproximar decimales se escribirá el número de estos ej: %.2f)"
      ],
      "metadata": {
        "id": "eIP8_IUvQw5r"
      }
    },
    {
      "cell_type": "code",
      "source": [
        "linea1=\"Que %s hace hoy\" % \"calor\"\n",
        "print(linea1)\n",
        "\n",
        "palabra=\"frio\"\n",
        "linea2= \"Ayer no hizo tanto %s\" % palabra\n",
        "print(linea2)\n",
        "\n",
        "cuenta=\"%i ** %i = %i\" % (2,3,8)\n",
        "print(cuenta)\n",
        "\n",
        "aprox=\"%.3f\" % (3.698756)\n",
        "print(aprox)"
      ],
      "metadata": {
        "colab": {
          "base_uri": "https://localhost:8080/"
        },
        "id": "Vp1-Moz1Rh-Y",
        "outputId": "765fc80c-7a27-49eb-ee58-bc1713c9714b"
      },
      "execution_count": null,
      "outputs": [
        {
          "output_type": "stream",
          "name": "stdout",
          "text": [
            "Que calor hace hoy\n",
            "Ayer no hizo tanto frio\n",
            "2 ** 3 = 8\n",
            "3.699\n"
          ]
        }
      ]
    },
    {
      "cell_type": "markdown",
      "source": [
        "*7.Operadores*\n",
        "\n",
        ">7.1-> Aritméticos\n",
        "\n",
        "1.   Exponente **\n",
        "2.   Módulo %\n",
        "3.   Multiplicación *\n",
        "4.   División /\n",
        "5.   División a la baja //\n",
        "6.   Substracción -\n",
        "7.   Suma\n",
        "\n",
        "> La prioridad de las operaciones * / + -\n",
        "\n",
        "\n",
        "\n",
        "\n",
        "\n"
      ],
      "metadata": {
        "id": "SNw8VGLQS_-L"
      }
    },
    {
      "cell_type": "markdown",
      "source": [
        ">7.2-> De Comparación\n",
        "\n",
        "1.   Más que >\n",
        "2.   Menos que <\n",
        "3.   Mayor o igual >=\n",
        "4.   Menor o igual <=\n",
        "5.   Igualdad ==\n",
        "6.   No igualdad !=\n",
        "7.   Es igual/no es igual  is / is not\n",
        "\n",
        ">Devuelven un valor booleano False o True\n"
      ],
      "metadata": {
        "id": "fMc31OSAXSKc"
      }
    },
    {
      "cell_type": "markdown",
      "source": [
        ">7.3-> De Asignación\n",
        "\n",
        "1.   Asignación =\n",
        "2.   Asignar y sumar +=\n",
        "3.   Asignar y restar -=\n",
        "4.   Asignar y multiplicar *=\n",
        "5.   Asignar y dividir /=\n",
        "6.   Asignar y dividir a la baja //=\n",
        "7.   Asignar y exponente **=\n"
      ],
      "metadata": {
        "id": "nShVW7hSYtoy"
      }
    },
    {
      "cell_type": "markdown",
      "source": [
        ">7.4-> Lógicos\n",
        "\n",
        "1.   AND and\n",
        "2.   OR or\n",
        "3.   NOT not\n",
        "\n",
        "> Como dato, el valor de True es considerado 1 mientras que el de False 0, por lo que 10*False=0"
      ],
      "metadata": {
        "id": "D1p8kdO9aHl2"
      }
    },
    {
      "cell_type": "markdown",
      "source": [
        ">7.5-> A nivel de bits\n",
        "\n",
        "1.   AND &\n",
        "2.   OR |\n",
        "3.   XOR ^\n",
        "4.   NOT ~\n",
        "5.   Bit a la izq <<\n",
        "6.   Bit a la der >> "
      ],
      "metadata": {
        "id": "y2nQogDUbGOg"
      }
    },
    {
      "cell_type": "markdown",
      "source": [
        "*8.Operaciones con cadenas (arrays)* \n",
        "\n",
        "*   Para concatenar dos cadenas se pueden \"sumar\"\n",
        "*   Si se quiere duplicar se puede \"multiplicar\"\n",
        "*   Si se quiere saber si una palabra o serie de caracteres están en un string, usar la orden in\n",
        "*   Se pueden usar los operadores de comparación entre dos cadenas para ver por ejemplo si tienen es mismo numero de caracteres.\n",
        "\n"
      ],
      "metadata": {
        "id": "WaxpZLx4bkYl"
      }
    },
    {
      "cell_type": "code",
      "source": [
        "cadena1=\"Otoño empi\"\n",
        "cadena2=\"eza el 21 de octubre\"\n",
        "\n",
        "cadena3=cadena1 + cadena2\n",
        "\n",
        "print(cadena3)\n",
        "\n",
        "print(cadena3 * 2)\n",
        "\n",
        "print('Otoño' in cadena1)\n",
        "\n"
      ],
      "metadata": {
        "colab": {
          "base_uri": "https://localhost:8080/"
        },
        "id": "cnBjMfnHcx0F",
        "outputId": "88d9280f-25e6-4970-90cb-3f48cc578ece"
      },
      "execution_count": null,
      "outputs": [
        {
          "output_type": "stream",
          "name": "stdout",
          "text": [
            "Otoño empieza el 21 de octubre\n",
            "Otoño empieza el 21 de octubreOtoño empieza el 21 de octubre\n",
            "True\n"
          ]
        }
      ]
    },
    {
      "cell_type": "markdown",
      "source": [
        "Se pueden rellenar los arrays con diferentes valores, estos ocuparán un sitio dentro de él, siendo el primero el 0."
      ],
      "metadata": {
        "id": "L8iISEEhfHys"
      }
    },
    {
      "cell_type": "code",
      "source": [
        "lista=[\"tractor\",2,\"patatas\",False]\n",
        "print(lista[0] + \" y \" + lista[2])"
      ],
      "metadata": {
        "colab": {
          "base_uri": "https://localhost:8080/"
        },
        "id": "fzarePF7fmxp",
        "outputId": "511c367d-8299-46e2-baa6-6f5751ddc19b"
      },
      "execution_count": null,
      "outputs": [
        {
          "output_type": "stream",
          "name": "stdout",
          "text": [
            "tractor y patatas\n"
          ]
        }
      ]
    },
    {
      "cell_type": "code",
      "source": [],
      "metadata": {
        "id": "P0u38Ko-F0dO"
      },
      "execution_count": null,
      "outputs": []
    },
    {
      "cell_type": "markdown",
      "source": [
        "# **Condicionales**"
      ],
      "metadata": {
        "id": "0e6x8kZFgOHU"
      }
    },
    {
      "cell_type": "markdown",
      "source": [
        "*1.Condicional if*\n",
        " "
      ],
      "metadata": {
        "id": "A5RRv-3dgTPr"
      }
    },
    {
      "cell_type": "code",
      "source": [
        "num= 9\n",
        "\n",
        "if num == 1 :\n",
        "  print(\"El numero es 1\")\n",
        "elif num > 1 and num <=10 :\n",
        "  print(\"El numero está entre 1 y 10\")\n",
        "elif num <= 0:\n",
        "  print(\"El numero es menor de 1\")\n",
        "else:\n",
        "  print (\"El numero es mayor de 10\")"
      ],
      "metadata": {
        "colab": {
          "base_uri": "https://localhost:8080/"
        },
        "id": "urCdfD3WghYI",
        "outputId": "fe47036a-6f5b-4445-f803-a51f1c685c46"
      },
      "execution_count": null,
      "outputs": [
        {
          "output_type": "stream",
          "name": "stdout",
          "text": [
            "El numero está entre 1 y 10\n"
          ]
        }
      ]
    },
    {
      "cell_type": "markdown",
      "source": [
        "# **Funciones**"
      ],
      "metadata": {
        "id": "RyjAIfLqhng2"
      }
    },
    {
      "cell_type": "markdown",
      "source": [
        "*1.Definir una función*\n",
        ">Primero que nada, una función es una forma de invocar operaciones con una simple palabra, justo como print y len.\n",
        "\n",
        ">Para crear una función propia, se usará el comando def."
      ],
      "metadata": {
        "id": "bBxGwWGWhskU"
      }
    },
    {
      "cell_type": "code",
      "source": [
        "def maximum(num1, num2):\n",
        "  if (num1 > num2):\n",
        "    return num1\n",
        "  else:\n",
        "    return num2\n",
        "\n",
        "valor1= 1\n",
        "valor2= 3\n",
        "\n",
        "valor3=maximum(valor1,valor2)\n",
        "print(valor3)\n",
        "\n"
      ],
      "metadata": {
        "colab": {
          "base_uri": "https://localhost:8080/"
        },
        "id": "HH5VOG8XjqNu",
        "outputId": "8830a2d5-9eef-45ff-db97-b55633ec8e50"
      },
      "execution_count": null,
      "outputs": [
        {
          "output_type": "stream",
          "name": "stdout",
          "text": [
            "3\n"
          ]
        }
      ]
    },
    {
      "cell_type": "markdown",
      "source": [
        "*2.Funciones para strings*\n",
        "\n",
        ">Las funciones o métodos para strings se usan de una forma un poco diferente (como métodos de objeto)\n",
        "\n",
        "\n",
        "1.   Búsqueda =>\n",
        "    mystring.find(substring,start,end)\n",
        "    >Nos muestra el índice en el que empieza la cadena de caracteres especificada si existe.\n",
        "\n",
        "\n"
      ],
      "metadata": {
        "id": "NiYuLn-Mwlpz"
      }
    },
    {
      "cell_type": "code",
      "source": [
        "unstring=\"Muy buenas tardes\"\n",
        "result=unstring.find(\"bue\")\n",
        "print(result)"
      ],
      "metadata": {
        "colab": {
          "base_uri": "https://localhost:8080/"
        },
        "id": "P5W4cCEqxB_0",
        "outputId": "c29d80d8-4244-49ab-96e4-790d41bea986"
      },
      "execution_count": null,
      "outputs": [
        {
          "output_type": "stream",
          "name": "stdout",
          "text": [
            "4\n"
          ]
        }
      ]
    },
    {
      "cell_type": "markdown",
      "source": [
        "\n",
        "2.   Reemplazar=>  mystring.replace\n",
        "(old_substring,new_substring)\n",
        ">Podemos sustituir una cadena con otra que indiquemos, si existe la cadena inicial claro está."
      ],
      "metadata": {
        "id": "avXxeD2QxlB_"
      }
    },
    {
      "cell_type": "code",
      "source": [
        "unstring=\"Muy buenas tardes\"\n",
        "result=unstring.replace(\"buenas\",\"malas\")\n",
        "print(result)"
      ],
      "metadata": {
        "colab": {
          "base_uri": "https://localhost:8080/"
        },
        "id": "KbuD54eGyABj",
        "outputId": "90eada9e-6667-4fa8-d51e-6c3e938df88f"
      },
      "execution_count": null,
      "outputs": [
        {
          "output_type": "stream",
          "name": "stdout",
          "text": [
            "Muy malas tardes\n"
          ]
        }
      ]
    },
    {
      "cell_type": "markdown",
      "source": [
        "\n",
        "\n",
        "3.   Cambiar mayus/minus=> mystring.upper()/mystring.lower()\n",
        "\n"
      ],
      "metadata": {
        "id": "51CkaQfxySYK"
      }
    },
    {
      "cell_type": "code",
      "source": [
        "unstring=\"Muy buenas tardes\"\n",
        "todoMayus=unstring.upper()\n",
        "print(todoMayus)\n",
        "\n",
        "unstring=\"Muy buenas tardes\"\n",
        "todoMinus=unstring.lower()\n",
        "print(todoMinus)"
      ],
      "metadata": {
        "colab": {
          "base_uri": "https://localhost:8080/"
        },
        "id": "4xp0AS8Cx2us",
        "outputId": "4f7e8ad2-2bcb-4e10-c4bd-408493a88398"
      },
      "execution_count": null,
      "outputs": [
        {
          "output_type": "stream",
          "name": "stdout",
          "text": [
            "MUY BUENAS TARDES\n",
            "muy buenas tardes\n"
          ]
        }
      ]
    },
    {
      "cell_type": "markdown",
      "source": [
        "\n",
        "\n",
        "4.   Juntar strings=>newString.join(mystring)\n",
        ">Este método no une los strings uno detrás de otro, sino que va alternando, puede servir para separar palabras con comas\n",
        "\n",
        "\n"
      ],
      "metadata": {
        "id": "o-Gx8YJPy2YC"
      }
    },
    {
      "cell_type": "code",
      "source": [
        "mystring=\"Buenas tardes\"\n",
        "buenString=\",\"\n",
        "print(buenString.join(mystring))"
      ],
      "metadata": {
        "colab": {
          "base_uri": "https://localhost:8080/"
        },
        "id": "lEk5PUKCzLP0",
        "outputId": "26040385-fa41-4242-a584-75a4bf464ec7"
      },
      "execution_count": null,
      "outputs": [
        {
          "output_type": "stream",
          "name": "stdout",
          "text": [
            "B,u,e,n,a,s, ,t,a,r,d,e,s\n"
          ]
        }
      ]
    },
    {
      "cell_type": "markdown",
      "source": [
        "\n",
        "\n",
        "5.   Formateo de strings=>string.format()\n",
        ">Con este método sustituimos valores indicados para ello dentro de una cadena como placeholders.\n",
        "\n",
        "\n"
      ],
      "metadata": {
        "id": "XWiDeUnwz2Cp"
      }
    },
    {
      "cell_type": "code",
      "source": [
        "string1=\"Hoy es {dia} de {mes}.\".format(dia=12, mes=\"octubre\")\n",
        "string2=\"Mañana será {0} de {1}\".format(12, \"octubre\")\n",
        "\n",
        "print(string1)\n",
        "print(string2)"
      ],
      "metadata": {
        "colab": {
          "base_uri": "https://localhost:8080/"
        },
        "id": "ipfZo6U30GrR",
        "outputId": "46ce38e1-8b4b-48a0-a46e-fc8b32541b24"
      },
      "execution_count": null,
      "outputs": [
        {
          "output_type": "stream",
          "name": "stdout",
          "text": [
            "Hoy es 12 de octubre.\n",
            "Mañana será 12 de octubre\n"
          ]
        }
      ]
    },
    {
      "cell_type": "markdown",
      "source": [
        "*3.Conversiones de tipos*\n",
        "\n",
        "\n",
        "1.   int()=> convertir a entero\n",
        "\n",
        "\n",
        "    print(int(\"12\")*10)\n",
        "    print(int(20.5))\n",
        "\n",
        "2.   ord()=> convertir a Unicode\n",
        "\n",
        "\n",
        "    print(ord('a'))\n",
        "    print(ord('0'))\n",
        "\n",
        "3.   float()=>convertir a número con coma flotante\n",
        "\n",
        "\n",
        "    print(float(24))\n",
        "    print(float('24.5'))\n",
        "    print(float(True))\n",
        "\n",
        "4.   str()=>convertir a cadena\n",
        "\n",
        "\n",
        "    print(str(12) + '.345')\n",
        "    print(str(False))\n",
        "    print(str(12.345) + ' is a string')\n",
        "\n",
        "5.   bool()=>convertir a booleano\n",
        "\n",
        "\n",
        "    print(bool(10))\n",
        "    print(bool(0.0))\n",
        "    print(bool(\"Hello\"))\n",
        "    print(bool(\"\"))\n",
        "\n",
        "\n",
        "\n"
      ],
      "metadata": {
        "id": "QqOhqa080xrw"
      }
    },
    {
      "cell_type": "markdown",
      "source": [],
      "metadata": {
        "id": "Rx5niANl10CC"
      }
    },
    {
      "cell_type": "markdown",
      "source": [
        "*4.Pedir por pantalla*\n",
        ">Para ello se usará input()"
      ],
      "metadata": {
        "id": "74IRqffJ11-Z"
      }
    },
    {
      "cell_type": "code",
      "source": [
        "dia=input(\"Que día es hoy? \")\n",
        "print(\"Hoy es \", dia)"
      ],
      "metadata": {
        "colab": {
          "base_uri": "https://localhost:8080/"
        },
        "id": "nTUeKynZ1_1A",
        "outputId": "3097e60e-a897-476c-c818-4ca110e44115"
      },
      "execution_count": null,
      "outputs": [
        {
          "output_type": "stream",
          "name": "stdout",
          "text": [
            "Que día es hoy? Martes\n",
            "Hoy es  Martes\n"
          ]
        }
      ]
    },
    {
      "cell_type": "markdown",
      "source": [
        "*5.Funciones Lambda*\n",
        "\n",
        ">Se trata de una sintaxis única de Python, sirve para definir funciones en una sola línea y para las recursiones (llamar a otra función dentro de otra función)"
      ],
      "metadata": {
        "id": "TQ_OJr1V2YiQ"
      }
    },
    {
      "cell_type": "code",
      "source": [
        "funcion=lambda num: \"High\" if num> 50 else \"Low\"\n",
        "\n",
        "print(funcion(39))"
      ],
      "metadata": {
        "colab": {
          "base_uri": "https://localhost:8080/"
        },
        "id": "N95b8l9T24Ao",
        "outputId": "b482735f-71a3-4719-ce42-751c6a6226c3"
      },
      "execution_count": null,
      "outputs": [
        {
          "output_type": "stream",
          "name": "stdout",
          "text": [
            "Low\n"
          ]
        }
      ]
    },
    {
      "cell_type": "markdown",
      "source": [
        "*6.Funciones como argumentos*\n",
        ">Podemos usar las propias funciones que creemos como argumentos, e incluso en su propia creación (es un poco lioso)"
      ],
      "metadata": {
        "id": "XQm2WIcQ3jMR"
      }
    },
    {
      "cell_type": "code",
      "source": [
        "def calculator(operation, n1, n2):\n",
        "    return operation(n1, n2)  # Using the 'operation' argument as a function\n",
        "\n",
        "\n",
        "# 10 and 20 are the arguments.\n",
        "result = calculator(lambda n1, n2: n1 * n2, 10, 20)\n",
        "# The lambda multiplies them.\n",
        "print(result)\n",
        "\n",
        "print(calculator(lambda n1, n2: n1 + n2, 10, 20))\n"
      ],
      "metadata": {
        "colab": {
          "base_uri": "https://localhost:8080/"
        },
        "id": "80ptwKX737Vx",
        "outputId": "152bdb44-5ace-473a-eda0-b6dcb144e9c3"
      },
      "execution_count": null,
      "outputs": [
        {
          "output_type": "stream",
          "name": "stdout",
          "text": [
            "200\n",
            "30\n"
          ]
        }
      ]
    },
    {
      "cell_type": "markdown",
      "source": [
        "*7.Recursión de funciones*\n"
      ],
      "metadata": {
        "id": "U7FL9Drz4KG4"
      }
    },
    {
      "cell_type": "code",
      "source": [
        "def factorial(n):\n",
        "    if n==0 or n==1 :\n",
        "        return 1\n",
        "    elif n<0 :\n",
        "        return -1\n",
        "    else:\n",
        "       return n*factorial(n-1)\n",
        "\n",
        "imp=factorial(5)\n",
        "print(imp)"
      ],
      "metadata": {
        "colab": {
          "base_uri": "https://localhost:8080/"
        },
        "id": "3LEGwXIX4PRf",
        "outputId": "1071d415-3aca-4df7-fc2f-52ef7c036ccc"
      },
      "execution_count": null,
      "outputs": [
        {
          "output_type": "stream",
          "name": "stdout",
          "text": [
            "120\n"
          ]
        }
      ]
    },
    {
      "cell_type": "markdown",
      "source": [
        "# **Bucles**"
      ],
      "metadata": {
        "id": "-sohJKWo4pAg"
      }
    },
    {
      "cell_type": "markdown",
      "source": [
        "*1.El bucle for*\n",
        "\n",
        ">Para crear un rango para nuestra variable i, podemos usar la orden range(start,end,step)\n",
        "\n",
        "\n",
        "    for i in range(1,20)\n",
        "\n",
        ">Si queremos usar listas podemos usar la función range e ir accediendo a todos los índices\n",
        "\n",
        "\n",
        "    for i in range(1, len(long_lista)):\n",
        "    long_lista[i]=long_lista[i] * 2\n",
        "\n",
        ">También podemos ingresar solo el nombre de la lista e irá cogiendo cada valor\n",
        "\n",
        "\n",
        "    lista_nums=[1,23,24,34,12,2]\n",
        "    for num in lista_nums:\n",
        "    if num>18\n",
        "    mayoresEdad+=1\n",
        "\n",
        ">Para ejercicios de comparación y coordenadas, podemos anidar dos bucles for, importante decir que el bucle anidado terminará su ejecución por cada iteración del primer bucle\n",
        "\n",
        "\n",
        "    for n1 in num_list:\n",
        "    for n2 in num_list: \n",
        "    if(n1 != n2):\n",
        "    if(n1 + n2 == n):\n",
        "    print(n1, n2)\n",
        "\n",
        ">Las palabras break y continue nos harán falta para algunos casos. La primera termina el bucle y pasa a la siguiente orden mientras que continue salta a la siguiente iteración del bucle.\n",
        "\n",
        "\n",
        ">La palabra pass nos permite dejar placeholders para posterior rellenado de código sin que el programa detecte fallos al compilar."
      ],
      "metadata": {
        "id": "c_iRUwMD4tA4"
      }
    },
    {
      "cell_type": "markdown",
      "source": [
        "*2.El bucle while*\n",
        ">Este bucle se mantiene en ejecución hasta que la condición no sea verdadera\n",
        "\n",
        "\n",
        "    while num > 10:\n",
        "    print(num)\n",
        "    num-=1\n",
        "\n"
      ],
      "metadata": {
        "id": "TuzLf3rAExbG"
      }
    },
    {
      "cell_type": "markdown",
      "source": [
        "ALGUNOS EJEMPLOS"
      ],
      "metadata": {
        "id": "Hn2AzCBGFT-h"
      }
    },
    {
      "cell_type": "code",
      "source": [
        "def check_balance(brackets):  # The argument is a string\n",
        "    num=0\n",
        "    for i in brackets:\n",
        "        if i == \"[\":\n",
        "            num+=1\n",
        "        elif i == \"]\":\n",
        "            num-=1\n",
        "        else :\n",
        "            if num < 0:\n",
        "                break\n",
        "    return num == 0"
      ],
      "metadata": {
        "id": "XBChji0BFWIh"
      },
      "execution_count": null,
      "outputs": []
    },
    {
      "cell_type": "code",
      "source": [
        "def check_sum(num_list):\n",
        "    for i in num_list :\n",
        "        for j in num_list :\n",
        "            if i+j == 0 :\n",
        "                return True\n",
        "    return False"
      ],
      "metadata": {
        "id": "gQGGbWiJFdho"
      },
      "execution_count": null,
      "outputs": []
    },
    {
      "cell_type": "markdown",
      "source": [
        "# **Estructuras de datos**"
      ],
      "metadata": {
        "id": "FVEadMJpckrh"
      }
    },
    {
      "cell_type": "markdown",
      "source": [
        "*1.Listas*\n",
        ">Las listas son mutables, por lo que podremos modificarlas y añadir nuevos elementos a ellas.\n",
        "\n",
        "\n",
        "    jon_snow = [\"Jon Snow\", \"Winterfell\", 30]\n",
        "    print(jon_snow[2])\n",
        "    jon_snow[2] += 3\n",
        "    print(jon_snow[2])\n",
        "\n",
        ">Se puede convertir un rango de numeros en una lista\n",
        "\n",
        "\n",
        "    num_seq = range(0, 10)  \n",
        "    num_list = list(num_seq)  \n",
        "    print(num_list)\n",
        "\n",
        ">Se pueden introducir listas dentro de listas y acceder a ellas\n",
        "\n",
        "\n",
        "    world_cup_winners = [[2006, \"Italy\"], [2010, \"Spain\"],\n",
        "                     [2014, \"Germany\"], [2018, \"France\"]]\n",
        "    print(world_cup_winners[1])\n",
        "    print(world_cup_winners[1][1])'Spain'\n",
        "    print(world_cup_winners[1][1][0]) \n",
        "\n",
        ">Para juntar listas basta con sumarlas o usar extend()\n",
        "\n",
        "    part_A = [1, 2, 3, 4, 5]\n",
        "    part_B = [6, 7, 8, 9, 10]\n",
        "    part_A.extend(part_B)\n",
        "    print(part_A)\n",
        "\n",
        ">Para añadir elementos al final de una lista usamos append()=> lista.append(nuevoElemento)\n",
        "\n",
        "    num_list = []  \n",
        "    num_list.append(1)\n",
        "    num_list.append(2)\n",
        "    num_list.append(3)\n",
        "    print(num_list)\n",
        "\n",
        ">Para añadirlos en el índice que queramos usamos insert()\n",
        "\n",
        "    num_list = [1, 2, 3, 5, 6]\n",
        "    num_list.insert(3, 4) \n",
        "    print(num_list)\n",
        "\n",
        ">Borrar el último elemento es tan fácil como usar el comando pop(), enseñará el elemento borrado antes de hacerlo, así que podremos guardarlo.\n",
        "\n",
        "    houses = [\"Gryffindor\", \"Hufflepuff\", \"Ravenclaw\", \"Slytherin\"]\n",
        "    last_house = houses.pop()\n",
        "    print(last_house)\n",
        "\n",
        ">Si es un valor específico, usaremos remove()\n",
        "\n",
        "    houses = [\"Gryffindor\", \"Hufflepuff\", \"Ravenclaw\", \"Slytherin\"]\n",
        "    print(houses)\n",
        "    houses.remove(\"Ravenclaw\")\n",
        "    print(houses)\n",
        "\n",
        ">Para buscar el índice de un elemento usaremos lista.index(nombreElemento)\n",
        "\n",
        ">Para ordenar los valores será sort(), el cuál ordenará alfabéticamente y/o por números."
      ],
      "metadata": {
        "id": "KMhWVAhccrnY"
      }
    },
    {
      "cell_type": "markdown",
      "source": [
        "*2.Tuplas*\n",
        "\n",
        ">Para crear una tupla, tan fácil como tupla=(1,2,3). Estas se podrán unir con otras mediante el operador +.\n",
        "\n",
        ">Para anidar tuplas se juntarán en una nueva\n",
        "\n",
        "    hero1 = (\"Batman\", \"Bruce Wayne\")\n",
        "    hero2 = (\"Wonder Woman\", \"Diana Prince\")\n",
        "    awesome_team = (hero1, hero2)\n",
        "    print(awesome_team)\n",
        "\n",
        ">Al igual que con las listas, se puede buscar el índice de un valor con index(nombre), pero para buscar se hará con un in.\n",
        "\n",
        "    cities = (\"London\", \"Paris\", \"Los Angeles\", \"Tokyo\")\n",
        "    print(\"Moscow\" in cities)\n",
        "\n",
        ">Hay que aclarar que, al contrario que las listas, las tuplas son ininmutables(no se pueden modificar)"
      ],
      "metadata": {
        "id": "ufOwfh2WeCAG"
      }
    },
    {
      "cell_type": "markdown",
      "source": [
        "*3.Diccionarios*\n",
        ">En los diccionarios se almacenan parejas llave:valor, que van de dos en dos.\n",
        "\n",
        "    phone_book = {\"Batman\": 468426,\"Cersei\": 237734,Ghostbusters\": 44678}\n",
        "\n",
        ">dict() se puede usar para crear un diccionario, algo así como un constructor de diccionarios.\n",
        "\n",
        "    empty_dict = dict()\n",
        "    print(empty_dict)\n",
        "\n",
        "    phone_book = dict(Batman=468426, Cersei=237734, Ghostbusters=44678)\n",
        "\n",
        "\n",
        ">Para acceder a valores usaremos diccionario.get(key)\n",
        "\n",
        "    print(phone_book.get(\"Ghostbusters\"))\n",
        "\n",
        ">Para añadir entradas será como añadir un nuevo valor a un índice nuevo en un string(Y si ponemos el nombre de una llave ya presente entre [ ], su valor se actualizará).\n",
        "\n",
        "    phone_book[\"Godzilla\"] = 46394 \n",
        "\n",
        "\n",
        ">Para borrar se usará del dicc[\"llave\"], también sirven pop() y popitem()\n",
        "\n",
        "    del phone_book[\"Batman\"]\n",
        "\n",
        ">Para saber cuanto abarca el diccionario, su longitud, se usará len()\n",
        "\n",
        "    len(phone_book)\n",
        "\n",
        ">Se podrá buscar si existe una llave con in.\n",
        "\n",
        ">Para copiar un diccionario en otro se usará update()\n",
        "\n",
        "    second_phone_book = {\"Catwoman\": 67423, \"Jaime\": 237734, \"Godzilla\": 37623}\n",
        "    phone_book.update(second_phone_book)\n",
        "    print(phone_book)"
      ],
      "metadata": {
        "id": "XiudW8Bmgoei"
      }
    },
    {
      "cell_type": "markdown",
      "source": [
        "*4.Sets*\n",
        ">Para crear un set hay que hacerlo entre { }, pero esta vez no va con parejas(o con set()).\n",
        "\n",
        "\n",
        "    random_set = {\"Educative\", 1408, 3.142,(True, False)}\n",
        "\n",
        ">Para añadir elementos podemos usar add() y update()\n",
        "\n",
        "\n",
        "    empty_set.add(1)\n",
        "    print(empty_set)\n",
        "\n",
        "    empty_set.update([2, 3, 4, 5, 6])\n",
        "    print(empty_set)\n",
        "\n",
        ">Borrar elementos será con discard() o remove()\n",
        "\n",
        "    random_set.discard(1408)\n",
        "    print(random_set)\n",
        "\n",
        "    random_set.remove((True, False))\n",
        "    print(random_set)\n",
        "\n",
        ">OPERACIONES ESPECÍFICAS DE SET\n",
        "\n",
        "\n",
        "*   Union=> print(set_A | set_B) O print(set_A.union(set_B))\n",
        "> Junta todos los valores de ambos sets\n",
        "*   Intersección=> print(set_A & set_B) O print(set_A.intersection(set_B))\n",
        ">Solo deja los valores comunes a ambos sets\n",
        "*   Diferencia=> print(set_A - set_B) O print(set_A.difference(set_B))\n",
        ">Se queda con el primer set pero borra los valores en los que coincida con el segundo."
      ],
      "metadata": {
        "id": "jyxqouZbijY0"
      }
    },
    {
      "cell_type": "markdown",
      "source": [
        "*5.Conversiones de estructuras de datos*\n",
        ">Convertir a lista\n",
        "\n",
        "    tar_wars_list = list(star_wars_tup) \n",
        "    print(star_wars_list)\n",
        "\n",
        "    star_wars_list = list(star_wars_set) \n",
        "    print(star_wars_list)\n",
        "\n",
        "    star_wars_list = list(star_wars_dict) \n",
        "    print(star_wars_list)\n",
        "\n",
        ">Convertir a tupla\n",
        "\n",
        "    star_wars_tup = tuple(star_wars_list) \n",
        "    print(star_wars_tup)\n",
        "\n",
        "    star_wars_tup = tuple(star_wars_set) \n",
        "    print(star_wars_tup)\n",
        "\n",
        "    star_wars_tup = tuple(star_wars_dict) \n",
        "    print(star_wars_tup)\n",
        "\n",
        ">Convertir a set\n",
        "\n",
        "    star_wars_set = set(star_wars_list) \n",
        "    print(star_wars_set)\n",
        "\n",
        "    star_wars_set = set(star_wars_tup) \n",
        "    print(star_wars_set)\n",
        "\n",
        "    star_wars_set = set(star_wars_dict) \n",
        "    print(star_wars_set)\n",
        "\n",
        ">Convertir a diccionario\n",
        "\n",
        "    star_wars_dict = dict(star_wars_list)\n",
        "    print(star_wars_dict)\n",
        "\n",
        "    star_wars_dict = dict(star_wars_tup)\n",
        "    print(star_wars_dict)\n",
        "\n",
        "    star_wars_dict = dict(star_wars_set)\n",
        "    print(star_wars_dict)"
      ],
      "metadata": {
        "id": "qBS3NqDSkRjH"
      }
    }
  ]
}