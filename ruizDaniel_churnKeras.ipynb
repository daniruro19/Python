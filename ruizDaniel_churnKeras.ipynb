{
  "nbformat": 4,
  "nbformat_minor": 0,
  "metadata": {
    "colab": {
      "provenance": [],
      "authorship_tag": "ABX9TyM7U3JWYrEZ+4DPHtA1X/LG",
      "include_colab_link": true
    },
    "kernelspec": {
      "name": "python3",
      "display_name": "Python 3"
    },
    "language_info": {
      "name": "python"
    }
  },
  "cells": [
    {
      "cell_type": "markdown",
      "metadata": {
        "id": "view-in-github",
        "colab_type": "text"
      },
      "source": [
        "<a href=\"https://colab.research.google.com/github/daniruro19/Python/blob/main/ruizDaniel_churnKeras.ipynb\" target=\"_parent\"><img src=\"https://colab.research.google.com/assets/colab-badge.svg\" alt=\"Open In Colab\"/></a>"
      ]
    },
    {
      "cell_type": "code",
      "execution_count": null,
      "metadata": {
        "id": "C4ZaIaaNMxjO"
      },
      "outputs": [],
      "source": [
        "import pandas as pd"
      ]
    },
    {
      "cell_type": "markdown",
      "source": [
        "# Preparación de los datos"
      ],
      "metadata": {
        "id": "hgvywRGwNYPD"
      }
    },
    {
      "cell_type": "code",
      "source": [
        "df = pd.read_csv('churn.csv')\n",
        "print(len(df))\n",
        "df.head().T"
      ],
      "metadata": {
        "id": "3QFdmreXNaJ8"
      },
      "execution_count": null,
      "outputs": []
    },
    {
      "cell_type": "code",
      "source": [
        "df.dtypes"
      ],
      "metadata": {
        "id": "3CI2I0lKNipZ"
      },
      "execution_count": null,
      "outputs": []
    },
    {
      "cell_type": "code",
      "source": [
        "total_charges = pd.to_numeric(df.TotalCharges, errors='coerce')\n",
        "df.TotalCharges = pd.to_numeric(df.TotalCharges, errors='coerce')\n",
        "df.TotalCharges = df.TotalCharges.fillna(0)\n",
        "df[total_charges.isnull()][['customerID', 'TotalCharges']]"
      ],
      "metadata": {
        "id": "0Bz7kRv9Nkar"
      },
      "execution_count": null,
      "outputs": []
    },
    {
      "cell_type": "code",
      "source": [
        "replacer = lambda str: str.lower().str.replace(' ', '_')\n",
        "df.columns = replacer(df.columns.str)\n",
        "for col in list(df.dtypes[df.dtypes == 'object'].index):\n",
        "    df[col] = replacer(df[col].str)\n",
        "df.head().T"
      ],
      "metadata": {
        "id": "3JGEU9RPNlm6"
      },
      "execution_count": null,
      "outputs": []
    },
    {
      "cell_type": "code",
      "source": [
        "df.churn = (df.churn == 'yes').astype(int)\n",
        "df.churn.head()"
      ],
      "metadata": {
        "id": "py8X2DpQNp6C"
      },
      "execution_count": null,
      "outputs": []
    },
    {
      "cell_type": "code",
      "source": [
        "categorical = ['gender', 'seniorcitizen', 'partner', 'dependents',\n",
        "                'phoneservice', 'multiplelines', 'internetservice',\n",
        "                'onlinesecurity', 'onlinebackup', 'deviceprotection',\n",
        "                'techsupport', 'streamingtv', 'streamingmovies',\n",
        "                'contract', 'paperlessbilling', 'paymentmethod']\n",
        "numerical = ['tenure', 'monthlycharges', 'totalcharges']\n",
        "df[categorical].nunique()"
      ],
      "metadata": {
        "id": "N9qP1hb2OFNz"
      },
      "execution_count": null,
      "outputs": []
    },
    {
      "cell_type": "code",
      "source": [
        "from sklearn.model_selection import train_test_split\n",
        "df_train_full, df_test = train_test_split(df, test_size=0.2, random_state=1)\n",
        "\n",
        "df_train, df_val = train_test_split(df_train_full, test_size=0.33, random_state=1)\n",
        "y_train = df_train.churn.values\n",
        "y_val = df_val.churn.values\n",
        "\n",
        "del df_train['churn']\n",
        "del df_val['churn']\n",
        "\n",
        "df_train.head().T"
      ],
      "metadata": {
        "id": "Gh276aqXOG7L"
      },
      "execution_count": null,
      "outputs": []
    },
    {
      "cell_type": "markdown",
      "source": [
        "# Análisis de la importancia de las propiedades"
      ],
      "metadata": {
        "id": "P_lPPix-OOwr"
      }
    },
    {
      "cell_type": "code",
      "source": [
        "global_mean = df_train_full.churn.mean()\n",
        "round(global_mean, 3)"
      ],
      "metadata": {
        "colab": {
          "base_uri": "https://localhost:8080/"
        },
        "id": "FJ83LivMOQKT",
        "outputId": "071b7f7e-fbfc-4548-9cfe-418806ba9392"
      },
      "execution_count": null,
      "outputs": [
        {
          "output_type": "execute_result",
          "data": {
            "text/plain": [
              "0.27"
            ]
          },
          "metadata": {},
          "execution_count": 10
        }
      ]
    },
    {
      "cell_type": "code",
      "source": [
        "female_mean = df_train_full[df_train_full.gender == 'female'].churn.mean()\n",
        "print(round(female_mean, 3))\n",
        "male_mean = df_train_full[df_train_full.gender == 'male'].churn.mean()\n",
        "print(round(male_mean, 3))"
      ],
      "metadata": {
        "colab": {
          "base_uri": "https://localhost:8080/"
        },
        "id": "ddlyHnTCOSwJ",
        "outputId": "c7244df8-ab94-408e-b4ff-9c23f830ace1"
      },
      "execution_count": null,
      "outputs": [
        {
          "output_type": "stream",
          "name": "stdout",
          "text": [
            "0.277\n",
            "0.263\n"
          ]
        }
      ]
    },
    {
      "cell_type": "code",
      "source": [
        "partner_yes = df_train_full[df_train_full.partner == 'yes'].churn.mean()\n",
        "print(round(partner_yes, 3))\n",
        "partner_no = df_train_full[df_train_full.partner == 'no'].churn.mean()\n",
        "print(round(partner_no, 3))"
      ],
      "metadata": {
        "colab": {
          "base_uri": "https://localhost:8080/"
        },
        "id": "5yXO00GTOUkp",
        "outputId": "14e799ab-7321-415a-ec24-d582155ef0c2"
      },
      "execution_count": null,
      "outputs": [
        {
          "output_type": "stream",
          "name": "stdout",
          "text": [
            "0.205\n",
            "0.33\n"
          ]
        }
      ]
    },
    {
      "cell_type": "code",
      "source": [
        "from sklearn.metrics import mutual_info_score\n",
        "\n",
        "calculate_mi = lambda col: mutual_info_score(col, df_train_full.churn)\n",
        "\n",
        "df_mi = df_train_full[categorical].apply(calculate_mi)\n",
        "df_mi = df_mi.sort_values(ascending=False).to_frame(name='MI')\n",
        "df_mi"
      ],
      "metadata": {
        "id": "samjbcj0OWmb"
      },
      "execution_count": null,
      "outputs": []
    },
    {
      "cell_type": "code",
      "source": [
        "print(df_train_full[numerical].corrwith(df_train_full.churn))\n",
        "\n",
        "print(round(df_train_full[df_train_full.tenure <= 2].churn.mean(), 3))\n",
        "print(round(df_train_full[(df_train_full.tenure > 3) & \n",
        "                          (df_train_full.tenure <= 12)].churn.mean(), 3))\n",
        "print(round(df_train_full[df_train_full.tenure > 12].churn.mean(), 3))\n",
        "\n",
        "print(round(df_train_full[df_train_full.monthlycharges < 20].churn.mean(), 3))\n",
        "print(round(df_train_full[(df_train_full.monthlycharges > 21) & \n",
        "                          (df_train_full.monthlycharges <= 50)].churn.mean(), 3))\n",
        "print(round(df_train_full[df_train_full.monthlycharges > 50].churn.mean(), 3))"
      ],
      "metadata": {
        "colab": {
          "base_uri": "https://localhost:8080/"
        },
        "id": "BUB2X33dOZny",
        "outputId": "d132fc0a-1170-49e4-efdc-936e40730c1f"
      },
      "execution_count": null,
      "outputs": [
        {
          "output_type": "stream",
          "name": "stdout",
          "text": [
            "tenure           -0.351885\n",
            "monthlycharges    0.196805\n",
            "totalcharges     -0.196353\n",
            "dtype: float64\n",
            "0.595\n",
            "0.391\n",
            "0.176\n",
            "0.088\n",
            "0.223\n",
            "0.325\n"
          ]
        }
      ]
    },
    {
      "cell_type": "markdown",
      "source": [
        "# Ingeniería de propiedades"
      ],
      "metadata": {
        "id": "qzzkVs2COef8"
      }
    },
    {
      "cell_type": "code",
      "source": [
        "train_dict = df_train[categorical + numerical].to_dict(orient='records')\n",
        "dict(sorted(train_dict[0].items()))"
      ],
      "metadata": {
        "id": "7Gf4AFKnOk2N"
      },
      "execution_count": null,
      "outputs": []
    },
    {
      "cell_type": "code",
      "source": [
        "from sklearn.feature_extraction import DictVectorizer\n",
        "\n",
        "dv = DictVectorizer(sparse=False)\n",
        "dv.fit(train_dict)"
      ],
      "metadata": {
        "colab": {
          "base_uri": "https://localhost:8080/"
        },
        "id": "iY7rG-86Om_6",
        "outputId": "fb2eba9e-dedc-486e-b812-c6b247a9edaf"
      },
      "execution_count": null,
      "outputs": [
        {
          "output_type": "execute_result",
          "data": {
            "text/plain": [
              "DictVectorizer(sparse=False)"
            ]
          },
          "metadata": {},
          "execution_count": 16
        }
      ]
    },
    {
      "cell_type": "code",
      "source": [
        "X_train = dv.transform(train_dict)\n",
        "X_train[0]"
      ],
      "metadata": {
        "colab": {
          "base_uri": "https://localhost:8080/"
        },
        "id": "qQOELXv7OpGC",
        "outputId": "478126dc-efd5-4990-9423-90808955dddf"
      },
      "execution_count": null,
      "outputs": [
        {
          "output_type": "execute_result",
          "data": {
            "text/plain": [
              "array([  1.  ,   0.  ,   0.  ,   1.  ,   0.  ,   1.  ,   0.  ,   0.  ,\n",
              "         0.  ,   1.  ,   0.  ,   1.  ,   0.  ,  85.55,   1.  ,   0.  ,\n",
              "         0.  ,   0.  ,   0.  ,   1.  ,   1.  ,   0.  ,   0.  ,   0.  ,\n",
              "         1.  ,   1.  ,   0.  ,   0.  ,   0.  ,   1.  ,   0.  ,   0.  ,\n",
              "         1.  ,   1.  ,   0.  ,   0.  ,   1.  ,   1.  ,   0.  ,   0.  ,\n",
              "         1.  ,   0.  ,   0.  ,   5.  , 408.5 ])"
            ]
          },
          "metadata": {},
          "execution_count": 17
        }
      ]
    },
    {
      "cell_type": "code",
      "source": [
        "dv.get_feature_names_out()"
      ],
      "metadata": {
        "id": "bQgexFA0Oqog"
      },
      "execution_count": null,
      "outputs": []
    },
    {
      "cell_type": "markdown",
      "source": [
        "# Entrenamiento del modelo"
      ],
      "metadata": {
        "id": "4ihGzVGBOt1J"
      }
    },
    {
      "cell_type": "code",
      "source": [
        "from sklearn.linear_model import LogisticRegression\n",
        "\n",
        "model = LogisticRegression(solver='liblinear')\n",
        "model.fit(X_train, y_train)"
      ],
      "metadata": {
        "colab": {
          "base_uri": "https://localhost:8080/"
        },
        "id": "miy5gIRMOusz",
        "outputId": "ea10551b-ddef-4c26-8aeb-ee91075ab7e0"
      },
      "execution_count": null,
      "outputs": [
        {
          "output_type": "execute_result",
          "data": {
            "text/plain": [
              "LogisticRegression(solver='liblinear')"
            ]
          },
          "metadata": {},
          "execution_count": 19
        }
      ]
    },
    {
      "cell_type": "code",
      "source": [
        "val_dict = df_val[categorical + numerical].to_dict(orient='records')\n",
        "X_val = dv.transform(val_dict)\n",
        "y_pred = model.predict_proba(X_val)\n",
        "y_pred"
      ],
      "metadata": {
        "colab": {
          "base_uri": "https://localhost:8080/"
        },
        "id": "NBXhQ767OxqJ",
        "outputId": "b7cd640e-4c37-4012-b3fb-5ea3331f7079"
      },
      "execution_count": null,
      "outputs": [
        {
          "output_type": "execute_result",
          "data": {
            "text/plain": [
              "array([[0.99142714, 0.00857286],\n",
              "       [0.79028712, 0.20971288],\n",
              "       [0.78364454, 0.21635546],\n",
              "       ...,\n",
              "       [0.35664296, 0.64335704],\n",
              "       [0.81055916, 0.18944084],\n",
              "       [0.87261929, 0.12738071]])"
            ]
          },
          "metadata": {},
          "execution_count": 20
        }
      ]
    },
    {
      "cell_type": "code",
      "source": [
        "y_pred = model.predict_proba(X_val)[:, 1]\n",
        "y_pred"
      ],
      "metadata": {
        "colab": {
          "base_uri": "https://localhost:8080/"
        },
        "id": "LT4Z8dNiOyba",
        "outputId": "b5b0e603-a700-4ad6-f7cc-22db994d79ba"
      },
      "execution_count": null,
      "outputs": [
        {
          "output_type": "execute_result",
          "data": {
            "text/plain": [
              "array([0.00857286, 0.20971288, 0.21635546, ..., 0.64335704, 0.18944084,\n",
              "       0.12738071])"
            ]
          },
          "metadata": {},
          "execution_count": 21
        }
      ]
    },
    {
      "cell_type": "code",
      "source": [
        "churn = y_pred >= 0.5\n",
        "churn"
      ],
      "metadata": {
        "colab": {
          "base_uri": "https://localhost:8080/"
        },
        "id": "H9XQz-hXO0GZ",
        "outputId": "1a582292-3fe2-4499-f465-d8e924065e9b"
      },
      "execution_count": null,
      "outputs": [
        {
          "output_type": "execute_result",
          "data": {
            "text/plain": [
              "array([False, False, False, ...,  True, False, False])"
            ]
          },
          "metadata": {},
          "execution_count": 22
        }
      ]
    },
    {
      "cell_type": "code",
      "source": [
        "# precisión del modelo con los datos de entrenamiento\n",
        "round((y_val == churn).mean(), 3) "
      ],
      "metadata": {
        "colab": {
          "base_uri": "https://localhost:8080/"
        },
        "id": "h6c6IBgUO1O7",
        "outputId": "f9b9dbfb-586a-4240-d0d6-8c3f28f5008d"
      },
      "execution_count": null,
      "outputs": [
        {
          "output_type": "execute_result",
          "data": {
            "text/plain": [
              "0.805"
            ]
          },
          "metadata": {},
          "execution_count": 23
        }
      ]
    },
    {
      "cell_type": "markdown",
      "source": [
        "# Modelo"
      ],
      "metadata": {
        "id": "NlLrjeCvO2_Z"
      }
    },
    {
      "cell_type": "code",
      "source": [
        "X_val = dv.transform(val_dict)\n",
        "y_pred = model.predict_proba(X_val)\n",
        "y_pred"
      ],
      "metadata": {
        "colab": {
          "base_uri": "https://localhost:8080/"
        },
        "id": "o62WQuj0O5Fy",
        "outputId": "017324b5-0d7d-41d1-ba81-81ec55ac410d"
      },
      "execution_count": null,
      "outputs": [
        {
          "output_type": "execute_result",
          "data": {
            "text/plain": [
              "array([[0.99142714, 0.00857286],\n",
              "       [0.79028712, 0.20971288],\n",
              "       [0.78364454, 0.21635546],\n",
              "       ...,\n",
              "       [0.35664296, 0.64335704],\n",
              "       [0.81055916, 0.18944084],\n",
              "       [0.87261929, 0.12738071]])"
            ]
          },
          "metadata": {},
          "execution_count": 24
        }
      ]
    },
    {
      "cell_type": "markdown",
      "source": [
        "#MODELO CON KERAS Y TENSOR FLOW"
      ],
      "metadata": {
        "id": "2GhuLLofO7eD"
      }
    },
    {
      "cell_type": "code",
      "source": [
        "import pandas as pd\n",
        "from tensorflow.keras.models import Sequential\n",
        "from tensorflow.keras.layers import Dense"
      ],
      "metadata": {
        "id": "3jPeh_WgPJS7"
      },
      "execution_count": 102,
      "outputs": []
    },
    {
      "cell_type": "code",
      "source": [
        "dataset = pd.read_csv('churn.csv')\n",
        "dataset"
      ],
      "metadata": {
        "id": "dm2B8aHWPUua",
        "colab": {
          "base_uri": "https://localhost:8080/",
          "height": 661
        },
        "outputId": "16532eb2-79d2-48b9-911a-77a22a5c586c"
      },
      "execution_count": 103,
      "outputs": [
        {
          "output_type": "execute_result",
          "data": {
            "text/plain": [
              "      customerID  gender  SeniorCitizen Partner Dependents  tenure  \\\n",
              "0     7590-VHVEG  Female              0     Yes         No       1   \n",
              "1     5575-GNVDE    Male              0      No         No      34   \n",
              "2     3668-QPYBK    Male              0      No         No       2   \n",
              "3     7795-CFOCW    Male              0      No         No      45   \n",
              "4     9237-HQITU  Female              0      No         No       2   \n",
              "...          ...     ...            ...     ...        ...     ...   \n",
              "7038  6840-RESVB    Male              0     Yes        Yes      24   \n",
              "7039  2234-XADUH  Female              0     Yes        Yes      72   \n",
              "7040  4801-JZAZL  Female              0     Yes        Yes      11   \n",
              "7041  8361-LTMKD    Male              1     Yes         No       4   \n",
              "7042  3186-AJIEK    Male              0      No         No      66   \n",
              "\n",
              "     PhoneService     MultipleLines InternetService OnlineSecurity  ...  \\\n",
              "0              No  No phone service             DSL             No  ...   \n",
              "1             Yes                No             DSL            Yes  ...   \n",
              "2             Yes                No             DSL            Yes  ...   \n",
              "3              No  No phone service             DSL            Yes  ...   \n",
              "4             Yes                No     Fiber optic             No  ...   \n",
              "...           ...               ...             ...            ...  ...   \n",
              "7038          Yes               Yes             DSL            Yes  ...   \n",
              "7039          Yes               Yes     Fiber optic             No  ...   \n",
              "7040           No  No phone service             DSL            Yes  ...   \n",
              "7041          Yes               Yes     Fiber optic             No  ...   \n",
              "7042          Yes                No     Fiber optic            Yes  ...   \n",
              "\n",
              "     DeviceProtection TechSupport StreamingTV StreamingMovies        Contract  \\\n",
              "0                  No          No          No              No  Month-to-month   \n",
              "1                 Yes          No          No              No        One year   \n",
              "2                  No          No          No              No  Month-to-month   \n",
              "3                 Yes         Yes          No              No        One year   \n",
              "4                  No          No          No              No  Month-to-month   \n",
              "...               ...         ...         ...             ...             ...   \n",
              "7038              Yes         Yes         Yes             Yes        One year   \n",
              "7039              Yes          No         Yes             Yes        One year   \n",
              "7040               No          No          No              No  Month-to-month   \n",
              "7041               No          No          No              No  Month-to-month   \n",
              "7042              Yes         Yes         Yes             Yes        Two year   \n",
              "\n",
              "     PaperlessBilling              PaymentMethod MonthlyCharges  TotalCharges  \\\n",
              "0                 Yes           Electronic check          29.85         29.85   \n",
              "1                  No               Mailed check          56.95        1889.5   \n",
              "2                 Yes               Mailed check          53.85        108.15   \n",
              "3                  No  Bank transfer (automatic)          42.30       1840.75   \n",
              "4                 Yes           Electronic check          70.70        151.65   \n",
              "...               ...                        ...            ...           ...   \n",
              "7038              Yes               Mailed check          84.80        1990.5   \n",
              "7039              Yes    Credit card (automatic)         103.20        7362.9   \n",
              "7040              Yes           Electronic check          29.60        346.45   \n",
              "7041              Yes               Mailed check          74.40         306.6   \n",
              "7042              Yes  Bank transfer (automatic)         105.65        6844.5   \n",
              "\n",
              "     Churn  \n",
              "0       No  \n",
              "1       No  \n",
              "2      Yes  \n",
              "3       No  \n",
              "4      Yes  \n",
              "...    ...  \n",
              "7038    No  \n",
              "7039    No  \n",
              "7040    No  \n",
              "7041   Yes  \n",
              "7042    No  \n",
              "\n",
              "[7043 rows x 21 columns]"
            ],
            "text/html": [
              "\n",
              "  <div id=\"df-8c89e8ac-9097-4531-8aef-eab3fcc99bab\">\n",
              "    <div class=\"colab-df-container\">\n",
              "      <div>\n",
              "<style scoped>\n",
              "    .dataframe tbody tr th:only-of-type {\n",
              "        vertical-align: middle;\n",
              "    }\n",
              "\n",
              "    .dataframe tbody tr th {\n",
              "        vertical-align: top;\n",
              "    }\n",
              "\n",
              "    .dataframe thead th {\n",
              "        text-align: right;\n",
              "    }\n",
              "</style>\n",
              "<table border=\"1\" class=\"dataframe\">\n",
              "  <thead>\n",
              "    <tr style=\"text-align: right;\">\n",
              "      <th></th>\n",
              "      <th>customerID</th>\n",
              "      <th>gender</th>\n",
              "      <th>SeniorCitizen</th>\n",
              "      <th>Partner</th>\n",
              "      <th>Dependents</th>\n",
              "      <th>tenure</th>\n",
              "      <th>PhoneService</th>\n",
              "      <th>MultipleLines</th>\n",
              "      <th>InternetService</th>\n",
              "      <th>OnlineSecurity</th>\n",
              "      <th>...</th>\n",
              "      <th>DeviceProtection</th>\n",
              "      <th>TechSupport</th>\n",
              "      <th>StreamingTV</th>\n",
              "      <th>StreamingMovies</th>\n",
              "      <th>Contract</th>\n",
              "      <th>PaperlessBilling</th>\n",
              "      <th>PaymentMethod</th>\n",
              "      <th>MonthlyCharges</th>\n",
              "      <th>TotalCharges</th>\n",
              "      <th>Churn</th>\n",
              "    </tr>\n",
              "  </thead>\n",
              "  <tbody>\n",
              "    <tr>\n",
              "      <th>0</th>\n",
              "      <td>7590-VHVEG</td>\n",
              "      <td>Female</td>\n",
              "      <td>0</td>\n",
              "      <td>Yes</td>\n",
              "      <td>No</td>\n",
              "      <td>1</td>\n",
              "      <td>No</td>\n",
              "      <td>No phone service</td>\n",
              "      <td>DSL</td>\n",
              "      <td>No</td>\n",
              "      <td>...</td>\n",
              "      <td>No</td>\n",
              "      <td>No</td>\n",
              "      <td>No</td>\n",
              "      <td>No</td>\n",
              "      <td>Month-to-month</td>\n",
              "      <td>Yes</td>\n",
              "      <td>Electronic check</td>\n",
              "      <td>29.85</td>\n",
              "      <td>29.85</td>\n",
              "      <td>No</td>\n",
              "    </tr>\n",
              "    <tr>\n",
              "      <th>1</th>\n",
              "      <td>5575-GNVDE</td>\n",
              "      <td>Male</td>\n",
              "      <td>0</td>\n",
              "      <td>No</td>\n",
              "      <td>No</td>\n",
              "      <td>34</td>\n",
              "      <td>Yes</td>\n",
              "      <td>No</td>\n",
              "      <td>DSL</td>\n",
              "      <td>Yes</td>\n",
              "      <td>...</td>\n",
              "      <td>Yes</td>\n",
              "      <td>No</td>\n",
              "      <td>No</td>\n",
              "      <td>No</td>\n",
              "      <td>One year</td>\n",
              "      <td>No</td>\n",
              "      <td>Mailed check</td>\n",
              "      <td>56.95</td>\n",
              "      <td>1889.5</td>\n",
              "      <td>No</td>\n",
              "    </tr>\n",
              "    <tr>\n",
              "      <th>2</th>\n",
              "      <td>3668-QPYBK</td>\n",
              "      <td>Male</td>\n",
              "      <td>0</td>\n",
              "      <td>No</td>\n",
              "      <td>No</td>\n",
              "      <td>2</td>\n",
              "      <td>Yes</td>\n",
              "      <td>No</td>\n",
              "      <td>DSL</td>\n",
              "      <td>Yes</td>\n",
              "      <td>...</td>\n",
              "      <td>No</td>\n",
              "      <td>No</td>\n",
              "      <td>No</td>\n",
              "      <td>No</td>\n",
              "      <td>Month-to-month</td>\n",
              "      <td>Yes</td>\n",
              "      <td>Mailed check</td>\n",
              "      <td>53.85</td>\n",
              "      <td>108.15</td>\n",
              "      <td>Yes</td>\n",
              "    </tr>\n",
              "    <tr>\n",
              "      <th>3</th>\n",
              "      <td>7795-CFOCW</td>\n",
              "      <td>Male</td>\n",
              "      <td>0</td>\n",
              "      <td>No</td>\n",
              "      <td>No</td>\n",
              "      <td>45</td>\n",
              "      <td>No</td>\n",
              "      <td>No phone service</td>\n",
              "      <td>DSL</td>\n",
              "      <td>Yes</td>\n",
              "      <td>...</td>\n",
              "      <td>Yes</td>\n",
              "      <td>Yes</td>\n",
              "      <td>No</td>\n",
              "      <td>No</td>\n",
              "      <td>One year</td>\n",
              "      <td>No</td>\n",
              "      <td>Bank transfer (automatic)</td>\n",
              "      <td>42.30</td>\n",
              "      <td>1840.75</td>\n",
              "      <td>No</td>\n",
              "    </tr>\n",
              "    <tr>\n",
              "      <th>4</th>\n",
              "      <td>9237-HQITU</td>\n",
              "      <td>Female</td>\n",
              "      <td>0</td>\n",
              "      <td>No</td>\n",
              "      <td>No</td>\n",
              "      <td>2</td>\n",
              "      <td>Yes</td>\n",
              "      <td>No</td>\n",
              "      <td>Fiber optic</td>\n",
              "      <td>No</td>\n",
              "      <td>...</td>\n",
              "      <td>No</td>\n",
              "      <td>No</td>\n",
              "      <td>No</td>\n",
              "      <td>No</td>\n",
              "      <td>Month-to-month</td>\n",
              "      <td>Yes</td>\n",
              "      <td>Electronic check</td>\n",
              "      <td>70.70</td>\n",
              "      <td>151.65</td>\n",
              "      <td>Yes</td>\n",
              "    </tr>\n",
              "    <tr>\n",
              "      <th>...</th>\n",
              "      <td>...</td>\n",
              "      <td>...</td>\n",
              "      <td>...</td>\n",
              "      <td>...</td>\n",
              "      <td>...</td>\n",
              "      <td>...</td>\n",
              "      <td>...</td>\n",
              "      <td>...</td>\n",
              "      <td>...</td>\n",
              "      <td>...</td>\n",
              "      <td>...</td>\n",
              "      <td>...</td>\n",
              "      <td>...</td>\n",
              "      <td>...</td>\n",
              "      <td>...</td>\n",
              "      <td>...</td>\n",
              "      <td>...</td>\n",
              "      <td>...</td>\n",
              "      <td>...</td>\n",
              "      <td>...</td>\n",
              "      <td>...</td>\n",
              "    </tr>\n",
              "    <tr>\n",
              "      <th>7038</th>\n",
              "      <td>6840-RESVB</td>\n",
              "      <td>Male</td>\n",
              "      <td>0</td>\n",
              "      <td>Yes</td>\n",
              "      <td>Yes</td>\n",
              "      <td>24</td>\n",
              "      <td>Yes</td>\n",
              "      <td>Yes</td>\n",
              "      <td>DSL</td>\n",
              "      <td>Yes</td>\n",
              "      <td>...</td>\n",
              "      <td>Yes</td>\n",
              "      <td>Yes</td>\n",
              "      <td>Yes</td>\n",
              "      <td>Yes</td>\n",
              "      <td>One year</td>\n",
              "      <td>Yes</td>\n",
              "      <td>Mailed check</td>\n",
              "      <td>84.80</td>\n",
              "      <td>1990.5</td>\n",
              "      <td>No</td>\n",
              "    </tr>\n",
              "    <tr>\n",
              "      <th>7039</th>\n",
              "      <td>2234-XADUH</td>\n",
              "      <td>Female</td>\n",
              "      <td>0</td>\n",
              "      <td>Yes</td>\n",
              "      <td>Yes</td>\n",
              "      <td>72</td>\n",
              "      <td>Yes</td>\n",
              "      <td>Yes</td>\n",
              "      <td>Fiber optic</td>\n",
              "      <td>No</td>\n",
              "      <td>...</td>\n",
              "      <td>Yes</td>\n",
              "      <td>No</td>\n",
              "      <td>Yes</td>\n",
              "      <td>Yes</td>\n",
              "      <td>One year</td>\n",
              "      <td>Yes</td>\n",
              "      <td>Credit card (automatic)</td>\n",
              "      <td>103.20</td>\n",
              "      <td>7362.9</td>\n",
              "      <td>No</td>\n",
              "    </tr>\n",
              "    <tr>\n",
              "      <th>7040</th>\n",
              "      <td>4801-JZAZL</td>\n",
              "      <td>Female</td>\n",
              "      <td>0</td>\n",
              "      <td>Yes</td>\n",
              "      <td>Yes</td>\n",
              "      <td>11</td>\n",
              "      <td>No</td>\n",
              "      <td>No phone service</td>\n",
              "      <td>DSL</td>\n",
              "      <td>Yes</td>\n",
              "      <td>...</td>\n",
              "      <td>No</td>\n",
              "      <td>No</td>\n",
              "      <td>No</td>\n",
              "      <td>No</td>\n",
              "      <td>Month-to-month</td>\n",
              "      <td>Yes</td>\n",
              "      <td>Electronic check</td>\n",
              "      <td>29.60</td>\n",
              "      <td>346.45</td>\n",
              "      <td>No</td>\n",
              "    </tr>\n",
              "    <tr>\n",
              "      <th>7041</th>\n",
              "      <td>8361-LTMKD</td>\n",
              "      <td>Male</td>\n",
              "      <td>1</td>\n",
              "      <td>Yes</td>\n",
              "      <td>No</td>\n",
              "      <td>4</td>\n",
              "      <td>Yes</td>\n",
              "      <td>Yes</td>\n",
              "      <td>Fiber optic</td>\n",
              "      <td>No</td>\n",
              "      <td>...</td>\n",
              "      <td>No</td>\n",
              "      <td>No</td>\n",
              "      <td>No</td>\n",
              "      <td>No</td>\n",
              "      <td>Month-to-month</td>\n",
              "      <td>Yes</td>\n",
              "      <td>Mailed check</td>\n",
              "      <td>74.40</td>\n",
              "      <td>306.6</td>\n",
              "      <td>Yes</td>\n",
              "    </tr>\n",
              "    <tr>\n",
              "      <th>7042</th>\n",
              "      <td>3186-AJIEK</td>\n",
              "      <td>Male</td>\n",
              "      <td>0</td>\n",
              "      <td>No</td>\n",
              "      <td>No</td>\n",
              "      <td>66</td>\n",
              "      <td>Yes</td>\n",
              "      <td>No</td>\n",
              "      <td>Fiber optic</td>\n",
              "      <td>Yes</td>\n",
              "      <td>...</td>\n",
              "      <td>Yes</td>\n",
              "      <td>Yes</td>\n",
              "      <td>Yes</td>\n",
              "      <td>Yes</td>\n",
              "      <td>Two year</td>\n",
              "      <td>Yes</td>\n",
              "      <td>Bank transfer (automatic)</td>\n",
              "      <td>105.65</td>\n",
              "      <td>6844.5</td>\n",
              "      <td>No</td>\n",
              "    </tr>\n",
              "  </tbody>\n",
              "</table>\n",
              "<p>7043 rows × 21 columns</p>\n",
              "</div>\n",
              "      <button class=\"colab-df-convert\" onclick=\"convertToInteractive('df-8c89e8ac-9097-4531-8aef-eab3fcc99bab')\"\n",
              "              title=\"Convert this dataframe to an interactive table.\"\n",
              "              style=\"display:none;\">\n",
              "        \n",
              "  <svg xmlns=\"http://www.w3.org/2000/svg\" height=\"24px\"viewBox=\"0 0 24 24\"\n",
              "       width=\"24px\">\n",
              "    <path d=\"M0 0h24v24H0V0z\" fill=\"none\"/>\n",
              "    <path d=\"M18.56 5.44l.94 2.06.94-2.06 2.06-.94-2.06-.94-.94-2.06-.94 2.06-2.06.94zm-11 1L8.5 8.5l.94-2.06 2.06-.94-2.06-.94L8.5 2.5l-.94 2.06-2.06.94zm10 10l.94 2.06.94-2.06 2.06-.94-2.06-.94-.94-2.06-.94 2.06-2.06.94z\"/><path d=\"M17.41 7.96l-1.37-1.37c-.4-.4-.92-.59-1.43-.59-.52 0-1.04.2-1.43.59L10.3 9.45l-7.72 7.72c-.78.78-.78 2.05 0 2.83L4 21.41c.39.39.9.59 1.41.59.51 0 1.02-.2 1.41-.59l7.78-7.78 2.81-2.81c.8-.78.8-2.07 0-2.86zM5.41 20L4 18.59l7.72-7.72 1.47 1.35L5.41 20z\"/>\n",
              "  </svg>\n",
              "      </button>\n",
              "      \n",
              "  <style>\n",
              "    .colab-df-container {\n",
              "      display:flex;\n",
              "      flex-wrap:wrap;\n",
              "      gap: 12px;\n",
              "    }\n",
              "\n",
              "    .colab-df-convert {\n",
              "      background-color: #E8F0FE;\n",
              "      border: none;\n",
              "      border-radius: 50%;\n",
              "      cursor: pointer;\n",
              "      display: none;\n",
              "      fill: #1967D2;\n",
              "      height: 32px;\n",
              "      padding: 0 0 0 0;\n",
              "      width: 32px;\n",
              "    }\n",
              "\n",
              "    .colab-df-convert:hover {\n",
              "      background-color: #E2EBFA;\n",
              "      box-shadow: 0px 1px 2px rgba(60, 64, 67, 0.3), 0px 1px 3px 1px rgba(60, 64, 67, 0.15);\n",
              "      fill: #174EA6;\n",
              "    }\n",
              "\n",
              "    [theme=dark] .colab-df-convert {\n",
              "      background-color: #3B4455;\n",
              "      fill: #D2E3FC;\n",
              "    }\n",
              "\n",
              "    [theme=dark] .colab-df-convert:hover {\n",
              "      background-color: #434B5C;\n",
              "      box-shadow: 0px 1px 3px 1px rgba(0, 0, 0, 0.15);\n",
              "      filter: drop-shadow(0px 1px 2px rgba(0, 0, 0, 0.3));\n",
              "      fill: #FFFFFF;\n",
              "    }\n",
              "  </style>\n",
              "\n",
              "      <script>\n",
              "        const buttonEl =\n",
              "          document.querySelector('#df-8c89e8ac-9097-4531-8aef-eab3fcc99bab button.colab-df-convert');\n",
              "        buttonEl.style.display =\n",
              "          google.colab.kernel.accessAllowed ? 'block' : 'none';\n",
              "\n",
              "        async function convertToInteractive(key) {\n",
              "          const element = document.querySelector('#df-8c89e8ac-9097-4531-8aef-eab3fcc99bab');\n",
              "          const dataTable =\n",
              "            await google.colab.kernel.invokeFunction('convertToInteractive',\n",
              "                                                     [key], {});\n",
              "          if (!dataTable) return;\n",
              "\n",
              "          const docLinkHtml = 'Like what you see? Visit the ' +\n",
              "            '<a target=\"_blank\" href=https://colab.research.google.com/notebooks/data_table.ipynb>data table notebook</a>'\n",
              "            + ' to learn more about interactive tables.';\n",
              "          element.innerHTML = '';\n",
              "          dataTable['output_type'] = 'display_data';\n",
              "          await google.colab.output.renderOutput(dataTable, element);\n",
              "          const docLink = document.createElement('div');\n",
              "          docLink.innerHTML = docLinkHtml;\n",
              "          element.appendChild(docLink);\n",
              "        }\n",
              "      </script>\n",
              "    </div>\n",
              "  </div>\n",
              "  "
            ]
          },
          "metadata": {},
          "execution_count": 103
        }
      ]
    },
    {
      "cell_type": "code",
      "source": [
        "model = Sequential()\n",
        "model.add(Dense(12, input_shape=(len(X_train[0]),), activation='relu'))\n",
        "model.add(Dense(8, activation='relu'))\n",
        "model.add(Dense(1, activation='softmax'))\n",
        "\n",
        "model.summary()"
      ],
      "metadata": {
        "id": "jXJEH-RASL9t",
        "colab": {
          "base_uri": "https://localhost:8080/"
        },
        "outputId": "e5e585de-7efa-4684-dad8-bdb149d41bdd"
      },
      "execution_count": 142,
      "outputs": [
        {
          "output_type": "stream",
          "name": "stdout",
          "text": [
            "Model: \"sequential_12\"\n",
            "_________________________________________________________________\n",
            " Layer (type)                Output Shape              Param #   \n",
            "=================================================================\n",
            " dense_30 (Dense)            (None, 12)                552       \n",
            "                                                                 \n",
            " dense_31 (Dense)            (None, 8)                 104       \n",
            "                                                                 \n",
            " dense_32 (Dense)            (None, 1)                 9         \n",
            "                                                                 \n",
            "=================================================================\n",
            "Total params: 665\n",
            "Trainable params: 665\n",
            "Non-trainable params: 0\n",
            "_________________________________________________________________\n"
          ]
        }
      ]
    },
    {
      "cell_type": "code",
      "source": [
        "from keras.optimizers import Adam\n",
        "# compile the keras model\n",
        "learning_rate = 0.01\n",
        "optimizer = Adam(learning_rate=learning_rate)\n",
        "\n",
        "model.compile(loss='binary_crossentropy', optimizer=optimizer, metrics=['accuracy'])"
      ],
      "metadata": {
        "id": "oVbeSpDGSL4k"
      },
      "execution_count": 145,
      "outputs": []
    },
    {
      "cell_type": "code",
      "source": [
        "history = model.fit(X_train, y_train, epochs=500, batch_size=int(len(df)/3))"
      ],
      "metadata": {
        "id": "Qxu3Qx17SbfV"
      },
      "execution_count": null,
      "outputs": []
    },
    {
      "cell_type": "code",
      "source": [
        "loss,accuracy = model.evaluate(X_train, y_train)\n",
        "print('Accuracy: %.2f' % (accuracy*100))"
      ],
      "metadata": {
        "id": "96rHkB3TShtN",
        "colab": {
          "base_uri": "https://localhost:8080/"
        },
        "outputId": "36bb3944-8143-4eff-9892-f165a480f13f"
      },
      "execution_count": 56,
      "outputs": [
        {
          "output_type": "stream",
          "name": "stdout",
          "text": [
            "118/118 [==============================] - 0s 2ms/step - loss: 0.4336 - accuracy: 0.7999\n",
            "Accuracy: 79.99\n"
          ]
        }
      ]
    },
    {
      "cell_type": "code",
      "source": [
        "model.history"
      ],
      "metadata": {
        "id": "tXSvWGKeSins",
        "colab": {
          "base_uri": "https://localhost:8080/"
        },
        "outputId": "9c10900a-c861-4770-f612-8ac1a6d9a1dd"
      },
      "execution_count": 57,
      "outputs": [
        {
          "output_type": "execute_result",
          "data": {
            "text/plain": [
              "<keras.callbacks.History at 0x7ff6226bceb0>"
            ]
          },
          "metadata": {},
          "execution_count": 57
        }
      ]
    },
    {
      "cell_type": "code",
      "source": [
        "import matplotlib.pyplot as plt\n",
        "\n",
        "plt.plot(history.history[\"loss\"])\n",
        "plt.title(\"model loss\")\n",
        "plt.ylabel(\"loss\")\n",
        "plt.xlabel(\"epoch\")\n",
        "plt.legend([\"train\"], loc=\"upper right\")\n",
        "plt.show()\n"
      ],
      "metadata": {
        "id": "PbV9jz6mSjhk",
        "colab": {
          "base_uri": "https://localhost:8080/",
          "height": 295
        },
        "outputId": "8dab82c6-160c-4b71-febc-70c00c764084"
      },
      "execution_count": 116,
      "outputs": [
        {
          "output_type": "display_data",
          "data": {
            "text/plain": [
              "<Figure size 432x288 with 1 Axes>"
            ],
            "image/png": "[encoded data removed]"
          },
          "metadata": {
            "needs_background": "light"
          }
        }
      ]
    },
    {
      "cell_type": "code",
      "source": [
        "import matplotlib.pyplot as plt\n",
        "\n",
        "plt.plot(history.history[\"accuracy\"])\n",
        "plt.title(\"model accuracy\")\n",
        "plt.ylabel(\"accuracy\")\n",
        "plt.xlabel(\"epoch\")\n",
        "plt.legend([\"train\"], loc=\"upper right\")\n",
        "plt.show()\n"
      ],
      "metadata": {
        "id": "b7PLj2vwSknc",
        "colab": {
          "base_uri": "https://localhost:8080/",
          "height": 295
        },
        "outputId": "8437f063-26cf-488f-e7ec-8afa1c2ec969"
      },
      "execution_count": 117,
      "outputs": [
        {
          "output_type": "display_data",
          "data": {
            "text/plain": [
              "<Figure size 432x288 with 1 Axes>"
            ],
            "image/png": "[encoded data removed]"
          },
          "metadata": {
            "needs_background": "light"
          }
        }
      ]
    },
    {
      "cell_type": "code",
      "source": [
        "dataset1 = pd.read_csv('churn.csv')\n",
        "dataset1"
      ],
      "metadata": {
        "colab": {
          "base_uri": "https://localhost:8080/",
          "height": 661
        },
        "id": "j71E7dEPq6ZN",
        "outputId": "008dc202-6211-4ef4-8cd8-099fce49406b"
      },
      "execution_count": 83,
      "outputs": [
        {
          "output_type": "execute_result",
          "data": {
            "text/plain": [
              "      customerID  gender  SeniorCitizen Partner Dependents  tenure  \\\n",
              "0     7590-VHVEG  Female              0     Yes         No       1   \n",
              "1     5575-GNVDE    Male              0      No         No      34   \n",
              "2     3668-QPYBK    Male              0      No         No       2   \n",
              "3     7795-CFOCW    Male              0      No         No      45   \n",
              "4     9237-HQITU  Female              0      No         No       2   \n",
              "...          ...     ...            ...     ...        ...     ...   \n",
              "7038  6840-RESVB    Male              0     Yes        Yes      24   \n",
              "7039  2234-XADUH  Female              0     Yes        Yes      72   \n",
              "7040  4801-JZAZL  Female              0     Yes        Yes      11   \n",
              "7041  8361-LTMKD    Male              1     Yes         No       4   \n",
              "7042  3186-AJIEK    Male              0      No         No      66   \n",
              "\n",
              "     PhoneService     MultipleLines InternetService OnlineSecurity  ...  \\\n",
              "0              No  No phone service             DSL             No  ...   \n",
              "1             Yes                No             DSL            Yes  ...   \n",
              "2             Yes                No             DSL            Yes  ...   \n",
              "3              No  No phone service             DSL            Yes  ...   \n",
              "4             Yes                No     Fiber optic             No  ...   \n",
              "...           ...               ...             ...            ...  ...   \n",
              "7038          Yes               Yes             DSL            Yes  ...   \n",
              "7039          Yes               Yes     Fiber optic             No  ...   \n",
              "7040           No  No phone service             DSL            Yes  ...   \n",
              "7041          Yes               Yes     Fiber optic             No  ...   \n",
              "7042          Yes                No     Fiber optic            Yes  ...   \n",
              "\n",
              "     DeviceProtection TechSupport StreamingTV StreamingMovies        Contract  \\\n",
              "0                  No          No          No              No  Month-to-month   \n",
              "1                 Yes          No          No              No        One year   \n",
              "2                  No          No          No              No  Month-to-month   \n",
              "3                 Yes         Yes          No              No        One year   \n",
              "4                  No          No          No              No  Month-to-month   \n",
              "...               ...         ...         ...             ...             ...   \n",
              "7038              Yes         Yes         Yes             Yes        One year   \n",
              "7039              Yes          No         Yes             Yes        One year   \n",
              "7040               No          No          No              No  Month-to-month   \n",
              "7041               No          No          No              No  Month-to-month   \n",
              "7042              Yes         Yes         Yes             Yes        Two year   \n",
              "\n",
              "     PaperlessBilling              PaymentMethod MonthlyCharges  TotalCharges  \\\n",
              "0                 Yes           Electronic check          29.85         29.85   \n",
              "1                  No               Mailed check          56.95        1889.5   \n",
              "2                 Yes               Mailed check          53.85        108.15   \n",
              "3                  No  Bank transfer (automatic)          42.30       1840.75   \n",
              "4                 Yes           Electronic check          70.70        151.65   \n",
              "...               ...                        ...            ...           ...   \n",
              "7038              Yes               Mailed check          84.80        1990.5   \n",
              "7039              Yes    Credit card (automatic)         103.20        7362.9   \n",
              "7040              Yes           Electronic check          29.60        346.45   \n",
              "7041              Yes               Mailed check          74.40         306.6   \n",
              "7042              Yes  Bank transfer (automatic)         105.65        6844.5   \n",
              "\n",
              "     Churn  \n",
              "0       No  \n",
              "1       No  \n",
              "2      Yes  \n",
              "3       No  \n",
              "4      Yes  \n",
              "...    ...  \n",
              "7038    No  \n",
              "7039    No  \n",
              "7040    No  \n",
              "7041   Yes  \n",
              "7042    No  \n",
              "\n",
              "[7043 rows x 21 columns]"
            ],
            "text/html": [
              "\n",
              "  <div id=\"df-f426d57b-d70c-46a4-ac14-cb1279c18549\">\n",
              "    <div class=\"colab-df-container\">\n",
              "      <div>\n",
              "<style scoped>\n",
              "    .dataframe tbody tr th:only-of-type {\n",
              "        vertical-align: middle;\n",
              "    }\n",
              "\n",
              "    .dataframe tbody tr th {\n",
              "        vertical-align: top;\n",
              "    }\n",
              "\n",
              "    .dataframe thead th {\n",
              "        text-align: right;\n",
              "    }\n",
              "</style>\n",
              "<table border=\"1\" class=\"dataframe\">\n",
              "  <thead>\n",
              "    <tr style=\"text-align: right;\">\n",
              "      <th></th>\n",
              "      <th>customerID</th>\n",
              "      <th>gender</th>\n",
              "      <th>SeniorCitizen</th>\n",
              "      <th>Partner</th>\n",
              "      <th>Dependents</th>\n",
              "      <th>tenure</th>\n",
              "      <th>PhoneService</th>\n",
              "      <th>MultipleLines</th>\n",
              "      <th>InternetService</th>\n",
              "      <th>OnlineSecurity</th>\n",
              "      <th>...</th>\n",
              "      <th>DeviceProtection</th>\n",
              "      <th>TechSupport</th>\n",
              "      <th>StreamingTV</th>\n",
              "      <th>StreamingMovies</th>\n",
              "      <th>Contract</th>\n",
              "      <th>PaperlessBilling</th>\n",
              "      <th>PaymentMethod</th>\n",
              "      <th>MonthlyCharges</th>\n",
              "      <th>TotalCharges</th>\n",
              "      <th>Churn</th>\n",
              "    </tr>\n",
              "  </thead>\n",
              "  <tbody>\n",
              "    <tr>\n",
              "      <th>0</th>\n",
              "      <td>7590-VHVEG</td>\n",
              "      <td>Female</td>\n",
              "      <td>0</td>\n",
              "      <td>Yes</td>\n",
              "      <td>No</td>\n",
              "      <td>1</td>\n",
              "      <td>No</td>\n",
              "      <td>No phone service</td>\n",
              "      <td>DSL</td>\n",
              "      <td>No</td>\n",
              "      <td>...</td>\n",
              "      <td>No</td>\n",
              "      <td>No</td>\n",
              "      <td>No</td>\n",
              "      <td>No</td>\n",
              "      <td>Month-to-month</td>\n",
              "      <td>Yes</td>\n",
              "      <td>Electronic check</td>\n",
              "      <td>29.85</td>\n",
              "      <td>29.85</td>\n",
              "      <td>No</td>\n",
              "    </tr>\n",
              "    <tr>\n",
              "      <th>1</th>\n",
              "      <td>5575-GNVDE</td>\n",
              "      <td>Male</td>\n",
              "      <td>0</td>\n",
              "      <td>No</td>\n",
              "      <td>No</td>\n",
              "      <td>34</td>\n",
              "      <td>Yes</td>\n",
              "      <td>No</td>\n",
              "      <td>DSL</td>\n",
              "      <td>Yes</td>\n",
              "      <td>...</td>\n",
              "      <td>Yes</td>\n",
              "      <td>No</td>\n",
              "      <td>No</td>\n",
              "      <td>No</td>\n",
              "      <td>One year</td>\n",
              "      <td>No</td>\n",
              "      <td>Mailed check</td>\n",
              "      <td>56.95</td>\n",
              "      <td>1889.5</td>\n",
              "      <td>No</td>\n",
              "    </tr>\n",
              "    <tr>\n",
              "      <th>2</th>\n",
              "      <td>3668-QPYBK</td>\n",
              "      <td>Male</td>\n",
              "      <td>0</td>\n",
              "      <td>No</td>\n",
              "      <td>No</td>\n",
              "      <td>2</td>\n",
              "      <td>Yes</td>\n",
              "      <td>No</td>\n",
              "      <td>DSL</td>\n",
              "      <td>Yes</td>\n",
              "      <td>...</td>\n",
              "      <td>No</td>\n",
              "      <td>No</td>\n",
              "      <td>No</td>\n",
              "      <td>No</td>\n",
              "      <td>Month-to-month</td>\n",
              "      <td>Yes</td>\n",
              "      <td>Mailed check</td>\n",
              "      <td>53.85</td>\n",
              "      <td>108.15</td>\n",
              "      <td>Yes</td>\n",
              "    </tr>\n",
              "    <tr>\n",
              "      <th>3</th>\n",
              "      <td>7795-CFOCW</td>\n",
              "      <td>Male</td>\n",
              "      <td>0</td>\n",
              "      <td>No</td>\n",
              "      <td>No</td>\n",
              "      <td>45</td>\n",
              "      <td>No</td>\n",
              "      <td>No phone service</td>\n",
              "      <td>DSL</td>\n",
              "      <td>Yes</td>\n",
              "      <td>...</td>\n",
              "      <td>Yes</td>\n",
              "      <td>Yes</td>\n",
              "      <td>No</td>\n",
              "      <td>No</td>\n",
              "      <td>One year</td>\n",
              "      <td>No</td>\n",
              "      <td>Bank transfer (automatic)</td>\n",
              "      <td>42.30</td>\n",
              "      <td>1840.75</td>\n",
              "      <td>No</td>\n",
              "    </tr>\n",
              "    <tr>\n",
              "      <th>4</th>\n",
              "      <td>9237-HQITU</td>\n",
              "      <td>Female</td>\n",
              "      <td>0</td>\n",
              "      <td>No</td>\n",
              "      <td>No</td>\n",
              "      <td>2</td>\n",
              "      <td>Yes</td>\n",
              "      <td>No</td>\n",
              "      <td>Fiber optic</td>\n",
              "      <td>No</td>\n",
              "      <td>...</td>\n",
              "      <td>No</td>\n",
              "      <td>No</td>\n",
              "      <td>No</td>\n",
              "      <td>No</td>\n",
              "      <td>Month-to-month</td>\n",
              "      <td>Yes</td>\n",
              "      <td>Electronic check</td>\n",
              "      <td>70.70</td>\n",
              "      <td>151.65</td>\n",
              "      <td>Yes</td>\n",
              "    </tr>\n",
              "    <tr>\n",
              "      <th>...</th>\n",
              "      <td>...</td>\n",
              "      <td>...</td>\n",
              "      <td>...</td>\n",
              "      <td>...</td>\n",
              "      <td>...</td>\n",
              "      <td>...</td>\n",
              "      <td>...</td>\n",
              "      <td>...</td>\n",
              "      <td>...</td>\n",
              "      <td>...</td>\n",
              "      <td>...</td>\n",
              "      <td>...</td>\n",
              "      <td>...</td>\n",
              "      <td>...</td>\n",
              "      <td>...</td>\n",
              "      <td>...</td>\n",
              "      <td>...</td>\n",
              "      <td>...</td>\n",
              "      <td>...</td>\n",
              "      <td>...</td>\n",
              "      <td>...</td>\n",
              "    </tr>\n",
              "    <tr>\n",
              "      <th>7038</th>\n",
              "      <td>6840-RESVB</td>\n",
              "      <td>Male</td>\n",
              "      <td>0</td>\n",
              "      <td>Yes</td>\n",
              "      <td>Yes</td>\n",
              "      <td>24</td>\n",
              "      <td>Yes</td>\n",
              "      <td>Yes</td>\n",
              "      <td>DSL</td>\n",
              "      <td>Yes</td>\n",
              "      <td>...</td>\n",
              "      <td>Yes</td>\n",
              "      <td>Yes</td>\n",
              "      <td>Yes</td>\n",
              "      <td>Yes</td>\n",
              "      <td>One year</td>\n",
              "      <td>Yes</td>\n",
              "      <td>Mailed check</td>\n",
              "      <td>84.80</td>\n",
              "      <td>1990.5</td>\n",
              "      <td>No</td>\n",
              "    </tr>\n",
              "    <tr>\n",
              "      <th>7039</th>\n",
              "      <td>2234-XADUH</td>\n",
              "      <td>Female</td>\n",
              "      <td>0</td>\n",
              "      <td>Yes</td>\n",
              "      <td>Yes</td>\n",
              "      <td>72</td>\n",
              "      <td>Yes</td>\n",
              "      <td>Yes</td>\n",
              "      <td>Fiber optic</td>\n",
              "      <td>No</td>\n",
              "      <td>...</td>\n",
              "      <td>Yes</td>\n",
              "      <td>No</td>\n",
              "      <td>Yes</td>\n",
              "      <td>Yes</td>\n",
              "      <td>One year</td>\n",
              "      <td>Yes</td>\n",
              "      <td>Credit card (automatic)</td>\n",
              "      <td>103.20</td>\n",
              "      <td>7362.9</td>\n",
              "      <td>No</td>\n",
              "    </tr>\n",
              "    <tr>\n",
              "      <th>7040</th>\n",
              "      <td>4801-JZAZL</td>\n",
              "      <td>Female</td>\n",
              "      <td>0</td>\n",
              "      <td>Yes</td>\n",
              "      <td>Yes</td>\n",
              "      <td>11</td>\n",
              "      <td>No</td>\n",
              "      <td>No phone service</td>\n",
              "      <td>DSL</td>\n",
              "      <td>Yes</td>\n",
              "      <td>...</td>\n",
              "      <td>No</td>\n",
              "      <td>No</td>\n",
              "      <td>No</td>\n",
              "      <td>No</td>\n",
              "      <td>Month-to-month</td>\n",
              "      <td>Yes</td>\n",
              "      <td>Electronic check</td>\n",
              "      <td>29.60</td>\n",
              "      <td>346.45</td>\n",
              "      <td>No</td>\n",
              "    </tr>\n",
              "    <tr>\n",
              "      <th>7041</th>\n",
              "      <td>8361-LTMKD</td>\n",
              "      <td>Male</td>\n",
              "      <td>1</td>\n",
              "      <td>Yes</td>\n",
              "      <td>No</td>\n",
              "      <td>4</td>\n",
              "      <td>Yes</td>\n",
              "      <td>Yes</td>\n",
              "      <td>Fiber optic</td>\n",
              "      <td>No</td>\n",
              "      <td>...</td>\n",
              "      <td>No</td>\n",
              "      <td>No</td>\n",
              "      <td>No</td>\n",
              "      <td>No</td>\n",
              "      <td>Month-to-month</td>\n",
              "      <td>Yes</td>\n",
              "      <td>Mailed check</td>\n",
              "      <td>74.40</td>\n",
              "      <td>306.6</td>\n",
              "      <td>Yes</td>\n",
              "    </tr>\n",
              "    <tr>\n",
              "      <th>7042</th>\n",
              "      <td>3186-AJIEK</td>\n",
              "      <td>Male</td>\n",
              "      <td>0</td>\n",
              "      <td>No</td>\n",
              "      <td>No</td>\n",
              "      <td>66</td>\n",
              "      <td>Yes</td>\n",
              "      <td>No</td>\n",
              "      <td>Fiber optic</td>\n",
              "      <td>Yes</td>\n",
              "      <td>...</td>\n",
              "      <td>Yes</td>\n",
              "      <td>Yes</td>\n",
              "      <td>Yes</td>\n",
              "      <td>Yes</td>\n",
              "      <td>Two year</td>\n",
              "      <td>Yes</td>\n",
              "      <td>Bank transfer (automatic)</td>\n",
              "      <td>105.65</td>\n",
              "      <td>6844.5</td>\n",
              "      <td>No</td>\n",
              "    </tr>\n",
              "  </tbody>\n",
              "</table>\n",
              "<p>7043 rows × 21 columns</p>\n",
              "</div>\n",
              "      <button class=\"colab-df-convert\" onclick=\"convertToInteractive('df-f426d57b-d70c-46a4-ac14-cb1279c18549')\"\n",
              "              title=\"Convert this dataframe to an interactive table.\"\n",
              "              style=\"display:none;\">\n",
              "        \n",
              "  <svg xmlns=\"http://www.w3.org/2000/svg\" height=\"24px\"viewBox=\"0 0 24 24\"\n",
              "       width=\"24px\">\n",
              "    <path d=\"M0 0h24v24H0V0z\" fill=\"none\"/>\n",
              "    <path d=\"M18.56 5.44l.94 2.06.94-2.06 2.06-.94-2.06-.94-.94-2.06-.94 2.06-2.06.94zm-11 1L8.5 8.5l.94-2.06 2.06-.94-2.06-.94L8.5 2.5l-.94 2.06-2.06.94zm10 10l.94 2.06.94-2.06 2.06-.94-2.06-.94-.94-2.06-.94 2.06-2.06.94z\"/><path d=\"M17.41 7.96l-1.37-1.37c-.4-.4-.92-.59-1.43-.59-.52 0-1.04.2-1.43.59L10.3 9.45l-7.72 7.72c-.78.78-.78 2.05 0 2.83L4 21.41c.39.39.9.59 1.41.59.51 0 1.02-.2 1.41-.59l7.78-7.78 2.81-2.81c.8-.78.8-2.07 0-2.86zM5.41 20L4 18.59l7.72-7.72 1.47 1.35L5.41 20z\"/>\n",
              "  </svg>\n",
              "      </button>\n",
              "      \n",
              "  <style>\n",
              "    .colab-df-container {\n",
              "      display:flex;\n",
              "      flex-wrap:wrap;\n",
              "      gap: 12px;\n",
              "    }\n",
              "\n",
              "    .colab-df-convert {\n",
              "      background-color: #E8F0FE;\n",
              "      border: none;\n",
              "      border-radius: 50%;\n",
              "      cursor: pointer;\n",
              "      display: none;\n",
              "      fill: #1967D2;\n",
              "      height: 32px;\n",
              "      padding: 0 0 0 0;\n",
              "      width: 32px;\n",
              "    }\n",
              "\n",
              "    .colab-df-convert:hover {\n",
              "      background-color: #E2EBFA;\n",
              "      box-shadow: 0px 1px 2px rgba(60, 64, 67, 0.3), 0px 1px 3px 1px rgba(60, 64, 67, 0.15);\n",
              "      fill: #174EA6;\n",
              "    }\n",
              "\n",
              "    [theme=dark] .colab-df-convert {\n",
              "      background-color: #3B4455;\n",
              "      fill: #D2E3FC;\n",
              "    }\n",
              "\n",
              "    [theme=dark] .colab-df-convert:hover {\n",
              "      background-color: #434B5C;\n",
              "      box-shadow: 0px 1px 3px 1px rgba(0, 0, 0, 0.15);\n",
              "      filter: drop-shadow(0px 1px 2px rgba(0, 0, 0, 0.3));\n",
              "      fill: #FFFFFF;\n",
              "    }\n",
              "  </style>\n",
              "\n",
              "      <script>\n",
              "        const buttonEl =\n",
              "          document.querySelector('#df-f426d57b-d70c-46a4-ac14-cb1279c18549 button.colab-df-convert');\n",
              "        buttonEl.style.display =\n",
              "          google.colab.kernel.accessAllowed ? 'block' : 'none';\n",
              "\n",
              "        async function convertToInteractive(key) {\n",
              "          const element = document.querySelector('#df-f426d57b-d70c-46a4-ac14-cb1279c18549');\n",
              "          const dataTable =\n",
              "            await google.colab.kernel.invokeFunction('convertToInteractive',\n",
              "                                                     [key], {});\n",
              "          if (!dataTable) return;\n",
              "\n",
              "          const docLinkHtml = 'Like what you see? Visit the ' +\n",
              "            '<a target=\"_blank\" href=https://colab.research.google.com/notebooks/data_table.ipynb>data table notebook</a>'\n",
              "            + ' to learn more about interactive tables.';\n",
              "          element.innerHTML = '';\n",
              "          dataTable['output_type'] = 'display_data';\n",
              "          await google.colab.output.renderOutput(dataTable, element);\n",
              "          const docLink = document.createElement('div');\n",
              "          docLink.innerHTML = docLinkHtml;\n",
              "          element.appendChild(docLink);\n",
              "        }\n",
              "      </script>\n",
              "    </div>\n",
              "  </div>\n",
              "  "
            ]
          },
          "metadata": {},
          "execution_count": 83
        }
      ]
    },
    {
      "cell_type": "code",
      "source": [
        "y2= pd.DataFrame(y_train,columns=[\"churn\"])\n",
        "target_dummies = pd.get_dummies(y2['churn'])"
      ],
      "metadata": {
        "id": "bE0519e-rHZd"
      },
      "execution_count": 132,
      "outputs": []
    },
    {
      "cell_type": "code",
      "source": [
        "model = Sequential()\n",
        "model.add(Dense(12, input_shape=(len(X_train[0]),), activation='relu'))\n",
        "model.add(Dense(8, activation='relu'))\n",
        "model.add(Dense(2, activation='softmax'))\n",
        "\n",
        "model.summary()"
      ],
      "metadata": {
        "colab": {
          "base_uri": "https://localhost:8080/"
        },
        "id": "i8cVLx_bv4wx",
        "outputId": "4bf55f3c-a58e-4707-90fd-b50137cf58b8"
      },
      "execution_count": 149,
      "outputs": [
        {
          "output_type": "stream",
          "name": "stdout",
          "text": [
            "Model: \"sequential_13\"\n",
            "_________________________________________________________________\n",
            " Layer (type)                Output Shape              Param #   \n",
            "=================================================================\n",
            " dense_33 (Dense)            (None, 12)                552       \n",
            "                                                                 \n",
            " dense_34 (Dense)            (None, 8)                 104       \n",
            "                                                                 \n",
            " dense_35 (Dense)            (None, 2)                 18        \n",
            "                                                                 \n",
            "=================================================================\n",
            "Total params: 674\n",
            "Trainable params: 674\n",
            "Non-trainable params: 0\n",
            "_________________________________________________________________\n"
          ]
        }
      ]
    },
    {
      "cell_type": "code",
      "source": [
        "from keras.optimizers import Adam\n",
        "# compile the keras model\n",
        "learning_rate = 0.01\n",
        "optimizer = Adam(learning_rate=learning_rate)\n",
        "\n",
        "model.compile(loss='binary_crossentropy', optimizer=optimizer, metrics=['accuracy'])"
      ],
      "metadata": {
        "id": "0BLg64N6xYyo"
      },
      "execution_count": 150,
      "outputs": []
    },
    {
      "cell_type": "code",
      "source": [
        "history = model.fit(X_train,target_dummies, epochs=500, batch_size=int(len(df)/3))"
      ],
      "metadata": {
        "id": "am3qlhclxf_R"
      },
      "execution_count": null,
      "outputs": []
    },
    {
      "cell_type": "code",
      "source": [
        "loss,accuracy = model.evaluate(X_train,target_dummies)\n",
        "print('Accuracy: %.2f' % (accuracy*100))"
      ],
      "metadata": {
        "colab": {
          "base_uri": "https://localhost:8080/"
        },
        "id": "oGXP4Tpyx_Cw",
        "outputId": "b5bcfbab-7ecc-46a4-9c53-8c340519e9b0"
      },
      "execution_count": 152,
      "outputs": [
        {
          "output_type": "stream",
          "name": "stdout",
          "text": [
            "118/118 [==============================] - 1s 3ms/step - loss: 1.6361 - accuracy: 0.7798\n",
            "Accuracy: 77.98\n"
          ]
        }
      ]
    },
    {
      "cell_type": "code",
      "source": [
        "model.history"
      ],
      "metadata": {
        "colab": {
          "base_uri": "https://localhost:8080/"
        },
        "id": "5HzMZ0THyBiW",
        "outputId": "6a7ccc1a-de55-492b-d857-72d3a7e6747b"
      },
      "execution_count": 153,
      "outputs": [
        {
          "output_type": "execute_result",
          "data": {
            "text/plain": [
              "<keras.callbacks.History at 0x7ff6195bf820>"
            ]
          },
          "metadata": {},
          "execution_count": 153
        }
      ]
    },
    {
      "cell_type": "code",
      "source": [
        "import matplotlib.pyplot as plt\n",
        "\n",
        "plt.plot(history.history[\"loss\"])\n",
        "plt.title(\"model loss\")\n",
        "plt.ylabel(\"loss\")\n",
        "plt.xlabel(\"epoch\")\n",
        "plt.legend([\"train\"], loc=\"upper right\")\n",
        "plt.show()"
      ],
      "metadata": {
        "colab": {
          "base_uri": "https://localhost:8080/",
          "height": 295
        },
        "id": "Nsbb5bwXyYnA",
        "outputId": "2663837a-67b0-4edb-fce8-08a14371f5d5"
      },
      "execution_count": 154,
      "outputs": [
        {
          "output_type": "display_data",
          "data": {
            "text/plain": [
              "<Figure size 432x288 with 1 Axes>"
            ],
            "image/png": "[encoded data removed]"
          },
          "metadata": {
            "needs_background": "light"
          }
        }
      ]
    },
    {
      "cell_type": "code",
      "source": [
        "import matplotlib.pyplot as plt\n",
        "\n",
        "plt.plot(history.history[\"accuracy\"])\n",
        "plt.title(\"model accuracy\")\n",
        "plt.ylabel(\"accuracy\")\n",
        "plt.xlabel(\"epoch\")\n",
        "plt.legend([\"train\"], loc=\"upper right\")\n",
        "plt.show()"
      ],
      "metadata": {
        "colab": {
          "base_uri": "https://localhost:8080/",
          "height": 295
        },
        "id": "G-YoH0Oh028N",
        "outputId": "c2ba2773-c3dc-4121-d32d-dd18fb0aced8"
      },
      "execution_count": 155,
      "outputs": [
        {
          "output_type": "display_data",
          "data": {
            "text/plain": [
              "<Figure size 432x288 with 1 Axes>"
            ],
            "image/png": "[encoded data removed]"
          },
          "metadata": {
            "needs_background": "light"
          }
        }
      ]
    }
  ]
}